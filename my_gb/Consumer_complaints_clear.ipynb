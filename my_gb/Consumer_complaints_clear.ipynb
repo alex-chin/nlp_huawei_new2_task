{
 "cells": [
  {
   "cell_type": "markdown",
   "source": [
    "# Чтение данных"
   ],
   "metadata": {
    "collapsed": false
   }
  },
  {
   "cell_type": "code",
   "execution_count": 20,
   "metadata": {
    "ExecuteTime": {
     "end_time": "2024-03-24T14:43:46.167331Z",
     "start_time": "2024-03-24T14:43:44.958857Z"
    }
   },
   "outputs": [],
   "source": [
    "import pandas as pd\n",
    "import os\n",
    "from sklearn.preprocessing import LabelEncoder\n",
    "import nltk"
   ]
  },
  {
   "cell_type": "code",
   "outputs": [],
   "source": [
    "PATH = \"../\""
   ],
   "metadata": {
    "collapsed": false,
    "ExecuteTime": {
     "end_time": "2024-03-24T14:24:18.404766Z",
     "start_time": "2024-03-24T14:24:18.401755Z"
    }
   },
   "execution_count": 11
  },
  {
   "cell_type": "code",
   "outputs": [],
   "source": [
    "df = pd.read_csv(os.path.join(PATH, \"train.csv\"))\n",
    "test = pd.read_csv(os.path.join(PATH, \"test.csv\"))"
   ],
   "metadata": {
    "collapsed": false,
    "ExecuteTime": {
     "end_time": "2024-03-24T14:30:26.639723Z",
     "start_time": "2024-03-24T14:30:26.319410Z"
    }
   },
   "execution_count": 14
  },
  {
   "cell_type": "code",
   "execution_count": 15,
   "metadata": {
    "ExecuteTime": {
     "end_time": "2024-03-24T14:30:27.865805Z",
     "start_time": "2024-03-24T14:30:27.840946Z"
    }
   },
   "outputs": [
    {
     "name": "stdout",
     "output_type": "stream",
     "text": [
      "<class 'pandas.core.frame.DataFrame'>\n",
      "RangeIndex: 48665 entries, 0 to 48664\n",
      "Data columns (total 2 columns):\n",
      " #   Column  Non-Null Count  Dtype \n",
      "---  ------  --------------  ----- \n",
      " 0   rate    48665 non-null  int64 \n",
      " 1   text    48665 non-null  object\n",
      "dtypes: int64(1), object(1)\n",
      "memory usage: 760.5+ KB\n"
     ]
    }
   ],
   "source": [
    "df.info()"
   ]
  },
  {
   "cell_type": "code",
   "outputs": [],
   "source": [],
   "metadata": {
    "collapsed": false
   }
  },
  {
   "cell_type": "code",
   "outputs": [
    {
     "data": {
      "text/plain": "   rate                                               text\n0     3  Очень понравилось. Были в начале марта  с соба...\n1     4  В целом магазин устраивает.\\nАссортимент позво...\n2     4  Очень хорошо что открылась 5 ка, теперь не над...\n3     2  Пятёрочка громко объявила о том как она заботи...\n4     2  Тесно, вечная сутолока, между рядами трудно ра...",
      "text/html": "<div>\n<style scoped>\n    .dataframe tbody tr th:only-of-type {\n        vertical-align: middle;\n    }\n\n    .dataframe tbody tr th {\n        vertical-align: top;\n    }\n\n    .dataframe thead th {\n        text-align: right;\n    }\n</style>\n<table border=\"1\" class=\"dataframe\">\n  <thead>\n    <tr style=\"text-align: right;\">\n      <th></th>\n      <th>rate</th>\n      <th>text</th>\n    </tr>\n  </thead>\n  <tbody>\n    <tr>\n      <th>0</th>\n      <td>3</td>\n      <td>Очень понравилось. Были в начале марта  с соба...</td>\n    </tr>\n    <tr>\n      <th>1</th>\n      <td>4</td>\n      <td>В целом магазин устраивает.\\nАссортимент позво...</td>\n    </tr>\n    <tr>\n      <th>2</th>\n      <td>4</td>\n      <td>Очень хорошо что открылась 5 ка, теперь не над...</td>\n    </tr>\n    <tr>\n      <th>3</th>\n      <td>2</td>\n      <td>Пятёрочка громко объявила о том как она заботи...</td>\n    </tr>\n    <tr>\n      <th>4</th>\n      <td>2</td>\n      <td>Тесно, вечная сутолока, между рядами трудно ра...</td>\n    </tr>\n  </tbody>\n</table>\n</div>"
     },
     "execution_count": 17,
     "metadata": {},
     "output_type": "execute_result"
    }
   ],
   "source": [
    "df.rate = LabelEncoder().fit_transform(df.rate)\n",
    "df.head()"
   ],
   "metadata": {
    "collapsed": false,
    "ExecuteTime": {
     "end_time": "2024-03-24T14:33:01.369553Z",
     "start_time": "2024-03-24T14:33:01.359692Z"
    }
   },
   "execution_count": 17
  },
  {
   "cell_type": "code",
   "execution_count": 18,
   "metadata": {
    "ExecuteTime": {
     "end_time": "2024-03-24T14:35:46.472731Z",
     "start_time": "2024-03-24T14:35:46.359206Z"
    }
   },
   "outputs": [
    {
     "data": {
      "text/plain": "<Figure size 800x600 with 1 Axes>",
      "image/png": "[encoded data removed]"
     },
     "metadata": {},
     "output_type": "display_data"
    }
   ],
   "source": [
    "import matplotlib.pyplot as plt\n",
    "fig = plt.figure(figsize=(8,6))\n",
    "df.groupby('rate').text.count().plot.bar(ylim=0)\n",
    "plt.show()"
   ]
  },
  {
   "cell_type": "code",
   "outputs": [],
   "source": [
    "stopwords = nltk.corpus.stopwords.words(\"russian\")"
   ],
   "metadata": {
    "collapsed": false,
    "ExecuteTime": {
     "end_time": "2024-03-24T14:43:50.808957Z",
     "start_time": "2024-03-24T14:43:50.794636Z"
    }
   },
   "execution_count": 21
  },
  {
   "cell_type": "code",
   "execution_count": 22,
   "metadata": {
    "ExecuteTime": {
     "end_time": "2024-03-24T14:44:04.432609Z",
     "start_time": "2024-03-24T14:44:02.058206Z"
    }
   },
   "outputs": [
    {
     "data": {
      "text/plain": "(48665, 20337)"
     },
     "execution_count": 22,
     "metadata": {},
     "output_type": "execute_result"
    }
   ],
   "source": [
    "from sklearn.feature_extraction.text import TfidfVectorizer\n",
    "\n",
    "tfidf = TfidfVectorizer(sublinear_tf=True, min_df=5, norm='l2', encoding='latin-1', ngram_range=(1, 2), stop_words=stopwords)\n",
    "\n",
    "features = tfidf.fit_transform(df.text).toarray()\n",
    "labels = df.rate\n",
    "features.shape"
   ]
  },
  {
   "cell_type": "code",
   "outputs": [
    {
     "data": {
      "text/plain": "[0, 1, 2, 3, 4]"
     },
     "execution_count": 23,
     "metadata": {},
     "output_type": "execute_result"
    }
   ],
   "source": [
    "list(range(0,5))"
   ],
   "metadata": {
    "collapsed": false,
    "ExecuteTime": {
     "end_time": "2024-03-24T14:45:42.958392Z",
     "start_time": "2024-03-24T14:45:42.953659Z"
    }
   },
   "execution_count": 23
  },
  {
   "cell_type": "code",
   "execution_count": 25,
   "metadata": {
    "scrolled": false,
    "ExecuteTime": {
     "end_time": "2024-03-24T14:49:11.402896Z",
     "start_time": "2024-03-24T14:49:00.243394Z"
    }
   },
   "outputs": [
    {
     "name": "stdout",
     "output_type": "stream",
     "text": [
      "Label '0':\n",
      "  . Most correlated unigrams:\n",
      "       . отвратительный\n",
      "       . ужасный\n",
      "  . Most correlated bigrams:\n",
      "       . отвратительный магазин\n",
      "       . ужасный магазин\n",
      "Label '1':\n",
      "  . Most correlated unigrams:\n",
      "       . хороший\n",
      "       . грязно\n",
      "  . Most correlated bigrams:\n",
      "       . хороший магазин\n",
      "       . единственный плюс\n",
      "Label '2':\n",
      "  . Most correlated unigrams:\n",
      "       . хороший\n",
      "       . маленький\n",
      "  . Most correlated bigrams:\n",
      "       . маленький ассортимент\n",
      "       . хороший магазин\n",
      "Label '3':\n",
      "  . Most correlated unigrams:\n",
      "       . обычный\n",
      "       . неплохой\n",
      "  . Most correlated bigrams:\n",
      "       . обычный магазин\n",
      "       . отличный магазин\n",
      "Label '4':\n",
      "  . Most correlated unigrams:\n",
      "       . отличный\n",
      "       . хороший\n",
      "  . Most correlated bigrams:\n",
      "       . отличный магазин\n",
      "       . хороший магазин\n"
     ]
    }
   ],
   "source": [
    "from sklearn.feature_selection import chi2\n",
    "import numpy as np\n",
    "\n",
    "N = 2\n",
    "for i in range(0,5):\n",
    "  features_chi2 = chi2(features, labels == i)\n",
    "  indices = np.argsort(features_chi2[0])\n",
    "  feature_names = np.array(tfidf.get_feature_names_out())[indices]\n",
    "  unigrams = [v for v in feature_names if len(v.split(' ')) == 1]\n",
    "  bigrams = [v for v in feature_names if len(v.split(' ')) == 2]\n",
    "  print(\"Label '{}':\".format(i))\n",
    "  print(\"  . Most correlated unigrams:\\n       . {}\".format('\\n       . '.join(unigrams[-N:])))\n",
    "  print(\"  . Most correlated bigrams:\\n       . {}\".format('\\n       . '.join(bigrams[-N:])))"
   ]
  },
  {
   "cell_type": "code",
   "outputs": [],
   "source": [
    "id_to_rate = ['отвратительный', 'хороший', 'маленький', 'неплохой', 'отличный']"
   ],
   "metadata": {
    "collapsed": false,
    "ExecuteTime": {
     "end_time": "2024-03-24T14:59:09.325011Z",
     "start_time": "2024-03-24T14:59:09.321936Z"
    }
   },
   "execution_count": 30
  },
  {
   "cell_type": "code",
   "execution_count": 26,
   "metadata": {
    "collapsed": true,
    "ExecuteTime": {
     "end_time": "2024-03-24T14:52:00.176972Z",
     "start_time": "2024-03-24T14:51:59.463907Z"
    }
   },
   "outputs": [],
   "source": [
    "from sklearn.model_selection import train_test_split\n",
    "from sklearn.feature_extraction.text import CountVectorizer\n",
    "from sklearn.feature_extraction.text import TfidfTransformer\n",
    "from sklearn.naive_bayes import MultinomialNB\n",
    "\n",
    "X_train, X_test, y_train, y_test = train_test_split(df.text, df.rate, random_state = 96)\n",
    "count_vect = CountVectorizer()\n",
    "X_train_counts = count_vect.fit_transform(X_train)\n",
    "tfidf_transformer = TfidfTransformer()\n",
    "X_train_tfidf = tfidf_transformer.fit_transform(X_train_counts)\n",
    "\n",
    "clf = MultinomialNB().fit(X_train_tfidf, y_train)"
   ]
  },
  {
   "cell_type": "code",
   "outputs": [
    {
     "data": {
      "text/plain": "   index                                               text\n0      0        Очень хороший магазин и сотрудники приятный\n1      1  Самый обычный продуктовый магазин.  Есть сыры,...\n2      2                             Всё хорошо и комфортно\n3      3  Маленький филиальчик, все необходимое есть. Дв...\n4      4                  Плохо относятся к клиентам!!!!!\\n",
      "text/html": "<div>\n<style scoped>\n    .dataframe tbody tr th:only-of-type {\n        vertical-align: middle;\n    }\n\n    .dataframe tbody tr th {\n        vertical-align: top;\n    }\n\n    .dataframe thead th {\n        text-align: right;\n    }\n</style>\n<table border=\"1\" class=\"dataframe\">\n  <thead>\n    <tr style=\"text-align: right;\">\n      <th></th>\n      <th>index</th>\n      <th>text</th>\n    </tr>\n  </thead>\n  <tbody>\n    <tr>\n      <th>0</th>\n      <td>0</td>\n      <td>Очень хороший магазин и сотрудники приятный</td>\n    </tr>\n    <tr>\n      <th>1</th>\n      <td>1</td>\n      <td>Самый обычный продуктовый магазин.  Есть сыры,...</td>\n    </tr>\n    <tr>\n      <th>2</th>\n      <td>2</td>\n      <td>Всё хорошо и комфортно</td>\n    </tr>\n    <tr>\n      <th>3</th>\n      <td>3</td>\n      <td>Маленький филиальчик, все необходимое есть. Дв...</td>\n    </tr>\n    <tr>\n      <th>4</th>\n      <td>4</td>\n      <td>Плохо относятся к клиентам!!!!!\\n</td>\n    </tr>\n  </tbody>\n</table>\n</div>"
     },
     "execution_count": 27,
     "metadata": {},
     "output_type": "execute_result"
    }
   ],
   "source": [
    "test.head()"
   ],
   "metadata": {
    "collapsed": false,
    "ExecuteTime": {
     "end_time": "2024-03-24T14:52:57.258247Z",
     "start_time": "2024-03-24T14:52:57.252315Z"
    }
   },
   "execution_count": 27
  },
  {
   "cell_type": "code",
   "execution_count": 34,
   "metadata": {
    "ExecuteTime": {
     "end_time": "2024-03-24T15:00:54.545207Z",
     "start_time": "2024-03-24T15:00:54.540280Z"
    }
   },
   "outputs": [
    {
     "data": {
      "text/plain": "'отличный'"
     },
     "execution_count": 34,
     "metadata": {},
     "output_type": "execute_result"
    }
   ],
   "source": [
    "i=clf.predict(count_vect.transform([\"Плохо относятся к клиентам!!!!!\\n\"]))\n",
    "id_to_rate[i[0]]"
   ]
  },
  {
   "cell_type": "code",
   "execution_count": 35,
   "metadata": {
    "ExecuteTime": {
     "end_time": "2024-03-24T15:01:27.976263Z",
     "start_time": "2024-03-24T15:01:27.971533Z"
    }
   },
   "outputs": [
    {
     "data": {
      "text/plain": "'отличный'"
     },
     "execution_count": 35,
     "metadata": {},
     "output_type": "execute_result"
    }
   ],
   "source": [
    "i=clf.predict(count_vect.transform([\"Маленький филиальчик, все необходимое есть. Две кассы, если народу много, можно застрять.\"]))\n",
    "id_to_rate[i[0]]"
   ]
  },
  {
   "cell_type": "code",
   "execution_count": 36,
   "metadata": {
    "ExecuteTime": {
     "end_time": "2024-03-24T15:22:26.641323Z",
     "start_time": "2024-03-24T15:06:05.787418Z"
    }
   },
   "outputs": [
    {
     "name": "stderr",
     "output_type": "stream",
     "text": [
      "C:\\prj\\ods\\nlp_huawei_new2_task\\venv\\Lib\\site-packages\\sklearn\\svm\\_classes.py:31: FutureWarning: The default value of `dual` will change from `True` to `'auto'` in 1.5. Set the value of `dual` explicitly to suppress the warning.\n",
      "  warnings.warn(\n",
      "C:\\prj\\ods\\nlp_huawei_new2_task\\venv\\Lib\\site-packages\\sklearn\\svm\\_classes.py:31: FutureWarning: The default value of `dual` will change from `True` to `'auto'` in 1.5. Set the value of `dual` explicitly to suppress the warning.\n",
      "  warnings.warn(\n",
      "C:\\prj\\ods\\nlp_huawei_new2_task\\venv\\Lib\\site-packages\\sklearn\\svm\\_classes.py:31: FutureWarning: The default value of `dual` will change from `True` to `'auto'` in 1.5. Set the value of `dual` explicitly to suppress the warning.\n",
      "  warnings.warn(\n",
      "C:\\prj\\ods\\nlp_huawei_new2_task\\venv\\Lib\\site-packages\\sklearn\\svm\\_classes.py:31: FutureWarning: The default value of `dual` will change from `True` to `'auto'` in 1.5. Set the value of `dual` explicitly to suppress the warning.\n",
      "  warnings.warn(\n",
      "C:\\prj\\ods\\nlp_huawei_new2_task\\venv\\Lib\\site-packages\\sklearn\\svm\\_classes.py:31: FutureWarning: The default value of `dual` will change from `True` to `'auto'` in 1.5. Set the value of `dual` explicitly to suppress the warning.\n",
      "  warnings.warn(\n",
      "C:\\prj\\ods\\nlp_huawei_new2_task\\venv\\Lib\\site-packages\\sklearn\\linear_model\\_logistic.py:469: ConvergenceWarning: lbfgs failed to converge (status=1):\n",
      "STOP: TOTAL NO. of ITERATIONS REACHED LIMIT.\n",
      "\n",
      "Increase the number of iterations (max_iter) or scale the data as shown in:\n",
      "    https://scikit-learn.org/stable/modules/preprocessing.html\n",
      "Please also refer to the documentation for alternative solver options:\n",
      "    https://scikit-learn.org/stable/modules/linear_model.html#logistic-regression\n",
      "  n_iter_i = _check_optimize_result(\n",
      "C:\\prj\\ods\\nlp_huawei_new2_task\\venv\\Lib\\site-packages\\sklearn\\linear_model\\_logistic.py:469: ConvergenceWarning: lbfgs failed to converge (status=1):\n",
      "STOP: TOTAL NO. of ITERATIONS REACHED LIMIT.\n",
      "\n",
      "Increase the number of iterations (max_iter) or scale the data as shown in:\n",
      "    https://scikit-learn.org/stable/modules/preprocessing.html\n",
      "Please also refer to the documentation for alternative solver options:\n",
      "    https://scikit-learn.org/stable/modules/linear_model.html#logistic-regression\n",
      "  n_iter_i = _check_optimize_result(\n",
      "C:\\prj\\ods\\nlp_huawei_new2_task\\venv\\Lib\\site-packages\\sklearn\\linear_model\\_logistic.py:469: ConvergenceWarning: lbfgs failed to converge (status=1):\n",
      "STOP: TOTAL NO. of ITERATIONS REACHED LIMIT.\n",
      "\n",
      "Increase the number of iterations (max_iter) or scale the data as shown in:\n",
      "    https://scikit-learn.org/stable/modules/preprocessing.html\n",
      "Please also refer to the documentation for alternative solver options:\n",
      "    https://scikit-learn.org/stable/modules/linear_model.html#logistic-regression\n",
      "  n_iter_i = _check_optimize_result(\n",
      "C:\\prj\\ods\\nlp_huawei_new2_task\\venv\\Lib\\site-packages\\sklearn\\linear_model\\_logistic.py:469: ConvergenceWarning: lbfgs failed to converge (status=1):\n",
      "STOP: TOTAL NO. of ITERATIONS REACHED LIMIT.\n",
      "\n",
      "Increase the number of iterations (max_iter) or scale the data as shown in:\n",
      "    https://scikit-learn.org/stable/modules/preprocessing.html\n",
      "Please also refer to the documentation for alternative solver options:\n",
      "    https://scikit-learn.org/stable/modules/linear_model.html#logistic-regression\n",
      "  n_iter_i = _check_optimize_result(\n",
      "C:\\prj\\ods\\nlp_huawei_new2_task\\venv\\Lib\\site-packages\\sklearn\\linear_model\\_logistic.py:469: ConvergenceWarning: lbfgs failed to converge (status=1):\n",
      "STOP: TOTAL NO. of ITERATIONS REACHED LIMIT.\n",
      "\n",
      "Increase the number of iterations (max_iter) or scale the data as shown in:\n",
      "    https://scikit-learn.org/stable/modules/preprocessing.html\n",
      "Please also refer to the documentation for alternative solver options:\n",
      "    https://scikit-learn.org/stable/modules/linear_model.html#logistic-regression\n",
      "  n_iter_i = _check_optimize_result(\n"
     ]
    }
   ],
   "source": [
    "from sklearn.linear_model import LogisticRegression\n",
    "from sklearn.ensemble import RandomForestClassifier\n",
    "from sklearn.naive_bayes import MultinomialNB\n",
    "from sklearn.svm import LinearSVC\n",
    "\n",
    "from sklearn.model_selection import cross_val_score\n",
    "\n",
    "\n",
    "models = [\n",
    "    RandomForestClassifier(n_estimators=200, max_depth=3, random_state=0),\n",
    "    LinearSVC(),\n",
    "    MultinomialNB(),\n",
    "    LogisticRegression(random_state=0),\n",
    "]\n",
    "CV = 5\n",
    "cv_df = pd.DataFrame(index=range(CV * len(models)))\n",
    "entries = []\n",
    "for model in models:\n",
    "  model_name = model.__class__.__name__\n",
    "  accuracies = cross_val_score(model, features, labels, scoring='accuracy', cv=CV)\n",
    "  for fold_idx, accuracy in enumerate(accuracies):\n",
    "    entries.append((model_name, fold_idx, accuracy))\n",
    "cv_df = pd.DataFrame(entries, columns=['model_name', 'fold_idx', 'accuracy'])"
   ]
  },
  {
   "cell_type": "code",
   "outputs": [
    {
     "data": {
      "text/plain": "                model_name  fold_idx  accuracy\n0   RandomForestClassifier         0  0.535703\n1   RandomForestClassifier         1  0.535601\n2   RandomForestClassifier         2  0.535703\n3   RandomForestClassifier         3  0.535703\n4   RandomForestClassifier         4  0.535703\n5                LinearSVC         0  0.620055\n6                LinearSVC         1  0.616665\n7                LinearSVC         2  0.614405\n8                LinearSVC         3  0.618309\n9                LinearSVC         4  0.619336\n10           MultinomialNB         0  0.631974\n11           MultinomialNB         1  0.627761\n12           MultinomialNB         2  0.628994\n13           MultinomialNB         3  0.635878\n14           MultinomialNB         4  0.633309\n15      LogisticRegression         0  0.638960\n16      LogisticRegression         1  0.644303\n17      LogisticRegression         2  0.638138\n18      LogisticRegression         3  0.647693\n19      LogisticRegression         4  0.642248",
      "text/html": "<div>\n<style scoped>\n    .dataframe tbody tr th:only-of-type {\n        vertical-align: middle;\n    }\n\n    .dataframe tbody tr th {\n        vertical-align: top;\n    }\n\n    .dataframe thead th {\n        text-align: right;\n    }\n</style>\n<table border=\"1\" class=\"dataframe\">\n  <thead>\n    <tr style=\"text-align: right;\">\n      <th></th>\n      <th>model_name</th>\n      <th>fold_idx</th>\n      <th>accuracy</th>\n    </tr>\n  </thead>\n  <tbody>\n    <tr>\n      <th>0</th>\n      <td>RandomForestClassifier</td>\n      <td>0</td>\n      <td>0.535703</td>\n    </tr>\n    <tr>\n      <th>1</th>\n      <td>RandomForestClassifier</td>\n      <td>1</td>\n      <td>0.535601</td>\n    </tr>\n    <tr>\n      <th>2</th>\n      <td>RandomForestClassifier</td>\n      <td>2</td>\n      <td>0.535703</td>\n    </tr>\n    <tr>\n      <th>3</th>\n      <td>RandomForestClassifier</td>\n      <td>3</td>\n      <td>0.535703</td>\n    </tr>\n    <tr>\n      <th>4</th>\n      <td>RandomForestClassifier</td>\n      <td>4</td>\n      <td>0.535703</td>\n    </tr>\n    <tr>\n      <th>5</th>\n      <td>LinearSVC</td>\n      <td>0</td>\n      <td>0.620055</td>\n    </tr>\n    <tr>\n      <th>6</th>\n      <td>LinearSVC</td>\n      <td>1</td>\n      <td>0.616665</td>\n    </tr>\n    <tr>\n      <th>7</th>\n      <td>LinearSVC</td>\n      <td>2</td>\n      <td>0.614405</td>\n    </tr>\n    <tr>\n      <th>8</th>\n      <td>LinearSVC</td>\n      <td>3</td>\n      <td>0.618309</td>\n    </tr>\n    <tr>\n      <th>9</th>\n      <td>LinearSVC</td>\n      <td>4</td>\n      <td>0.619336</td>\n    </tr>\n    <tr>\n      <th>10</th>\n      <td>MultinomialNB</td>\n      <td>0</td>\n      <td>0.631974</td>\n    </tr>\n    <tr>\n      <th>11</th>\n      <td>MultinomialNB</td>\n      <td>1</td>\n      <td>0.627761</td>\n    </tr>\n    <tr>\n      <th>12</th>\n      <td>MultinomialNB</td>\n      <td>2</td>\n      <td>0.628994</td>\n    </tr>\n    <tr>\n      <th>13</th>\n      <td>MultinomialNB</td>\n      <td>3</td>\n      <td>0.635878</td>\n    </tr>\n    <tr>\n      <th>14</th>\n      <td>MultinomialNB</td>\n      <td>4</td>\n      <td>0.633309</td>\n    </tr>\n    <tr>\n      <th>15</th>\n      <td>LogisticRegression</td>\n      <td>0</td>\n      <td>0.638960</td>\n    </tr>\n    <tr>\n      <th>16</th>\n      <td>LogisticRegression</td>\n      <td>1</td>\n      <td>0.644303</td>\n    </tr>\n    <tr>\n      <th>17</th>\n      <td>LogisticRegression</td>\n      <td>2</td>\n      <td>0.638138</td>\n    </tr>\n    <tr>\n      <th>18</th>\n      <td>LogisticRegression</td>\n      <td>3</td>\n      <td>0.647693</td>\n    </tr>\n    <tr>\n      <th>19</th>\n      <td>LogisticRegression</td>\n      <td>4</td>\n      <td>0.642248</td>\n    </tr>\n  </tbody>\n</table>\n</div>"
     },
     "execution_count": 37,
     "metadata": {},
     "output_type": "execute_result"
    }
   ],
   "source": [
    "cv_df"
   ],
   "metadata": {
    "collapsed": false,
    "ExecuteTime": {
     "end_time": "2024-03-24T15:25:02.592036Z",
     "start_time": "2024-03-24T15:25:02.567611Z"
    }
   },
   "execution_count": 37
  },
  {
   "cell_type": "code",
   "execution_count": 38,
   "metadata": {
    "ExecuteTime": {
     "end_time": "2024-03-24T15:25:40.983481Z",
     "start_time": "2024-03-24T15:25:40.524039Z"
    }
   },
   "outputs": [
    {
     "name": "stderr",
     "output_type": "stream",
     "text": [
      "C:\\Users\\k142\\AppData\\Local\\Temp\\ipykernel_23544\\2410705282.py:4: FutureWarning: Use \"auto\" to set automatic grayscale colors. From v0.14.0, \"gray\" will default to matplotlib's definition.\n",
      "  sns.stripplot(x='model_name', y='accuracy', data=cv_df,\n"
     ]
    },
    {
     "data": {
      "text/plain": "<Figure size 640x480 with 1 Axes>",
      "image/png": "[encoded data removed]"
     },
     "metadata": {},
     "output_type": "display_data"
    }
   ],
   "source": [
    "import seaborn as sns\n",
    "\n",
    "sns.boxplot(x='model_name', y='accuracy', data=cv_df)\n",
    "sns.stripplot(x='model_name', y='accuracy', data=cv_df, \n",
    "              size=8, jitter=True, edgecolor=\"gray\", linewidth=2)\n",
    "plt.show()"
   ]
  },
  {
   "cell_type": "code",
   "outputs": [],
   "source": [],
   "metadata": {
    "collapsed": false
   }
  },
  {
   "cell_type": "code",
   "execution_count": 39,
   "metadata": {
    "ExecuteTime": {
     "end_time": "2024-03-24T15:26:02.585657Z",
     "start_time": "2024-03-24T15:26:02.571178Z"
    }
   },
   "outputs": [
    {
     "data": {
      "text/plain": "model_name\nLinearSVC                 0.617754\nLogisticRegression        0.642269\nMultinomialNB             0.631583\nRandomForestClassifier    0.535683\nName: accuracy, dtype: float64"
     },
     "execution_count": 39,
     "metadata": {},
     "output_type": "execute_result"
    }
   ],
   "source": [
    "cv_df.groupby('model_name').accuracy.mean()"
   ]
  },
  {
   "cell_type": "code",
   "execution_count": 41,
   "metadata": {
    "collapsed": true,
    "ExecuteTime": {
     "end_time": "2024-03-24T15:38:40.044012Z",
     "start_time": "2024-03-24T15:36:34.164515Z"
    }
   },
   "outputs": [
    {
     "name": "stderr",
     "output_type": "stream",
     "text": [
      "C:\\prj\\ods\\nlp_huawei_new2_task\\venv\\Lib\\site-packages\\sklearn\\linear_model\\_logistic.py:469: ConvergenceWarning: lbfgs failed to converge (status=1):\n",
      "STOP: TOTAL NO. of ITERATIONS REACHED LIMIT.\n",
      "\n",
      "Increase the number of iterations (max_iter) or scale the data as shown in:\n",
      "    https://scikit-learn.org/stable/modules/preprocessing.html\n",
      "Please also refer to the documentation for alternative solver options:\n",
      "    https://scikit-learn.org/stable/modules/linear_model.html#logistic-regression\n",
      "  n_iter_i = _check_optimize_result(\n"
     ]
    }
   ],
   "source": [
    "from sklearn.model_selection import train_test_split\n",
    "\n",
    "model = LogisticRegression(random_state=0)\n",
    "\n",
    "X_train, X_test, y_train, y_test, indices_train, indices_test = train_test_split(features, labels, df.index, test_size=0.33, random_state=0)\n",
    "model.fit(X_train, y_train)\n",
    "y_pred = model.predict(X_test)"
   ]
  },
  {
   "cell_type": "code",
   "execution_count": 42,
   "metadata": {
    "ExecuteTime": {
     "end_time": "2024-03-24T15:39:51.631439Z",
     "start_time": "2024-03-24T15:39:50.439526Z"
    }
   },
   "outputs": [
    {
     "data": {
      "text/plain": "<Figure size 800x600 with 2 Axes>",
      "image/png": "[encoded data removed]"
     },
     "metadata": {},
     "output_type": "display_data"
    }
   ],
   "source": [
    "from sklearn.metrics import confusion_matrix\n",
    "\n",
    "conf_mat = confusion_matrix(y_test, y_pred)\n",
    "fig, ax = plt.subplots(figsize=(8,6))\n",
    "sns.heatmap(conf_mat, annot=True, fmt='d',\n",
    "            xticklabels=id_to_rate, yticklabels=id_to_rate)\n",
    "plt.ylabel('Actual')\n",
    "plt.xlabel('Predicted')\n",
    "plt.show()"
   ]
  },
  {
   "cell_type": "code",
   "execution_count": null,
   "metadata": {
    "scrolled": false
   },
   "outputs": [],
   "source": [
    "from IPython.display import display\n",
    "\n",
    "for predicted in range(0,5):\n",
    "  for actual in range(0,5):\n",
    "    if predicted != actual and conf_mat[actual, predicted] >= 6:\n",
    "      print(\"'{}' predicted as '{}' : {} examples.\".format(id_to_rate[actual], id_to_rate[predicted], conf_mat[actual, predicted]))\n",
    "      display(df.loc[indices_test[(y_test == actual) & (y_pred == predicted)]][['rate', 'text']])\n",
    "      print('')"
   ]
  },
  {
   "cell_type": "code",
   "execution_count": 43,
   "metadata": {
    "ExecuteTime": {
     "end_time": "2024-03-24T15:44:22.074017Z",
     "start_time": "2024-03-24T15:44:22.030725Z"
    }
   },
   "outputs": [
    {
     "name": "stdout",
     "output_type": "stream",
     "text": [
      "                precision    recall  f1-score   support\n",
      "\n",
      "отвратительный       0.60      0.56      0.58      1368\n",
      "       хороший       0.20      0.02      0.04       785\n",
      "     маленький       0.41      0.34      0.37      2047\n",
      "      неплохой       0.44      0.30      0.36      3272\n",
      "      отличный       0.73      0.92      0.81      8588\n",
      "\n",
      "      accuracy                           0.64     16060\n",
      "     macro avg       0.48      0.43      0.43     16060\n",
      "  weighted avg       0.59      0.64      0.61     16060\n"
     ]
    }
   ],
   "source": [
    "from sklearn import metrics\n",
    "print(metrics.classification_report(y_test, y_pred, \n",
    "                                    target_names=id_to_rate))"
   ]
  },
  {
   "cell_type": "code",
   "outputs": [],
   "source": [],
   "metadata": {
    "collapsed": false
   }
  }
 ],
 "metadata": {
  "kernelspec": {
   "name": "python3",
   "language": "python",
   "display_name": "Python 3 (ipykernel)"
  },
  "language_info": {
   "codemirror_mode": {
    "name": "ipython",
    "version": 3
   },
   "file_extension": ".py",
   "mimetype": "text/x-python",
   "name": "python",
   "nbconvert_exporter": "python",
   "pygments_lexer": "ipython3",
   "version": "3.6.2"
  }
 },
 "nbformat": 4,
 "nbformat_minor": 2
}
