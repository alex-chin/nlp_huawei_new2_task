{
 "cells": [
  {
   "cell_type": "markdown",
   "source": [
    "# Чтение данных"
   ],
   "metadata": {
    "collapsed": false
   }
  },
  {
   "cell_type": "code",
   "execution_count": 1,
   "metadata": {
    "ExecuteTime": {
     "end_time": "2024-03-25T13:24:30.257558Z",
     "start_time": "2024-03-25T13:24:29.770778Z"
    }
   },
   "outputs": [],
   "source": [
    "import os\n",
    "\n",
    "import pandas as pd\n",
    "from sklearn.preprocessing import LabelEncoder"
   ]
  },
  {
   "cell_type": "code",
   "outputs": [],
   "source": [
    "PATH = \"../\""
   ],
   "metadata": {
    "collapsed": false,
    "ExecuteTime": {
     "end_time": "2024-03-25T13:24:47.744014Z",
     "start_time": "2024-03-25T13:24:47.740792Z"
    }
   },
   "execution_count": 2
  },
  {
   "cell_type": "code",
   "outputs": [],
   "source": [
    "df = pd.read_csv(os.path.join(PATH, \"train.csv\"))\n",
    "test = pd.read_csv(os.path.join(PATH, \"test.csv\"))"
   ],
   "metadata": {
    "collapsed": false,
    "ExecuteTime": {
     "end_time": "2024-03-25T13:24:48.773596Z",
     "start_time": "2024-03-25T13:24:48.451225Z"
    }
   },
   "execution_count": 3
  },
  {
   "cell_type": "code",
   "execution_count": 4,
   "metadata": {
    "ExecuteTime": {
     "end_time": "2024-03-25T13:24:49.799820Z",
     "start_time": "2024-03-25T13:24:49.778794Z"
    }
   },
   "outputs": [
    {
     "name": "stdout",
     "output_type": "stream",
     "text": [
      "<class 'pandas.core.frame.DataFrame'>\n",
      "RangeIndex: 48665 entries, 0 to 48664\n",
      "Data columns (total 2 columns):\n",
      " #   Column  Non-Null Count  Dtype \n",
      "---  ------  --------------  ----- \n",
      " 0   rate    48665 non-null  int64 \n",
      " 1   text    48665 non-null  object\n",
      "dtypes: int64(1), object(1)\n",
      "memory usage: 760.5+ KB\n"
     ]
    }
   ],
   "source": [
    "df.info()"
   ]
  },
  {
   "cell_type": "markdown",
   "source": [
    "# Нормализация id класса"
   ],
   "metadata": {
    "collapsed": false
   }
  },
  {
   "cell_type": "code",
   "outputs": [
    {
     "data": {
      "text/plain": "   rate                                               text\n0     3  Очень понравилось. Были в начале марта  с соба...\n1     4  В целом магазин устраивает.\\nАссортимент позво...\n2     4  Очень хорошо что открылась 5 ка, теперь не над...\n3     2  Пятёрочка громко объявила о том как она заботи...\n4     2  Тесно, вечная сутолока, между рядами трудно ра...",
      "text/html": "<div>\n<style scoped>\n    .dataframe tbody tr th:only-of-type {\n        vertical-align: middle;\n    }\n\n    .dataframe tbody tr th {\n        vertical-align: top;\n    }\n\n    .dataframe thead th {\n        text-align: right;\n    }\n</style>\n<table border=\"1\" class=\"dataframe\">\n  <thead>\n    <tr style=\"text-align: right;\">\n      <th></th>\n      <th>rate</th>\n      <th>text</th>\n    </tr>\n  </thead>\n  <tbody>\n    <tr>\n      <th>0</th>\n      <td>3</td>\n      <td>Очень понравилось. Были в начале марта  с соба...</td>\n    </tr>\n    <tr>\n      <th>1</th>\n      <td>4</td>\n      <td>В целом магазин устраивает.\\nАссортимент позво...</td>\n    </tr>\n    <tr>\n      <th>2</th>\n      <td>4</td>\n      <td>Очень хорошо что открылась 5 ка, теперь не над...</td>\n    </tr>\n    <tr>\n      <th>3</th>\n      <td>2</td>\n      <td>Пятёрочка громко объявила о том как она заботи...</td>\n    </tr>\n    <tr>\n      <th>4</th>\n      <td>2</td>\n      <td>Тесно, вечная сутолока, между рядами трудно ра...</td>\n    </tr>\n  </tbody>\n</table>\n</div>"
     },
     "execution_count": 5,
     "metadata": {},
     "output_type": "execute_result"
    }
   ],
   "source": [
    "label_encoder = LabelEncoder()\n",
    "df.rate = label_encoder.fit_transform(df.rate)\n",
    "df.head()"
   ],
   "metadata": {
    "collapsed": false,
    "ExecuteTime": {
     "end_time": "2024-03-25T13:24:54.523277Z",
     "start_time": "2024-03-25T13:24:54.504601Z"
    }
   },
   "execution_count": 5
  },
  {
   "cell_type": "markdown",
   "source": [
    "# Предобработка"
   ],
   "metadata": {
    "collapsed": false
   }
  },
  {
   "cell_type": "code",
   "outputs": [],
   "source": [],
   "metadata": {
    "collapsed": false,
    "ExecuteTime": {
     "end_time": "2024-03-25T13:24:59.036388Z",
     "start_time": "2024-03-25T13:24:59.033641Z"
    }
   },
   "execution_count": 5
  },
  {
   "cell_type": "code",
   "outputs": [],
   "source": [
    "import re\n",
    "from pymorphy3 import MorphAnalyzer\n",
    "from stop_words import get_stop_words\n",
    "from string import punctuation\n",
    "from tqdm import tqdm"
   ],
   "metadata": {
    "collapsed": false,
    "ExecuteTime": {
     "end_time": "2024-03-25T13:29:55.919723Z",
     "start_time": "2024-03-25T13:29:55.903499Z"
    }
   },
   "execution_count": 7
  },
  {
   "cell_type": "code",
   "outputs": [],
   "source": [
    "tqdm.pandas()"
   ],
   "metadata": {
    "collapsed": false,
    "ExecuteTime": {
     "end_time": "2024-03-25T13:29:56.927742Z",
     "start_time": "2024-03-25T13:29:56.924441Z"
    }
   },
   "execution_count": 8
  },
  {
   "cell_type": "code",
   "outputs": [],
   "source": [
    "exclude = set(punctuation)\n",
    "sw = set(get_stop_words(\"ru\"))\n",
    "morpher = MorphAnalyzer()\n",
    "\n",
    "\n",
    "def preprocess_text(txt):\n",
    "    txt = str(txt)\n",
    "    txt = \"\".join(c for c in txt if c not in exclude)\n",
    "    txt = txt.lower()\n",
    "    txt = re.sub(\"\\sне\", \"не\", txt)\n",
    "    txt = [morpher.parse(word)[0].normal_form for word in txt.split() if word not in exclude]\n",
    "    return \" \".join(txt)"
   ],
   "metadata": {
    "collapsed": false
   },
   "execution_count": null
  },
  {
   "cell_type": "code",
   "outputs": [
    {
     "name": "stderr",
     "output_type": "stream",
     "text": [
      "100%|██████████| 48665/48665 [02:43<00:00, 296.82it/s]\n"
     ]
    }
   ],
   "source": [
    "df['text_clear'] = df['text'].progress_apply(preprocess_text)"
   ],
   "metadata": {
    "collapsed": false,
    "ExecuteTime": {
     "end_time": "2024-03-25T13:33:07.174868Z",
     "start_time": "2024-03-25T13:30:23.204183Z"
    }
   },
   "execution_count": 9
  },
  {
   "cell_type": "code",
   "outputs": [
    {
     "data": {
      "text/plain": "   rate                                               text  \\\n0     3  Очень понравилось. Были в начале марта  с соба...   \n1     4  В целом магазин устраивает.\\nАссортимент позво...   \n2     4  Очень хорошо что открылась 5 ка, теперь не над...   \n3     2  Пятёрочка громко объявила о том как она заботи...   \n4     2  Тесно, вечная сутолока, между рядами трудно ра...   \n\n                                          text_clear  \n0  очень понравиться быть в начало март с собака ...  \n1  в целое магазин устраивать ассортимент позволя...  \n2  очень хорошо что открыться 5 ка теперьня надо ...  \n3  пятёрочка громко объявить о тот как она заботи...  \n4  тесно вечный сутолока между ряд трудно разойти...  ",
      "text/html": "<div>\n<style scoped>\n    .dataframe tbody tr th:only-of-type {\n        vertical-align: middle;\n    }\n\n    .dataframe tbody tr th {\n        vertical-align: top;\n    }\n\n    .dataframe thead th {\n        text-align: right;\n    }\n</style>\n<table border=\"1\" class=\"dataframe\">\n  <thead>\n    <tr style=\"text-align: right;\">\n      <th></th>\n      <th>rate</th>\n      <th>text</th>\n      <th>text_clear</th>\n    </tr>\n  </thead>\n  <tbody>\n    <tr>\n      <th>0</th>\n      <td>3</td>\n      <td>Очень понравилось. Были в начале марта  с соба...</td>\n      <td>очень понравиться быть в начало март с собака ...</td>\n    </tr>\n    <tr>\n      <th>1</th>\n      <td>4</td>\n      <td>В целом магазин устраивает.\\nАссортимент позво...</td>\n      <td>в целое магазин устраивать ассортимент позволя...</td>\n    </tr>\n    <tr>\n      <th>2</th>\n      <td>4</td>\n      <td>Очень хорошо что открылась 5 ка, теперь не над...</td>\n      <td>очень хорошо что открыться 5 ка теперьня надо ...</td>\n    </tr>\n    <tr>\n      <th>3</th>\n      <td>2</td>\n      <td>Пятёрочка громко объявила о том как она заботи...</td>\n      <td>пятёрочка громко объявить о тот как она заботи...</td>\n    </tr>\n    <tr>\n      <th>4</th>\n      <td>2</td>\n      <td>Тесно, вечная сутолока, между рядами трудно ра...</td>\n      <td>тесно вечный сутолока между ряд трудно разойти...</td>\n    </tr>\n  </tbody>\n</table>\n</div>"
     },
     "execution_count": 10,
     "metadata": {},
     "output_type": "execute_result"
    }
   ],
   "source": [
    "df.head()"
   ],
   "metadata": {
    "collapsed": false,
    "ExecuteTime": {
     "end_time": "2024-03-24T17:03:28.426033Z",
     "start_time": "2024-03-24T17:03:28.418004Z"
    }
   },
   "execution_count": 10
  },
  {
   "cell_type": "markdown",
   "source": [
    "# Создание векторов документов"
   ],
   "metadata": {
    "collapsed": false
   }
  },
  {
   "cell_type": "code",
   "execution_count": 10,
   "metadata": {
    "ExecuteTime": {
     "end_time": "2024-03-25T13:34:33.175321Z",
     "start_time": "2024-03-25T13:34:30.126856Z"
    }
   },
   "outputs": [
    {
     "data": {
      "text/plain": "(48665, 5000)"
     },
     "execution_count": 10,
     "metadata": {},
     "output_type": "execute_result"
    }
   ],
   "source": [
    "from sklearn.feature_extraction.text import TfidfVectorizer\n",
    "\n",
    "tfidf = TfidfVectorizer(sublinear_tf=True, min_df=5, norm='l2', ngram_range=(1, 2), max_features=5000)\n",
    "\n",
    "features = tfidf.fit_transform(df.text_clear).toarray()\n",
    "labels = df.rate\n",
    "features.shape"
   ]
  },
  {
   "cell_type": "markdown",
   "source": [
    "# Корреляция терминов с метками"
   ],
   "metadata": {
    "collapsed": false
   }
  },
  {
   "cell_type": "code",
   "outputs": [],
   "source": [
    "id_to_rate = ['отвратительный', 'хороший', 'маленький', 'неплохой', 'отличный']"
   ],
   "metadata": {
    "collapsed": false,
    "ExecuteTime": {
     "end_time": "2024-03-25T13:35:44.183408Z",
     "start_time": "2024-03-25T13:35:44.179323Z"
    }
   },
   "execution_count": 11
  },
  {
   "cell_type": "code",
   "execution_count": 19,
   "metadata": {
    "scrolled": false,
    "ExecuteTime": {
     "end_time": "2024-03-24T17:21:06.565115Z",
     "start_time": "2024-03-24T17:20:51.206471Z"
    }
   },
   "outputs": [
    {
     "name": "stdout",
     "output_type": "stream",
     "text": [
      "Label '0':\n",
      "  . Most correlated unigrams:\n",
      "       . отвратительный\n",
      "       . ужасный\n",
      "  . Most correlated bigrams:\n",
      "       . отвратительный магазин\n",
      "       . ужасный магазин\n",
      "Label '1':\n",
      "  . Most correlated unigrams:\n",
      "       . грязно\n",
      "       . хороший\n",
      "  . Most correlated bigrams:\n",
      "       . хороший магазин\n",
      "       . единственный плюс\n",
      "Label '2':\n",
      "  . Most correlated unigrams:\n",
      "       . хороший\n",
      "       . маленький\n",
      "  . Most correlated bigrams:\n",
      "       . маленький ассортимент\n",
      "       . хороший магазин\n",
      "Label '3':\n",
      "  . Most correlated unigrams:\n",
      "       . обычный\n",
      "       . но\n",
      "  . Most correlated bigrams:\n",
      "       . обычный магазин\n",
      "       . отличный магазин\n",
      "Label '4':\n",
      "  . Most correlated unigrams:\n",
      "       . хороший\n",
      "       . отличный\n",
      "  . Most correlated bigrams:\n",
      "       . отличный магазин\n",
      "       . хороший магазин\n"
     ]
    }
   ],
   "source": [
    "from sklearn.feature_selection import chi2\n",
    "import numpy as np\n",
    "\n",
    "N = 2\n",
    "for i in range(0, 5):\n",
    "    features_chi2 = chi2(features, labels == i)\n",
    "    indices = np.argsort(features_chi2[0])\n",
    "    feature_names = np.array(tfidf.get_feature_names_out())[indices]\n",
    "    unigrams = [v for v in feature_names if len(v.split(' ')) == 1]\n",
    "    bigrams = [v for v in feature_names if len(v.split(' ')) == 2]\n",
    "    print(\"Label '{}':\".format(i))\n",
    "    print(\"  . Most correlated unigrams:\\n       . {}\".format('\\n       . '.join(unigrams[-N:])))\n",
    "    print(\"  . Most correlated bigrams:\\n       . {}\".format('\\n       . '.join(bigrams[-N:])))"
   ]
  },
  {
   "cell_type": "markdown",
   "source": [
    "# Cross validation"
   ],
   "metadata": {
    "collapsed": false
   }
  },
  {
   "cell_type": "code",
   "outputs": [],
   "source": [
    "from sklearn.model_selection import train_test_split\n",
    "from sklearn.feature_extraction.text import CountVectorizer\n",
    "from sklearn.feature_extraction.text import TfidfTransformer\n",
    "from sklearn.naive_bayes import MultinomialNB\n",
    "\n",
    "X_train, X_test, y_train, y_test = train_test_split(df.text, df.rate, random_state=96)\n",
    "count_vect = CountVectorizer()\n",
    "X_train_counts = count_vect.fit_transform(X_train)\n",
    "tfidf_transformer = TfidfTransformer()\n",
    "X_train_tfidf = tfidf_transformer.fit_transform(X_train_counts)\n",
    "\n",
    "clf = MultinomialNB().fit(X_train_tfidf, y_train)"
   ],
   "metadata": {
    "collapsed": false,
    "ExecuteTime": {
     "end_time": "2024-03-24T17:24:33.223070Z",
     "start_time": "2024-03-24T17:24:32.461911Z"
    }
   },
   "execution_count": 28
  },
  {
   "cell_type": "code",
   "outputs": [
    {
     "data": {
      "text/plain": "   index                                               text\n0      0        Очень хороший магазин и сотрудники приятный\n1      1  Самый обычный продуктовый магазин.  Есть сыры,...\n2      2                             Всё хорошо и комфортно\n3      3  Маленький филиальчик, все необходимое есть. Дв...\n4      4                  Плохо относятся к клиентам!!!!!\\n",
      "text/html": "<div>\n<style scoped>\n    .dataframe tbody tr th:only-of-type {\n        vertical-align: middle;\n    }\n\n    .dataframe tbody tr th {\n        vertical-align: top;\n    }\n\n    .dataframe thead th {\n        text-align: right;\n    }\n</style>\n<table border=\"1\" class=\"dataframe\">\n  <thead>\n    <tr style=\"text-align: right;\">\n      <th></th>\n      <th>index</th>\n      <th>text</th>\n    </tr>\n  </thead>\n  <tbody>\n    <tr>\n      <th>0</th>\n      <td>0</td>\n      <td>Очень хороший магазин и сотрудники приятный</td>\n    </tr>\n    <tr>\n      <th>1</th>\n      <td>1</td>\n      <td>Самый обычный продуктовый магазин.  Есть сыры,...</td>\n    </tr>\n    <tr>\n      <th>2</th>\n      <td>2</td>\n      <td>Всё хорошо и комфортно</td>\n    </tr>\n    <tr>\n      <th>3</th>\n      <td>3</td>\n      <td>Маленький филиальчик, все необходимое есть. Дв...</td>\n    </tr>\n    <tr>\n      <th>4</th>\n      <td>4</td>\n      <td>Плохо относятся к клиентам!!!!!\\n</td>\n    </tr>\n  </tbody>\n</table>\n</div>"
     },
     "execution_count": 22,
     "metadata": {},
     "output_type": "execute_result"
    }
   ],
   "source": [
    "test.head()"
   ],
   "metadata": {
    "collapsed": false
   },
   "execution_count": 22
  },
  {
   "cell_type": "code",
   "outputs": [
    {
     "data": {
      "text/plain": "'отличный'"
     },
     "execution_count": 23,
     "metadata": {},
     "output_type": "execute_result"
    }
   ],
   "source": [
    "i = clf.predict(count_vect.transform([\"Плохо относятся к клиентам!!!!!\\n\"]))\n",
    "id_to_rate[i[0]]"
   ],
   "metadata": {
    "collapsed": false
   },
   "execution_count": 23
  },
  {
   "cell_type": "code",
   "outputs": [
    {
     "data": {
      "text/plain": "'отличный'"
     },
     "execution_count": 24,
     "metadata": {},
     "output_type": "execute_result"
    }
   ],
   "source": [
    "i = clf.predict(\n",
    "    count_vect.transform([\"Маленький филиальчик, все необходимое есть. Две кассы, если народу много, можно застрять.\"]))\n",
    "id_to_rate[i[0]]"
   ],
   "metadata": {
    "collapsed": false
   },
   "execution_count": 24
  },
  {
   "cell_type": "code",
   "outputs": [],
   "source": [
    "from sklearn.linear_model import LogisticRegression\n",
    "from sklearn.ensemble import RandomForestClassifier\n",
    "from sklearn.naive_bayes import MultinomialNB\n",
    "from sklearn.svm import LinearSVC\n",
    "\n",
    "from sklearn.model_selection import cross_val_score\n"
   ],
   "metadata": {
    "collapsed": false,
    "ExecuteTime": {
     "end_time": "2024-03-25T13:38:08.366824Z",
     "start_time": "2024-03-25T13:38:08.197301Z"
    }
   },
   "execution_count": 13
  },
  {
   "cell_type": "code",
   "outputs": [
    {
     "name": "stderr",
     "output_type": "stream",
     "text": [
      "C:\\prj\\ods\\nlp_huawei_new2_task\\venv\\Lib\\site-packages\\sklearn\\svm\\_classes.py:31: FutureWarning: The default value of `dual` will change from `True` to `'auto'` in 1.5. Set the value of `dual` explicitly to suppress the warning.\n",
      "  warnings.warn(\n",
      "C:\\prj\\ods\\nlp_huawei_new2_task\\venv\\Lib\\site-packages\\sklearn\\svm\\_classes.py:31: FutureWarning: The default value of `dual` will change from `True` to `'auto'` in 1.5. Set the value of `dual` explicitly to suppress the warning.\n",
      "  warnings.warn(\n",
      "C:\\prj\\ods\\nlp_huawei_new2_task\\venv\\Lib\\site-packages\\sklearn\\svm\\_classes.py:31: FutureWarning: The default value of `dual` will change from `True` to `'auto'` in 1.5. Set the value of `dual` explicitly to suppress the warning.\n",
      "  warnings.warn(\n",
      "C:\\prj\\ods\\nlp_huawei_new2_task\\venv\\Lib\\site-packages\\sklearn\\svm\\_classes.py:31: FutureWarning: The default value of `dual` will change from `True` to `'auto'` in 1.5. Set the value of `dual` explicitly to suppress the warning.\n",
      "  warnings.warn(\n",
      "C:\\prj\\ods\\nlp_huawei_new2_task\\venv\\Lib\\site-packages\\sklearn\\svm\\_classes.py:31: FutureWarning: The default value of `dual` will change from `True` to `'auto'` in 1.5. Set the value of `dual` explicitly to suppress the warning.\n",
      "  warnings.warn(\n",
      "C:\\prj\\ods\\nlp_huawei_new2_task\\venv\\Lib\\site-packages\\sklearn\\linear_model\\_logistic.py:469: ConvergenceWarning: lbfgs failed to converge (status=1):\n",
      "STOP: TOTAL NO. of ITERATIONS REACHED LIMIT.\n",
      "\n",
      "Increase the number of iterations (max_iter) or scale the data as shown in:\n",
      "    https://scikit-learn.org/stable/modules/preprocessing.html\n",
      "Please also refer to the documentation for alternative solver options:\n",
      "    https://scikit-learn.org/stable/modules/linear_model.html#logistic-regression\n",
      "  n_iter_i = _check_optimize_result(\n",
      "C:\\prj\\ods\\nlp_huawei_new2_task\\venv\\Lib\\site-packages\\sklearn\\linear_model\\_logistic.py:469: ConvergenceWarning: lbfgs failed to converge (status=1):\n",
      "STOP: TOTAL NO. of ITERATIONS REACHED LIMIT.\n",
      "\n",
      "Increase the number of iterations (max_iter) or scale the data as shown in:\n",
      "    https://scikit-learn.org/stable/modules/preprocessing.html\n",
      "Please also refer to the documentation for alternative solver options:\n",
      "    https://scikit-learn.org/stable/modules/linear_model.html#logistic-regression\n",
      "  n_iter_i = _check_optimize_result(\n",
      "C:\\prj\\ods\\nlp_huawei_new2_task\\venv\\Lib\\site-packages\\sklearn\\linear_model\\_logistic.py:469: ConvergenceWarning: lbfgs failed to converge (status=1):\n",
      "STOP: TOTAL NO. of ITERATIONS REACHED LIMIT.\n",
      "\n",
      "Increase the number of iterations (max_iter) or scale the data as shown in:\n",
      "    https://scikit-learn.org/stable/modules/preprocessing.html\n",
      "Please also refer to the documentation for alternative solver options:\n",
      "    https://scikit-learn.org/stable/modules/linear_model.html#logistic-regression\n",
      "  n_iter_i = _check_optimize_result(\n",
      "C:\\prj\\ods\\nlp_huawei_new2_task\\venv\\Lib\\site-packages\\sklearn\\linear_model\\_logistic.py:469: ConvergenceWarning: lbfgs failed to converge (status=1):\n",
      "STOP: TOTAL NO. of ITERATIONS REACHED LIMIT.\n",
      "\n",
      "Increase the number of iterations (max_iter) or scale the data as shown in:\n",
      "    https://scikit-learn.org/stable/modules/preprocessing.html\n",
      "Please also refer to the documentation for alternative solver options:\n",
      "    https://scikit-learn.org/stable/modules/linear_model.html#logistic-regression\n",
      "  n_iter_i = _check_optimize_result(\n",
      "C:\\prj\\ods\\nlp_huawei_new2_task\\venv\\Lib\\site-packages\\sklearn\\linear_model\\_logistic.py:469: ConvergenceWarning: lbfgs failed to converge (status=1):\n",
      "STOP: TOTAL NO. of ITERATIONS REACHED LIMIT.\n",
      "\n",
      "Increase the number of iterations (max_iter) or scale the data as shown in:\n",
      "    https://scikit-learn.org/stable/modules/preprocessing.html\n",
      "Please also refer to the documentation for alternative solver options:\n",
      "    https://scikit-learn.org/stable/modules/linear_model.html#logistic-regression\n",
      "  n_iter_i = _check_optimize_result(\n"
     ]
    }
   ],
   "source": [
    "\n",
    "models = [\n",
    "    RandomForestClassifier(n_estimators=200, max_depth=3, random_state=0),\n",
    "    LinearSVC(),\n",
    "    MultinomialNB(),\n",
    "    LogisticRegression(random_state=0),\n",
    "]\n",
    "CV = 5\n",
    "cv_df = pd.DataFrame(index=range(CV * len(models)))\n",
    "entries = []\n",
    "for model in models:\n",
    "    model_name = model.__class__.__name__\n",
    "    accuracies = cross_val_score(model, features, labels, scoring='accuracy', cv=CV)\n",
    "    for fold_idx, accuracy in enumerate(accuracies):\n",
    "        entries.append((model_name, fold_idx, accuracy))\n",
    "cv_df = pd.DataFrame(entries, columns=['model_name', 'fold_idx', 'accuracy'])"
   ],
   "metadata": {
    "collapsed": false,
    "ExecuteTime": {
     "end_time": "2024-03-24T17:43:50.971244Z",
     "start_time": "2024-03-24T17:25:31.019002Z"
    }
   },
   "execution_count": 29
  },
  {
   "cell_type": "code",
   "outputs": [
    {
     "data": {
      "text/plain": "                model_name  fold_idx  accuracy\n0   RandomForestClassifier         0  0.535703\n1   RandomForestClassifier         1  0.535601\n2   RandomForestClassifier         2  0.535703\n3   RandomForestClassifier         3  0.535703\n4   RandomForestClassifier         4  0.535703\n5                LinearSVC         0  0.625193\n6                LinearSVC         1  0.622624\n7                LinearSVC         2  0.630946\n8                LinearSVC         3  0.628275\n9                LinearSVC         4  0.632385\n10           MultinomialNB         0  0.629816\n11           MultinomialNB         1  0.628994\n12           MultinomialNB         2  0.630330\n13           MultinomialNB         3  0.634748\n14           MultinomialNB         4  0.627864\n15      LogisticRegression         0  0.647591\n16      LogisticRegression         1  0.648002\n17      LogisticRegression         2  0.647693\n18      LogisticRegression         3  0.655810\n19      LogisticRegression         4  0.647899",
      "text/html": "<div>\n<style scoped>\n    .dataframe tbody tr th:only-of-type {\n        vertical-align: middle;\n    }\n\n    .dataframe tbody tr th {\n        vertical-align: top;\n    }\n\n    .dataframe thead th {\n        text-align: right;\n    }\n</style>\n<table border=\"1\" class=\"dataframe\">\n  <thead>\n    <tr style=\"text-align: right;\">\n      <th></th>\n      <th>model_name</th>\n      <th>fold_idx</th>\n      <th>accuracy</th>\n    </tr>\n  </thead>\n  <tbody>\n    <tr>\n      <th>0</th>\n      <td>RandomForestClassifier</td>\n      <td>0</td>\n      <td>0.535703</td>\n    </tr>\n    <tr>\n      <th>1</th>\n      <td>RandomForestClassifier</td>\n      <td>1</td>\n      <td>0.535601</td>\n    </tr>\n    <tr>\n      <th>2</th>\n      <td>RandomForestClassifier</td>\n      <td>2</td>\n      <td>0.535703</td>\n    </tr>\n    <tr>\n      <th>3</th>\n      <td>RandomForestClassifier</td>\n      <td>3</td>\n      <td>0.535703</td>\n    </tr>\n    <tr>\n      <th>4</th>\n      <td>RandomForestClassifier</td>\n      <td>4</td>\n      <td>0.535703</td>\n    </tr>\n    <tr>\n      <th>5</th>\n      <td>LinearSVC</td>\n      <td>0</td>\n      <td>0.625193</td>\n    </tr>\n    <tr>\n      <th>6</th>\n      <td>LinearSVC</td>\n      <td>1</td>\n      <td>0.622624</td>\n    </tr>\n    <tr>\n      <th>7</th>\n      <td>LinearSVC</td>\n      <td>2</td>\n      <td>0.630946</td>\n    </tr>\n    <tr>\n      <th>8</th>\n      <td>LinearSVC</td>\n      <td>3</td>\n      <td>0.628275</td>\n    </tr>\n    <tr>\n      <th>9</th>\n      <td>LinearSVC</td>\n      <td>4</td>\n      <td>0.632385</td>\n    </tr>\n    <tr>\n      <th>10</th>\n      <td>MultinomialNB</td>\n      <td>0</td>\n      <td>0.629816</td>\n    </tr>\n    <tr>\n      <th>11</th>\n      <td>MultinomialNB</td>\n      <td>1</td>\n      <td>0.628994</td>\n    </tr>\n    <tr>\n      <th>12</th>\n      <td>MultinomialNB</td>\n      <td>2</td>\n      <td>0.630330</td>\n    </tr>\n    <tr>\n      <th>13</th>\n      <td>MultinomialNB</td>\n      <td>3</td>\n      <td>0.634748</td>\n    </tr>\n    <tr>\n      <th>14</th>\n      <td>MultinomialNB</td>\n      <td>4</td>\n      <td>0.627864</td>\n    </tr>\n    <tr>\n      <th>15</th>\n      <td>LogisticRegression</td>\n      <td>0</td>\n      <td>0.647591</td>\n    </tr>\n    <tr>\n      <th>16</th>\n      <td>LogisticRegression</td>\n      <td>1</td>\n      <td>0.648002</td>\n    </tr>\n    <tr>\n      <th>17</th>\n      <td>LogisticRegression</td>\n      <td>2</td>\n      <td>0.647693</td>\n    </tr>\n    <tr>\n      <th>18</th>\n      <td>LogisticRegression</td>\n      <td>3</td>\n      <td>0.655810</td>\n    </tr>\n    <tr>\n      <th>19</th>\n      <td>LogisticRegression</td>\n      <td>4</td>\n      <td>0.647899</td>\n    </tr>\n  </tbody>\n</table>\n</div>"
     },
     "execution_count": 30,
     "metadata": {},
     "output_type": "execute_result"
    }
   ],
   "source": [
    "cv_df"
   ],
   "metadata": {
    "collapsed": false,
    "ExecuteTime": {
     "end_time": "2024-03-24T17:43:55.914586Z",
     "start_time": "2024-03-24T17:43:55.846315Z"
    }
   },
   "execution_count": 30
  },
  {
   "cell_type": "code",
   "execution_count": 16,
   "metadata": {
    "ExecuteTime": {
     "end_time": "2024-03-25T13:39:22.972362Z",
     "start_time": "2024-03-25T13:39:22.951283Z"
    }
   },
   "outputs": [
    {
     "ename": "NameError",
     "evalue": "name 'cv_df' is not defined",
     "output_type": "error",
     "traceback": [
      "\u001B[1;31m---------------------------------------------------------------------------\u001B[0m",
      "\u001B[1;31mNameError\u001B[0m                                 Traceback (most recent call last)",
      "Cell \u001B[1;32mIn[16], line 4\u001B[0m\n\u001B[0;32m      1\u001B[0m \u001B[38;5;28;01mimport\u001B[39;00m \u001B[38;5;21;01mmatplotlib\u001B[39;00m\u001B[38;5;21;01m.\u001B[39;00m\u001B[38;5;21;01mpyplot\u001B[39;00m \u001B[38;5;28;01mas\u001B[39;00m \u001B[38;5;21;01mplt\u001B[39;00m\n\u001B[0;32m      2\u001B[0m \u001B[38;5;28;01mimport\u001B[39;00m \u001B[38;5;21;01mseaborn\u001B[39;00m \u001B[38;5;28;01mas\u001B[39;00m \u001B[38;5;21;01msns\u001B[39;00m\n\u001B[1;32m----> 4\u001B[0m sns\u001B[38;5;241m.\u001B[39mboxplot(x\u001B[38;5;241m=\u001B[39m\u001B[38;5;124m'\u001B[39m\u001B[38;5;124mmodel_name\u001B[39m\u001B[38;5;124m'\u001B[39m, y\u001B[38;5;241m=\u001B[39m\u001B[38;5;124m'\u001B[39m\u001B[38;5;124maccuracy\u001B[39m\u001B[38;5;124m'\u001B[39m, data\u001B[38;5;241m=\u001B[39m\u001B[43mcv_df\u001B[49m)\n\u001B[0;32m      5\u001B[0m sns\u001B[38;5;241m.\u001B[39mstripplot(x\u001B[38;5;241m=\u001B[39m\u001B[38;5;124m'\u001B[39m\u001B[38;5;124mmodel_name\u001B[39m\u001B[38;5;124m'\u001B[39m, y\u001B[38;5;241m=\u001B[39m\u001B[38;5;124m'\u001B[39m\u001B[38;5;124maccuracy\u001B[39m\u001B[38;5;124m'\u001B[39m, data\u001B[38;5;241m=\u001B[39mcv_df,\n\u001B[0;32m      6\u001B[0m               size\u001B[38;5;241m=\u001B[39m\u001B[38;5;241m8\u001B[39m, jitter\u001B[38;5;241m=\u001B[39m\u001B[38;5;28;01mTrue\u001B[39;00m, edgecolor\u001B[38;5;241m=\u001B[39m\u001B[38;5;124m\"\u001B[39m\u001B[38;5;124mgray\u001B[39m\u001B[38;5;124m\"\u001B[39m, linewidth\u001B[38;5;241m=\u001B[39m\u001B[38;5;241m2\u001B[39m)\n\u001B[0;32m      7\u001B[0m plt\u001B[38;5;241m.\u001B[39mshow()\n",
      "\u001B[1;31mNameError\u001B[0m: name 'cv_df' is not defined"
     ]
    }
   ],
   "source": [
    "import matplotlib.pyplot as plt\n",
    "import seaborn as sns\n",
    "\n",
    "sns.boxplot(x='model_name', y='accuracy', data=cv_df)\n",
    "sns.stripplot(x='model_name', y='accuracy', data=cv_df,\n",
    "              size=8, jitter=True, edgecolor=\"gray\", linewidth=2)\n",
    "plt.show()"
   ]
  },
  {
   "cell_type": "code",
   "outputs": [],
   "source": [],
   "metadata": {
    "collapsed": false,
    "ExecuteTime": {
     "end_time": "2024-03-24T17:44:22.223003Z",
     "start_time": "2024-03-24T17:44:22.220485Z"
    }
   },
   "execution_count": 31
  },
  {
   "cell_type": "code",
   "execution_count": 35,
   "metadata": {
    "ExecuteTime": {
     "end_time": "2024-03-24T17:47:15.498378Z",
     "start_time": "2024-03-24T17:47:15.492849Z"
    }
   },
   "outputs": [
    {
     "data": {
      "text/plain": "model_name\nLinearSVC                 0.627885\nLogisticRegression        0.649399\nMultinomialNB             0.630350\nRandomForestClassifier    0.535683\nName: accuracy, dtype: float64"
     },
     "execution_count": 35,
     "metadata": {},
     "output_type": "execute_result"
    }
   ],
   "source": [
    "cv_df.groupby('model_name').accuracy.mean()"
   ]
  },
  {
   "cell_type": "markdown",
   "source": [
    "# Обучение на выбранной модели"
   ],
   "metadata": {
    "collapsed": false
   }
  },
  {
   "cell_type": "code",
   "execution_count": 14,
   "metadata": {
    "collapsed": true,
    "ExecuteTime": {
     "end_time": "2024-03-25T13:38:59.233363Z",
     "start_time": "2024-03-25T13:38:13.978147Z"
    }
   },
   "outputs": [
    {
     "name": "stderr",
     "output_type": "stream",
     "text": [
      "C:\\prj\\ods\\nlp_huawei_new2_task\\venv\\Lib\\site-packages\\sklearn\\linear_model\\_logistic.py:469: ConvergenceWarning: lbfgs failed to converge (status=1):\n",
      "STOP: TOTAL NO. of ITERATIONS REACHED LIMIT.\n",
      "\n",
      "Increase the number of iterations (max_iter) or scale the data as shown in:\n",
      "    https://scikit-learn.org/stable/modules/preprocessing.html\n",
      "Please also refer to the documentation for alternative solver options:\n",
      "    https://scikit-learn.org/stable/modules/linear_model.html#logistic-regression\n",
      "  n_iter_i = _check_optimize_result(\n"
     ]
    }
   ],
   "source": [
    "from sklearn.model_selection import train_test_split\n",
    "\n",
    "model = LogisticRegression(random_state=0)\n",
    "\n",
    "X_train, X_test, y_train, y_test, indices_train, indices_test = train_test_split(features, labels, df.index,\n",
    "                                                                                 test_size=0.33, random_state=0,\n",
    "                                                                                 verbose=True)\n",
    "model.fit(X_train, y_train)\n",
    "y_pred = model.predict(X_test)"
   ]
  },
  {
   "cell_type": "code",
   "execution_count": 17,
   "metadata": {
    "ExecuteTime": {
     "end_time": "2024-03-25T13:39:35.530932Z",
     "start_time": "2024-03-25T13:39:34.912785Z"
    }
   },
   "outputs": [
    {
     "data": {
      "text/plain": "<Figure size 800x600 with 2 Axes>",
      "image/png": "[encoded data removed]"
     },
     "metadata": {},
     "output_type": "display_data"
    }
   ],
   "source": [
    "from sklearn.metrics import confusion_matrix\n",
    "\n",
    "conf_mat = confusion_matrix(y_test, y_pred)\n",
    "fig, ax = plt.subplots(figsize=(8, 6))\n",
    "sns.heatmap(conf_mat, annot=True, fmt='d',\n",
    "            xticklabels=id_to_rate, yticklabels=id_to_rate)\n",
    "plt.ylabel('Actual')\n",
    "plt.xlabel('Predicted')\n",
    "plt.show()"
   ]
  },
  {
   "cell_type": "code",
   "execution_count": 18,
   "metadata": {
    "ExecuteTime": {
     "end_time": "2024-03-25T13:39:38.742268Z",
     "start_time": "2024-03-25T13:39:38.710035Z"
    }
   },
   "outputs": [
    {
     "name": "stdout",
     "output_type": "stream",
     "text": [
      "                precision    recall  f1-score   support\n",
      "\n",
      "отвратительный       0.56      0.58      0.57      1368\n",
      "       хороший       0.25      0.03      0.06       785\n",
      "     маленький       0.41      0.36      0.38      2047\n",
      "      неплохой       0.46      0.34      0.39      3272\n",
      "      отличный       0.75      0.90      0.82      8588\n",
      "\n",
      "      accuracy                           0.65     16060\n",
      "     macro avg       0.48      0.44      0.44     16060\n",
      "  weighted avg       0.61      0.65      0.62     16060\n"
     ]
    }
   ],
   "source": [
    "from sklearn import metrics\n",
    "\n",
    "print(metrics.classification_report(y_test, y_pred, target_names=id_to_rate))"
   ]
  },
  {
   "cell_type": "markdown",
   "source": [
    "# Тест"
   ],
   "metadata": {
    "collapsed": false
   }
  },
  {
   "cell_type": "code",
   "outputs": [
    {
     "name": "stdout",
     "output_type": "stream",
     "text": [
      "<class 'pandas.core.frame.DataFrame'>\n",
      "RangeIndex: 12167 entries, 0 to 12166\n",
      "Data columns (total 2 columns):\n",
      " #   Column  Non-Null Count  Dtype \n",
      "---  ------  --------------  ----- \n",
      " 0   index   12167 non-null  int64 \n",
      " 1   text    12167 non-null  object\n",
      "dtypes: int64(1), object(1)\n",
      "memory usage: 190.2+ KB\n"
     ]
    }
   ],
   "source": [
    "test.info()"
   ],
   "metadata": {
    "collapsed": false,
    "ExecuteTime": {
     "end_time": "2024-03-25T13:39:55.771848Z",
     "start_time": "2024-03-25T13:39:55.703926Z"
    }
   },
   "execution_count": 19
  },
  {
   "cell_type": "markdown",
   "source": [
    "## Предобработка"
   ],
   "metadata": {
    "collapsed": false
   }
  },
  {
   "cell_type": "code",
   "outputs": [
    {
     "name": "stderr",
     "output_type": "stream",
     "text": [
      "100%|██████████| 12167/12167 [00:40<00:00, 299.13it/s]\n"
     ]
    }
   ],
   "source": [
    "test['text_clear'] = test['text'].progress_apply(preprocess_text)"
   ],
   "metadata": {
    "collapsed": false,
    "ExecuteTime": {
     "end_time": "2024-03-25T13:41:40.468685Z",
     "start_time": "2024-03-25T13:40:59.780388Z"
    }
   },
   "execution_count": 20
  },
  {
   "cell_type": "markdown",
   "source": [
    "## Word2vec"
   ],
   "metadata": {
    "collapsed": false
   }
  },
  {
   "cell_type": "code",
   "outputs": [
    {
     "data": {
      "text/plain": "(12167, 5000)"
     },
     "execution_count": 34,
     "metadata": {},
     "output_type": "execute_result"
    }
   ],
   "source": [
    "# features1 = tfidf.fit_transform(test.text_clear).toarray()\n",
    "features1 = tfidf.fit_transform(test.text_clear)\n",
    "features1.shape"
   ],
   "metadata": {
    "collapsed": false,
    "ExecuteTime": {
     "end_time": "2024-03-25T15:39:14.360666Z",
     "start_time": "2024-03-25T15:39:13.414661Z"
    }
   },
   "execution_count": 34
  },
  {
   "cell_type": "markdown",
   "source": [
    "## Предсказания"
   ],
   "metadata": {
    "collapsed": false
   }
  },
  {
   "cell_type": "code",
   "outputs": [
    {
     "data": {
      "text/plain": "(1, 5000)"
     },
     "execution_count": 35,
     "metadata": {},
     "output_type": "execute_result"
    }
   ],
   "source": [
    "features1[0].shape"
   ],
   "metadata": {
    "collapsed": false,
    "ExecuteTime": {
     "end_time": "2024-03-25T15:39:16.899805Z",
     "start_time": "2024-03-25T15:39:16.894388Z"
    }
   },
   "execution_count": 35
  },
  {
   "cell_type": "code",
   "outputs": [],
   "source": [
    "test['label'] = model.predict(features1)"
   ],
   "metadata": {
    "collapsed": false,
    "ExecuteTime": {
     "end_time": "2024-03-25T15:44:22.300253Z",
     "start_time": "2024-03-25T15:44:22.294467Z"
    }
   },
   "execution_count": 37
  },
  {
   "cell_type": "code",
   "outputs": [
    {
     "data": {
      "text/plain": "   index                                               text  \\\n0      0        Очень хороший магазин и сотрудники приятный   \n1      1  Самый обычный продуктовый магазин.  Есть сыры,...   \n2      2                             Всё хорошо и комфортно   \n3      3  Маленький филиальчик, все необходимое есть. Дв...   \n4      4                  Плохо относятся к клиентам!!!!!\\n   \n\n                                          text_clear  label  rate  \n0         очень хороший магазин и сотрудник приятный      4     5  \n1  самый обычный продуктовый магазин есть сыр кол...      4     5  \n2                             всё хорошо и комфортно      4     5  \n3  маленький филиальчик всенеобходимый есть два к...      4     5  \n4                          плохо относиться к клиент      4     5  ",
      "text/html": "<div>\n<style scoped>\n    .dataframe tbody tr th:only-of-type {\n        vertical-align: middle;\n    }\n\n    .dataframe tbody tr th {\n        vertical-align: top;\n    }\n\n    .dataframe thead th {\n        text-align: right;\n    }\n</style>\n<table border=\"1\" class=\"dataframe\">\n  <thead>\n    <tr style=\"text-align: right;\">\n      <th></th>\n      <th>index</th>\n      <th>text</th>\n      <th>text_clear</th>\n      <th>label</th>\n      <th>rate</th>\n    </tr>\n  </thead>\n  <tbody>\n    <tr>\n      <th>0</th>\n      <td>0</td>\n      <td>Очень хороший магазин и сотрудники приятный</td>\n      <td>очень хороший магазин и сотрудник приятный</td>\n      <td>4</td>\n      <td>5</td>\n    </tr>\n    <tr>\n      <th>1</th>\n      <td>1</td>\n      <td>Самый обычный продуктовый магазин.  Есть сыры,...</td>\n      <td>самый обычный продуктовый магазин есть сыр кол...</td>\n      <td>4</td>\n      <td>5</td>\n    </tr>\n    <tr>\n      <th>2</th>\n      <td>2</td>\n      <td>Всё хорошо и комфортно</td>\n      <td>всё хорошо и комфортно</td>\n      <td>4</td>\n      <td>5</td>\n    </tr>\n    <tr>\n      <th>3</th>\n      <td>3</td>\n      <td>Маленький филиальчик, все необходимое есть. Дв...</td>\n      <td>маленький филиальчик всенеобходимый есть два к...</td>\n      <td>4</td>\n      <td>5</td>\n    </tr>\n    <tr>\n      <th>4</th>\n      <td>4</td>\n      <td>Плохо относятся к клиентам!!!!!\\n</td>\n      <td>плохо относиться к клиент</td>\n      <td>4</td>\n      <td>5</td>\n    </tr>\n  </tbody>\n</table>\n</div>"
     },
     "execution_count": 38,
     "metadata": {},
     "output_type": "execute_result"
    }
   ],
   "source": [
    "test.head()"
   ],
   "metadata": {
    "collapsed": false,
    "ExecuteTime": {
     "end_time": "2024-03-25T15:44:24.341746Z",
     "start_time": "2024-03-25T15:44:24.334155Z"
    }
   },
   "execution_count": 38
  },
  {
   "cell_type": "markdown",
   "source": [
    "## Обратная перекодировка"
   ],
   "metadata": {
    "collapsed": false
   }
  },
  {
   "cell_type": "code",
   "outputs": [],
   "source": [
    "test['rate'] = label_encoder.inverse_transform(test.label)"
   ],
   "metadata": {
    "collapsed": false,
    "ExecuteTime": {
     "end_time": "2024-03-25T13:45:11.020445Z",
     "start_time": "2024-03-25T13:45:11.015378Z"
    }
   },
   "execution_count": 24
  },
  {
   "cell_type": "markdown",
   "source": [
    "## Создание тестового набора "
   ],
   "metadata": {
    "collapsed": false
   }
  },
  {
   "cell_type": "code",
   "outputs": [
    {
     "data": {
      "text/plain": "       index  rate\n0          0     5\n1          1     5\n2          2     5\n3          3     5\n4          4     5\n...      ...   ...\n12162  12162     5\n12163  12163     5\n12164  12164     1\n12165  12165     5\n12166  12166     5\n\n[12167 rows x 2 columns]",
      "text/html": "<div>\n<style scoped>\n    .dataframe tbody tr th:only-of-type {\n        vertical-align: middle;\n    }\n\n    .dataframe tbody tr th {\n        vertical-align: top;\n    }\n\n    .dataframe thead th {\n        text-align: right;\n    }\n</style>\n<table border=\"1\" class=\"dataframe\">\n  <thead>\n    <tr style=\"text-align: right;\">\n      <th></th>\n      <th>index</th>\n      <th>rate</th>\n    </tr>\n  </thead>\n  <tbody>\n    <tr>\n      <th>0</th>\n      <td>0</td>\n      <td>5</td>\n    </tr>\n    <tr>\n      <th>1</th>\n      <td>1</td>\n      <td>5</td>\n    </tr>\n    <tr>\n      <th>2</th>\n      <td>2</td>\n      <td>5</td>\n    </tr>\n    <tr>\n      <th>3</th>\n      <td>3</td>\n      <td>5</td>\n    </tr>\n    <tr>\n      <th>4</th>\n      <td>4</td>\n      <td>5</td>\n    </tr>\n    <tr>\n      <th>...</th>\n      <td>...</td>\n      <td>...</td>\n    </tr>\n    <tr>\n      <th>12162</th>\n      <td>12162</td>\n      <td>5</td>\n    </tr>\n    <tr>\n      <th>12163</th>\n      <td>12163</td>\n      <td>5</td>\n    </tr>\n    <tr>\n      <th>12164</th>\n      <td>12164</td>\n      <td>1</td>\n    </tr>\n    <tr>\n      <th>12165</th>\n      <td>12165</td>\n      <td>5</td>\n    </tr>\n    <tr>\n      <th>12166</th>\n      <td>12166</td>\n      <td>5</td>\n    </tr>\n  </tbody>\n</table>\n<p>12167 rows × 2 columns</p>\n</div>"
     },
     "execution_count": 27,
     "metadata": {},
     "output_type": "execute_result"
    }
   ],
   "source": [
    "submission = test[['index', 'rate']]\n",
    "submission"
   ],
   "metadata": {
    "collapsed": false,
    "ExecuteTime": {
     "end_time": "2024-03-25T13:46:22.573265Z",
     "start_time": "2024-03-25T13:46:22.565282Z"
    }
   },
   "execution_count": 27
  },
  {
   "cell_type": "code",
   "outputs": [],
   "source": [
    "submission.to_csv('submission.csv', index=False)"
   ],
   "metadata": {
    "collapsed": false,
    "ExecuteTime": {
     "end_time": "2024-03-25T13:47:59.945828Z",
     "start_time": "2024-03-25T13:47:59.925252Z"
    }
   },
   "execution_count": 28
  },
  {
   "cell_type": "markdown",
   "source": [
    "\n",
    "> 0,3935557275\t\n"
   ],
   "metadata": {
    "collapsed": false
   }
  },
  {
   "cell_type": "code",
   "outputs": [],
   "source": [],
   "metadata": {
    "collapsed": false
   }
  }
 ],
 "metadata": {
  "kernelspec": {
   "name": "python3",
   "language": "python",
   "display_name": "Python 3 (ipykernel)"
  },
  "language_info": {
   "codemirror_mode": {
    "name": "ipython",
    "version": 3
   },
   "file_extension": ".py",
   "mimetype": "text/x-python",
   "name": "python",
   "nbconvert_exporter": "python",
   "pygments_lexer": "ipython3",
   "version": "3.6.2"
  }
 },
 "nbformat": 4,
 "nbformat_minor": 2
}
