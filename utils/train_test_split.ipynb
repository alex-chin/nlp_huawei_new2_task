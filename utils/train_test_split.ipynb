{
 "cells": [
  {
   "cell_type": "code",
   "execution_count": 1,
   "id": "0d1a5e1f-b6d6-4231-bbd5-578a9d2bc201",
   "metadata": {},
   "outputs": [],
   "source": [
    "import pandas as pd\n",
    "import re\n",
    "from sklearn.model_selection import StratifiedKFold"
   ]
  },
  {
   "cell_type": "code",
   "execution_count": 2,
   "id": "3c09c9f7-6bca-4d0c-8613-fa206515619c",
   "metadata": {},
   "outputs": [
    {
     "data": {
      "text/html": [
       "<div>\n",
       "<style scoped>\n",
       "    .dataframe tbody tr th:only-of-type {\n",
       "        vertical-align: middle;\n",
       "    }\n",
       "\n",
       "    .dataframe tbody tr th {\n",
       "        vertical-align: top;\n",
       "    }\n",
       "\n",
       "    .dataframe thead th {\n",
       "        text-align: right;\n",
       "    }\n",
       "</style>\n",
       "<table border=\"1\" class=\"dataframe\">\n",
       "  <thead>\n",
       "    <tr style=\"text-align: right;\">\n",
       "      <th></th>\n",
       "      <th>movie_name</th>\n",
       "      <th>movie_genre</th>\n",
       "      <th>movie_description</th>\n",
       "    </tr>\n",
       "  </thead>\n",
       "  <tbody>\n",
       "    <tr>\n",
       "      <th>0</th>\n",
       "      <td>Werewolf by Night</td>\n",
       "      <td>Fantasy, Action, Adventure, Horror</td>\n",
       "      <td>On a dark and somber night, a secret cabal of ...</td>\n",
       "    </tr>\n",
       "    <tr>\n",
       "      <th>1</th>\n",
       "      <td>Halloween Ends</td>\n",
       "      <td>Holiday, Horror, Mystery &amp; thriller</td>\n",
       "      <td>This is Laurie Strode's last stand. After 45 y...</td>\n",
       "    </tr>\n",
       "    <tr>\n",
       "      <th>2</th>\n",
       "      <td>Luckiest Girl Alive</td>\n",
       "      <td>Crime, Drama</td>\n",
       "      <td>Luckiest Girl Alive centers on Ani FaNelli, a ...</td>\n",
       "    </tr>\n",
       "    <tr>\n",
       "      <th>3</th>\n",
       "      <td>Hellraiser</td>\n",
       "      <td>Horror, Mystery &amp; thriller</td>\n",
       "      <td>A new take on Clive Barker's 1987 horror class...</td>\n",
       "    </tr>\n",
       "    <tr>\n",
       "      <th>4</th>\n",
       "      <td>Mr. Harrigan's Phone</td>\n",
       "      <td>Horror</td>\n",
       "      <td>When Craig, a young boy living in a small town...</td>\n",
       "    </tr>\n",
       "  </tbody>\n",
       "</table>\n",
       "</div>"
      ],
      "text/plain": [
       "             movie_name                          movie_genre  \\\n",
       "0     Werewolf by Night   Fantasy, Action, Adventure, Horror   \n",
       "1        Halloween Ends  Holiday, Horror, Mystery & thriller   \n",
       "2   Luckiest Girl Alive                         Crime, Drama   \n",
       "3            Hellraiser           Horror, Mystery & thriller   \n",
       "4  Mr. Harrigan's Phone                               Horror   \n",
       "\n",
       "                                   movie_description  \n",
       "0  On a dark and somber night, a secret cabal of ...  \n",
       "1  This is Laurie Strode's last stand. After 45 y...  \n",
       "2  Luckiest Girl Alive centers on Ani FaNelli, a ...  \n",
       "3  A new take on Clive Barker's 1987 horror class...  \n",
       "4  When Craig, a young boy living in a small town...  "
      ]
     },
     "execution_count": 2,
     "metadata": {},
     "output_type": "execute_result"
    }
   ],
   "source": [
    "raw_data = pd.read_csv(\"../raw_data.csv\", sep=\"|\")\n",
    "raw_data.head()"
   ]
  },
  {
   "cell_type": "code",
   "execution_count": 3,
   "id": "73b8f8bc-3d63-446a-a18e-92b856f48d15",
   "metadata": {},
   "outputs": [
    {
     "data": {
      "text/plain": [
       "(8986, 3)"
      ]
     },
     "execution_count": 3,
     "metadata": {},
     "output_type": "execute_result"
    }
   ],
   "source": [
    "raw_data.shape"
   ]
  },
  {
   "cell_type": "code",
   "execution_count": 4,
   "id": "1d90c93a-29af-4612-925d-04aaffd339f6",
   "metadata": {},
   "outputs": [
    {
     "data": {
      "text/html": [
       "<div>\n",
       "<style scoped>\n",
       "    .dataframe tbody tr th:only-of-type {\n",
       "        vertical-align: middle;\n",
       "    }\n",
       "\n",
       "    .dataframe tbody tr th {\n",
       "        vertical-align: top;\n",
       "    }\n",
       "\n",
       "    .dataframe thead th {\n",
       "        text-align: right;\n",
       "    }\n",
       "</style>\n",
       "<table border=\"1\" class=\"dataframe\">\n",
       "  <thead>\n",
       "    <tr style=\"text-align: right;\">\n",
       "      <th></th>\n",
       "      <th>movie_name</th>\n",
       "      <th>movie_genre</th>\n",
       "      <th>movie_description</th>\n",
       "      <th>target</th>\n",
       "    </tr>\n",
       "  </thead>\n",
       "  <tbody>\n",
       "    <tr>\n",
       "      <th>0</th>\n",
       "      <td>Werewolf by Night</td>\n",
       "      <td>Fantasy, Action, Adventure, Horror</td>\n",
       "      <td>On a dark and somber night, a secret cabal of ...</td>\n",
       "      <td>Fantasy</td>\n",
       "    </tr>\n",
       "    <tr>\n",
       "      <th>1</th>\n",
       "      <td>Halloween Ends</td>\n",
       "      <td>Holiday, Horror, Mystery &amp; thriller</td>\n",
       "      <td>This is Laurie Strode's last stand. After 45 y...</td>\n",
       "      <td>Holiday</td>\n",
       "    </tr>\n",
       "    <tr>\n",
       "      <th>2</th>\n",
       "      <td>Luckiest Girl Alive</td>\n",
       "      <td>Crime, Drama</td>\n",
       "      <td>Luckiest Girl Alive centers on Ani FaNelli, a ...</td>\n",
       "      <td>Crime</td>\n",
       "    </tr>\n",
       "    <tr>\n",
       "      <th>3</th>\n",
       "      <td>Hellraiser</td>\n",
       "      <td>Horror, Mystery &amp; thriller</td>\n",
       "      <td>A new take on Clive Barker's 1987 horror class...</td>\n",
       "      <td>Horror</td>\n",
       "    </tr>\n",
       "    <tr>\n",
       "      <th>4</th>\n",
       "      <td>Mr. Harrigan's Phone</td>\n",
       "      <td>Horror</td>\n",
       "      <td>When Craig, a young boy living in a small town...</td>\n",
       "      <td>Horror</td>\n",
       "    </tr>\n",
       "  </tbody>\n",
       "</table>\n",
       "</div>"
      ],
      "text/plain": [
       "             movie_name                          movie_genre  \\\n",
       "0     Werewolf by Night   Fantasy, Action, Adventure, Horror   \n",
       "1        Halloween Ends  Holiday, Horror, Mystery & thriller   \n",
       "2   Luckiest Girl Alive                         Crime, Drama   \n",
       "3            Hellraiser           Horror, Mystery & thriller   \n",
       "4  Mr. Harrigan's Phone                               Horror   \n",
       "\n",
       "                                   movie_description   target  \n",
       "0  On a dark and somber night, a secret cabal of ...  Fantasy  \n",
       "1  This is Laurie Strode's last stand. After 45 y...  Holiday  \n",
       "2  Luckiest Girl Alive centers on Ani FaNelli, a ...    Crime  \n",
       "3  A new take on Clive Barker's 1987 horror class...   Horror  \n",
       "4  When Craig, a young boy living in a small town...   Horror  "
      ]
     },
     "execution_count": 4,
     "metadata": {},
     "output_type": "execute_result"
    }
   ],
   "source": [
    "raw_data[\"target\"] = raw_data.movie_genre.apply(lambda x: re.findall(r\"\\w+\", x)[0])\n",
    "raw_data.head()"
   ]
  },
  {
   "cell_type": "code",
   "execution_count": 5,
   "id": "942f0fc8-15f2-4f6a-9829-1ed0c9c36d75",
   "metadata": {},
   "outputs": [
    {
     "data": {
      "text/plain": [
       "['Comedy', 'Drama', 'Horror', 'Mystery', 'Action', 'Kids']"
      ]
     },
     "execution_count": 5,
     "metadata": {},
     "output_type": "execute_result"
    }
   ],
   "source": [
    "top_6_genre = raw_data.target.value_counts().nlargest(6).keys().tolist()\n",
    "top_6_genre"
   ]
  },
  {
   "cell_type": "code",
   "execution_count": 6,
   "id": "4b8aab91-5169-4469-ac06-5e97d9276ad0",
   "metadata": {},
   "outputs": [
    {
     "data": {
      "text/html": [
       "<div>\n",
       "<style scoped>\n",
       "    .dataframe tbody tr th:only-of-type {\n",
       "        vertical-align: middle;\n",
       "    }\n",
       "\n",
       "    .dataframe tbody tr th {\n",
       "        vertical-align: top;\n",
       "    }\n",
       "\n",
       "    .dataframe thead th {\n",
       "        text-align: right;\n",
       "    }\n",
       "</style>\n",
       "<table border=\"1\" class=\"dataframe\">\n",
       "  <thead>\n",
       "    <tr style=\"text-align: right;\">\n",
       "      <th></th>\n",
       "      <th>movie_name</th>\n",
       "      <th>movie_genre</th>\n",
       "      <th>movie_description</th>\n",
       "      <th>target</th>\n",
       "    </tr>\n",
       "  </thead>\n",
       "  <tbody>\n",
       "    <tr>\n",
       "      <th>0</th>\n",
       "      <td>Hellraiser</td>\n",
       "      <td>Horror, Mystery &amp; thriller</td>\n",
       "      <td>A new take on Clive Barker's 1987 horror class...</td>\n",
       "      <td>Horror</td>\n",
       "    </tr>\n",
       "    <tr>\n",
       "      <th>1</th>\n",
       "      <td>Mr. Harrigan's Phone</td>\n",
       "      <td>Horror</td>\n",
       "      <td>When Craig, a young boy living in a small town...</td>\n",
       "      <td>Horror</td>\n",
       "    </tr>\n",
       "    <tr>\n",
       "      <th>2</th>\n",
       "      <td>Hocus Pocus 2</td>\n",
       "      <td>Kids &amp; family, Holiday, Comedy, Fantasy</td>\n",
       "      <td>It's been 29 years since someone lit the Black...</td>\n",
       "      <td>Kids</td>\n",
       "    </tr>\n",
       "    <tr>\n",
       "      <th>3</th>\n",
       "      <td>X</td>\n",
       "      <td>Horror, Mystery &amp; thriller</td>\n",
       "      <td>In 1979, a group of young filmmakers set out t...</td>\n",
       "      <td>Horror</td>\n",
       "    </tr>\n",
       "    <tr>\n",
       "      <th>4</th>\n",
       "      <td>Piggy</td>\n",
       "      <td>Horror, Mystery &amp; thriller, Drama</td>\n",
       "      <td>With the summer sun beating down on her rural ...</td>\n",
       "      <td>Horror</td>\n",
       "    </tr>\n",
       "  </tbody>\n",
       "</table>\n",
       "</div>"
      ],
      "text/plain": [
       "             movie_name                              movie_genre  \\\n",
       "0            Hellraiser               Horror, Mystery & thriller   \n",
       "1  Mr. Harrigan's Phone                                   Horror   \n",
       "2         Hocus Pocus 2  Kids & family, Holiday, Comedy, Fantasy   \n",
       "3                     X               Horror, Mystery & thriller   \n",
       "4                 Piggy        Horror, Mystery & thriller, Drama   \n",
       "\n",
       "                                   movie_description  target  \n",
       "0  A new take on Clive Barker's 1987 horror class...  Horror  \n",
       "1  When Craig, a young boy living in a small town...  Horror  \n",
       "2  It's been 29 years since someone lit the Black...    Kids  \n",
       "3  In 1979, a group of young filmmakers set out t...  Horror  \n",
       "4  With the summer sun beating down on her rural ...  Horror  "
      ]
     },
     "execution_count": 6,
     "metadata": {},
     "output_type": "execute_result"
    }
   ],
   "source": [
    "raw_data = raw_data[raw_data.target.isin(top_6_genre)].reset_index(drop=True)\n",
    "raw_data.head()"
   ]
  },
  {
   "cell_type": "code",
   "execution_count": 7,
   "id": "da70efc4-f484-491b-8d4a-131c2bd29bdc",
   "metadata": {},
   "outputs": [
    {
     "data": {
      "text/plain": [
       "(6300, 4)"
      ]
     },
     "execution_count": 7,
     "metadata": {},
     "output_type": "execute_result"
    }
   ],
   "source": [
    "raw_data.shape"
   ]
  },
  {
   "cell_type": "code",
   "execution_count": 8,
   "id": "c3343d2c-7e63-4fb5-a82f-7bf0e14da7a9",
   "metadata": {},
   "outputs": [],
   "source": [
    "def create_folds(data_frame, targets, folds=5, seed=42, shuffle=True, fold_column=\"fold\"):\n",
    "    cv_strategy = StratifiedKFold(n_splits=folds, random_state=seed, shuffle=shuffle)\n",
    "    folds = cv_strategy.split(X=data_frame, y=targets)\n",
    "        \n",
    "    for fold, (train_indexes, validation_indexes) in enumerate(folds):\n",
    "        data_frame.loc[validation_indexes, fold_column] =  int(fold+1)\n",
    "        \n",
    "    data_frame[fold_column] = data_frame[fold_column].astype(int)\n",
    "    \n",
    "    return data_frame"
   ]
  },
  {
   "cell_type": "code",
   "execution_count": 9,
   "id": "f796223f-d3f6-42b0-ab19-8a21392c1075",
   "metadata": {},
   "outputs": [
    {
     "data": {
      "text/html": [
       "<div>\n",
       "<style scoped>\n",
       "    .dataframe tbody tr th:only-of-type {\n",
       "        vertical-align: middle;\n",
       "    }\n",
       "\n",
       "    .dataframe tbody tr th {\n",
       "        vertical-align: top;\n",
       "    }\n",
       "\n",
       "    .dataframe thead th {\n",
       "        text-align: right;\n",
       "    }\n",
       "</style>\n",
       "<table border=\"1\" class=\"dataframe\">\n",
       "  <thead>\n",
       "    <tr style=\"text-align: right;\">\n",
       "      <th></th>\n",
       "      <th>movie_name</th>\n",
       "      <th>movie_genre</th>\n",
       "      <th>movie_description</th>\n",
       "      <th>target</th>\n",
       "      <th>fold</th>\n",
       "    </tr>\n",
       "  </thead>\n",
       "  <tbody>\n",
       "    <tr>\n",
       "      <th>0</th>\n",
       "      <td>Hellraiser</td>\n",
       "      <td>Horror, Mystery &amp; thriller</td>\n",
       "      <td>A new take on Clive Barker's 1987 horror class...</td>\n",
       "      <td>Horror</td>\n",
       "      <td>8</td>\n",
       "    </tr>\n",
       "    <tr>\n",
       "      <th>1</th>\n",
       "      <td>Mr. Harrigan's Phone</td>\n",
       "      <td>Horror</td>\n",
       "      <td>When Craig, a young boy living in a small town...</td>\n",
       "      <td>Horror</td>\n",
       "      <td>1</td>\n",
       "    </tr>\n",
       "    <tr>\n",
       "      <th>2</th>\n",
       "      <td>Hocus Pocus 2</td>\n",
       "      <td>Kids &amp; family, Holiday, Comedy, Fantasy</td>\n",
       "      <td>It's been 29 years since someone lit the Black...</td>\n",
       "      <td>Kids</td>\n",
       "      <td>3</td>\n",
       "    </tr>\n",
       "    <tr>\n",
       "      <th>3</th>\n",
       "      <td>X</td>\n",
       "      <td>Horror, Mystery &amp; thriller</td>\n",
       "      <td>In 1979, a group of young filmmakers set out t...</td>\n",
       "      <td>Horror</td>\n",
       "      <td>4</td>\n",
       "    </tr>\n",
       "    <tr>\n",
       "      <th>4</th>\n",
       "      <td>Piggy</td>\n",
       "      <td>Horror, Mystery &amp; thriller, Drama</td>\n",
       "      <td>With the summer sun beating down on her rural ...</td>\n",
       "      <td>Horror</td>\n",
       "      <td>7</td>\n",
       "    </tr>\n",
       "  </tbody>\n",
       "</table>\n",
       "</div>"
      ],
      "text/plain": [
       "             movie_name                              movie_genre  \\\n",
       "0            Hellraiser               Horror, Mystery & thriller   \n",
       "1  Mr. Harrigan's Phone                                   Horror   \n",
       "2         Hocus Pocus 2  Kids & family, Holiday, Comedy, Fantasy   \n",
       "3                     X               Horror, Mystery & thriller   \n",
       "4                 Piggy        Horror, Mystery & thriller, Drama   \n",
       "\n",
       "                                   movie_description  target  fold  \n",
       "0  A new take on Clive Barker's 1987 horror class...  Horror     8  \n",
       "1  When Craig, a young boy living in a small town...  Horror     1  \n",
       "2  It's been 29 years since someone lit the Black...    Kids     3  \n",
       "3  In 1979, a group of young filmmakers set out t...  Horror     4  \n",
       "4  With the summer sun beating down on her rural ...  Horror     7  "
      ]
     },
     "execution_count": 9,
     "metadata": {},
     "output_type": "execute_result"
    }
   ],
   "source": [
    "raw_data = create_folds(data_frame=raw_data, \n",
    "                        targets=raw_data[\"target\"].values, \n",
    "                        folds=8, \n",
    "                        seed=42, \n",
    "                        shuffle=True, \n",
    "                        fold_column=\"fold\")\n",
    "raw_data.head()"
   ]
  },
  {
   "cell_type": "code",
   "execution_count": 10,
   "id": "31398566-77d9-4ea7-9c8f-fe071efbd4fa",
   "metadata": {},
   "outputs": [
    {
     "data": {
      "text/plain": [
       "1    788\n",
       "3    788\n",
       "4    788\n",
       "2    788\n",
       "8    787\n",
       "7    787\n",
       "5    787\n",
       "6    787\n",
       "Name: fold, dtype: int64"
      ]
     },
     "execution_count": 10,
     "metadata": {},
     "output_type": "execute_result"
    }
   ],
   "source": [
    "raw_data.fold.value_counts()"
   ]
  },
  {
   "cell_type": "code",
   "execution_count": 11,
   "id": "8bdcc0b6-575a-483e-b6cf-e7a3282bf709",
   "metadata": {},
   "outputs": [
    {
     "data": {
      "text/html": [
       "<div>\n",
       "<style scoped>\n",
       "    .dataframe tbody tr th:only-of-type {\n",
       "        vertical-align: middle;\n",
       "    }\n",
       "\n",
       "    .dataframe tbody tr th {\n",
       "        vertical-align: top;\n",
       "    }\n",
       "\n",
       "    .dataframe thead th {\n",
       "        text-align: right;\n",
       "    }\n",
       "</style>\n",
       "<table border=\"1\" class=\"dataframe\">\n",
       "  <thead>\n",
       "    <tr style=\"text-align: right;\">\n",
       "      <th></th>\n",
       "      <th>movie_name</th>\n",
       "      <th>movie_description</th>\n",
       "      <th>target</th>\n",
       "    </tr>\n",
       "  </thead>\n",
       "  <tbody>\n",
       "    <tr>\n",
       "      <th>0</th>\n",
       "      <td>Hellraiser</td>\n",
       "      <td>A new take on Clive Barker's 1987 horror class...</td>\n",
       "      <td>Horror</td>\n",
       "    </tr>\n",
       "    <tr>\n",
       "      <th>1</th>\n",
       "      <td>Hocus Pocus 2</td>\n",
       "      <td>It's been 29 years since someone lit the Black...</td>\n",
       "      <td>Kids</td>\n",
       "    </tr>\n",
       "    <tr>\n",
       "      <th>2</th>\n",
       "      <td>X</td>\n",
       "      <td>In 1979, a group of young filmmakers set out t...</td>\n",
       "      <td>Horror</td>\n",
       "    </tr>\n",
       "    <tr>\n",
       "      <th>3</th>\n",
       "      <td>Piggy</td>\n",
       "      <td>With the summer sun beating down on her rural ...</td>\n",
       "      <td>Horror</td>\n",
       "    </tr>\n",
       "    <tr>\n",
       "      <th>4</th>\n",
       "      <td>Deadstream</td>\n",
       "      <td>After a public controversy left him disgraced ...</td>\n",
       "      <td>Horror</td>\n",
       "    </tr>\n",
       "  </tbody>\n",
       "</table>\n",
       "</div>"
      ],
      "text/plain": [
       "      movie_name                                  movie_description  target\n",
       "0     Hellraiser  A new take on Clive Barker's 1987 horror class...  Horror\n",
       "1  Hocus Pocus 2  It's been 29 years since someone lit the Black...    Kids\n",
       "2              X  In 1979, a group of young filmmakers set out t...  Horror\n",
       "3          Piggy  With the summer sun beating down on her rural ...  Horror\n",
       "4     Deadstream  After a public controversy left him disgraced ...  Horror"
      ]
     },
     "execution_count": 11,
     "metadata": {},
     "output_type": "execute_result"
    }
   ],
   "source": [
    "train_data = raw_data[raw_data.fold != 1].drop(columns=[\"movie_genre\", \"fold\"]).reset_index(drop=True)\n",
    "train_data.head()"
   ]
  },
  {
   "cell_type": "code",
   "execution_count": 12,
   "id": "f892f900-fc86-41dc-a5e8-1e1c8dcdd1e3",
   "metadata": {},
   "outputs": [
    {
     "data": {
      "text/html": [
       "<div>\n",
       "<style scoped>\n",
       "    .dataframe tbody tr th:only-of-type {\n",
       "        vertical-align: middle;\n",
       "    }\n",
       "\n",
       "    .dataframe tbody tr th {\n",
       "        vertical-align: top;\n",
       "    }\n",
       "\n",
       "    .dataframe thead th {\n",
       "        text-align: right;\n",
       "    }\n",
       "</style>\n",
       "<table border=\"1\" class=\"dataframe\">\n",
       "  <thead>\n",
       "    <tr style=\"text-align: right;\">\n",
       "      <th></th>\n",
       "      <th>movie_name</th>\n",
       "      <th>movie_description</th>\n",
       "      <th>target</th>\n",
       "    </tr>\n",
       "  </thead>\n",
       "  <tbody>\n",
       "    <tr>\n",
       "      <th>0</th>\n",
       "      <td>Mr. Harrigan's Phone</td>\n",
       "      <td>When Craig, a young boy living in a small town...</td>\n",
       "      <td>Horror</td>\n",
       "    </tr>\n",
       "    <tr>\n",
       "      <th>1</th>\n",
       "      <td>To Leslie</td>\n",
       "      <td>Leslie (Andrea Riseborough) is a West Texas si...</td>\n",
       "      <td>Drama</td>\n",
       "    </tr>\n",
       "    <tr>\n",
       "      <th>2</th>\n",
       "      <td>Hellraiser</td>\n",
       "      <td>Sexual deviant Frank (Sean Chapman) inadverten...</td>\n",
       "      <td>Horror</td>\n",
       "    </tr>\n",
       "    <tr>\n",
       "      <th>3</th>\n",
       "      <td>You Won't Be Alone</td>\n",
       "      <td>Set in an isolated mountain village in 19th ce...</td>\n",
       "      <td>Horror</td>\n",
       "    </tr>\n",
       "    <tr>\n",
       "      <th>4</th>\n",
       "      <td>Confess, Fletch</td>\n",
       "      <td>In this delightful comedy romp, Jon Hamm stars...</td>\n",
       "      <td>Comedy</td>\n",
       "    </tr>\n",
       "  </tbody>\n",
       "</table>\n",
       "</div>"
      ],
      "text/plain": [
       "             movie_name                                  movie_description  \\\n",
       "0  Mr. Harrigan's Phone  When Craig, a young boy living in a small town...   \n",
       "1             To Leslie  Leslie (Andrea Riseborough) is a West Texas si...   \n",
       "2            Hellraiser  Sexual deviant Frank (Sean Chapman) inadverten...   \n",
       "3    You Won't Be Alone  Set in an isolated mountain village in 19th ce...   \n",
       "4       Confess, Fletch  In this delightful comedy romp, Jon Hamm stars...   \n",
       "\n",
       "   target  \n",
       "0  Horror  \n",
       "1   Drama  \n",
       "2  Horror  \n",
       "3  Horror  \n",
       "4  Comedy  "
      ]
     },
     "execution_count": 12,
     "metadata": {},
     "output_type": "execute_result"
    }
   ],
   "source": [
    "val_data = raw_data[raw_data.fold == 1].drop(columns=[\"movie_genre\", \"fold\"]).reset_index(drop=True)\n",
    "val_data.head()"
   ]
  },
  {
   "cell_type": "code",
   "execution_count": 13,
   "id": "80d66435-3007-4fb8-a052-4d298b08019d",
   "metadata": {},
   "outputs": [],
   "source": [
    "train_data.to_csv(\"../train.csv\", index=False)\n",
    "val_data.to_csv(\"../val.csv\", index=False)"
   ]
  },
  {
   "cell_type": "code",
   "execution_count": null,
   "id": "06a1caf2-e561-41d5-b90e-7e7929b61535",
   "metadata": {},
   "outputs": [],
   "source": []
  }
 ],
 "metadata": {
  "kernelspec": {
   "display_name": "Python 3",
   "language": "python",
   "name": "python3"
  },
  "language_info": {
   "codemirror_mode": {
    "name": "ipython",
    "version": 3
   },
   "file_extension": ".py",
   "mimetype": "text/x-python",
   "name": "python",
   "nbconvert_exporter": "python",
   "pygments_lexer": "ipython3",
   "version": "3.8.10"
  }
 },
 "nbformat": 4,
 "nbformat_minor": 5
}
