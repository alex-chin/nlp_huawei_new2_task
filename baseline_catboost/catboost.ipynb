{
 "cells": [
  {
   "cell_type": "code",
   "execution_count": 1,
   "metadata": {
    "collapsed": true
   },
   "outputs": [],
   "source": [
    "%load_ext autoreload\n",
    "%autoreload 2"
   ]
  },
  {
   "cell_type": "markdown",
   "metadata": {
    "collapsed": false
   },
   "source": [
    "# Import libs"
   ]
  },
  {
   "cell_type": "code",
   "execution_count": 2,
   "metadata": {
    "collapsed": false
   },
   "outputs": [],
   "source": [
    "import os\n",
    "\n",
    "import pandas as pd\n",
    "from catboost import Pool, CatBoostClassifier\n",
    "from sklearn.metrics import accuracy_score\n",
    "from sklearn.preprocessing import LabelEncoder\n"
   ]
  },
  {
   "cell_type": "markdown",
   "metadata": {
    "collapsed": false
   },
   "source": [
    "# Reading data"
   ]
  },
  {
   "cell_type": "code",
   "execution_count": 3,
   "metadata": {
    "collapsed": false
   },
   "outputs": [
    {
     "name": "stdout",
     "output_type": "stream",
     "text": [
      "Number of rows and columns in the train data set: (5495, 4)\n",
      "Number of rows and columns in the test data set: (788, 3)\n"
     ]
    }
   ],
   "source": [
    "path = \"../\"\n",
    "train_data = pd.read_csv(os.path.join(path, \"train.csv\"))\n",
    "# val_data = pd.read_csv(os.path.join('../', path, \"test-with-targets.csv\"))  # TODO change back\n",
    "test_data = pd.read_csv(os.path.join(path, \"test.csv\"))\n",
    "print(f\"Number of rows and columns in the train data set: {train_data.shape}\")\n",
    "print(f\"Number of rows and columns in the test data set: {test_data.shape}\")\n"
   ]
  },
  {
   "cell_type": "code",
   "execution_count": 4,
   "metadata": {
    "collapsed": false
   },
   "outputs": [
    {
     "data": {
      "text/plain": "         id     movie_name                                  movie_description  \\\n0  3525e31d     Hellraiser  A new take on Clive Barker's 1987 horror class...   \n1  051f6309  Hocus Pocus 2  It's been 29 years since someone lit the Black...   \n2  12a9bfcf              X  In 1979, a group of young filmmakers set out t...   \n3  e5373c77          Piggy  With the summer sun beating down on her rural ...   \n4  473cdb82     Deadstream  After a public controversy left him disgraced ...   \n\n   target  \n0  Horror  \n1    Kids  \n2  Horror  \n3  Horror  \n4  Horror  ",
      "text/html": "<div>\n<style scoped>\n    .dataframe tbody tr th:only-of-type {\n        vertical-align: middle;\n    }\n\n    .dataframe tbody tr th {\n        vertical-align: top;\n    }\n\n    .dataframe thead th {\n        text-align: right;\n    }\n</style>\n<table border=\"1\" class=\"dataframe\">\n  <thead>\n    <tr style=\"text-align: right;\">\n      <th></th>\n      <th>id</th>\n      <th>movie_name</th>\n      <th>movie_description</th>\n      <th>target</th>\n    </tr>\n  </thead>\n  <tbody>\n    <tr>\n      <th>0</th>\n      <td>3525e31d</td>\n      <td>Hellraiser</td>\n      <td>A new take on Clive Barker's 1987 horror class...</td>\n      <td>Horror</td>\n    </tr>\n    <tr>\n      <th>1</th>\n      <td>051f6309</td>\n      <td>Hocus Pocus 2</td>\n      <td>It's been 29 years since someone lit the Black...</td>\n      <td>Kids</td>\n    </tr>\n    <tr>\n      <th>2</th>\n      <td>12a9bfcf</td>\n      <td>X</td>\n      <td>In 1979, a group of young filmmakers set out t...</td>\n      <td>Horror</td>\n    </tr>\n    <tr>\n      <th>3</th>\n      <td>e5373c77</td>\n      <td>Piggy</td>\n      <td>With the summer sun beating down on her rural ...</td>\n      <td>Horror</td>\n    </tr>\n    <tr>\n      <th>4</th>\n      <td>473cdb82</td>\n      <td>Deadstream</td>\n      <td>After a public controversy left him disgraced ...</td>\n      <td>Horror</td>\n    </tr>\n  </tbody>\n</table>\n</div>"
     },
     "execution_count": 4,
     "metadata": {},
     "output_type": "execute_result"
    }
   ],
   "source": [
    "train_data.head()"
   ]
  },
  {
   "cell_type": "code",
   "execution_count": 5,
   "metadata": {
    "collapsed": false
   },
   "outputs": [
    {
     "data": {
      "text/plain": "           id                       movie_name                                 \\\n        count unique       top freq      count unique                     top   \ntarget                                                                          \nAction    704    704  68cfcb79    1        704    697  Assault on Precinct 13   \nComedy   1269   1269  f00aac8c    1       1269   1264     Father of the Bride   \nDrama    1202   1202  6569d7af    1       1202   1196            Little Women   \nHorror    974    974  3525e31d    1        974    942                  Carrie   \nKids      552    552  051f6309    1        552    539               Pinocchio   \nMystery   794    794  e5da8af4    1        794    769                   Alone   \n\n             movie_description         \\\n        freq             count unique   \ntarget                                  \nAction     2               704    703   \nComedy     2              1269   1269   \nDrama      2              1202   1202   \nHorror     3               974    974   \nKids       3               552    552   \nMystery    3               794    793   \n\n                                                                 \n                                                       top freq  \ntarget                                                           \nAction   Wisecracking mercenary Deadpool meets Russell,...    2  \nComedy   To show support for his neighborhood friends s...    1  \nDrama    Vince used to be in the hottest boy band aroun...    1  \nHorror   A new take on Clive Barker's 1987 horror class...    1  \nKids     It's been 29 years since someone lit the Black...    1  \nMystery  A mysterious figure stalks a pop star when she...    2  ",
      "text/html": "<div>\n<style scoped>\n    .dataframe tbody tr th:only-of-type {\n        vertical-align: middle;\n    }\n\n    .dataframe tbody tr th {\n        vertical-align: top;\n    }\n\n    .dataframe thead tr th {\n        text-align: left;\n    }\n\n    .dataframe thead tr:last-of-type th {\n        text-align: right;\n    }\n</style>\n<table border=\"1\" class=\"dataframe\">\n  <thead>\n    <tr>\n      <th></th>\n      <th colspan=\"4\" halign=\"left\">id</th>\n      <th colspan=\"4\" halign=\"left\">movie_name</th>\n      <th colspan=\"4\" halign=\"left\">movie_description</th>\n    </tr>\n    <tr>\n      <th></th>\n      <th>count</th>\n      <th>unique</th>\n      <th>top</th>\n      <th>freq</th>\n      <th>count</th>\n      <th>unique</th>\n      <th>top</th>\n      <th>freq</th>\n      <th>count</th>\n      <th>unique</th>\n      <th>top</th>\n      <th>freq</th>\n    </tr>\n    <tr>\n      <th>target</th>\n      <th></th>\n      <th></th>\n      <th></th>\n      <th></th>\n      <th></th>\n      <th></th>\n      <th></th>\n      <th></th>\n      <th></th>\n      <th></th>\n      <th></th>\n      <th></th>\n    </tr>\n  </thead>\n  <tbody>\n    <tr>\n      <th>Action</th>\n      <td>704</td>\n      <td>704</td>\n      <td>68cfcb79</td>\n      <td>1</td>\n      <td>704</td>\n      <td>697</td>\n      <td>Assault on Precinct 13</td>\n      <td>2</td>\n      <td>704</td>\n      <td>703</td>\n      <td>Wisecracking mercenary Deadpool meets Russell,...</td>\n      <td>2</td>\n    </tr>\n    <tr>\n      <th>Comedy</th>\n      <td>1269</td>\n      <td>1269</td>\n      <td>f00aac8c</td>\n      <td>1</td>\n      <td>1269</td>\n      <td>1264</td>\n      <td>Father of the Bride</td>\n      <td>2</td>\n      <td>1269</td>\n      <td>1269</td>\n      <td>To show support for his neighborhood friends s...</td>\n      <td>1</td>\n    </tr>\n    <tr>\n      <th>Drama</th>\n      <td>1202</td>\n      <td>1202</td>\n      <td>6569d7af</td>\n      <td>1</td>\n      <td>1202</td>\n      <td>1196</td>\n      <td>Little Women</td>\n      <td>2</td>\n      <td>1202</td>\n      <td>1202</td>\n      <td>Vince used to be in the hottest boy band aroun...</td>\n      <td>1</td>\n    </tr>\n    <tr>\n      <th>Horror</th>\n      <td>974</td>\n      <td>974</td>\n      <td>3525e31d</td>\n      <td>1</td>\n      <td>974</td>\n      <td>942</td>\n      <td>Carrie</td>\n      <td>3</td>\n      <td>974</td>\n      <td>974</td>\n      <td>A new take on Clive Barker's 1987 horror class...</td>\n      <td>1</td>\n    </tr>\n    <tr>\n      <th>Kids</th>\n      <td>552</td>\n      <td>552</td>\n      <td>051f6309</td>\n      <td>1</td>\n      <td>552</td>\n      <td>539</td>\n      <td>Pinocchio</td>\n      <td>3</td>\n      <td>552</td>\n      <td>552</td>\n      <td>It's been 29 years since someone lit the Black...</td>\n      <td>1</td>\n    </tr>\n    <tr>\n      <th>Mystery</th>\n      <td>794</td>\n      <td>794</td>\n      <td>e5da8af4</td>\n      <td>1</td>\n      <td>794</td>\n      <td>769</td>\n      <td>Alone</td>\n      <td>3</td>\n      <td>794</td>\n      <td>793</td>\n      <td>A mysterious figure stalks a pop star when she...</td>\n      <td>2</td>\n    </tr>\n  </tbody>\n</table>\n</div>"
     },
     "execution_count": 5,
     "metadata": {},
     "output_type": "execute_result"
    }
   ],
   "source": [
    "train_data.groupby(\"target\").describe()"
   ]
  },
  {
   "cell_type": "code",
   "execution_count": 6,
   "metadata": {
    "collapsed": false
   },
   "outputs": [],
   "source": [
    "le = LabelEncoder()  # for label encoding!\n",
    "\n",
    "y_train = le.fit_transform(train_data[\"target\"])\n",
    "# y_val = le.transform(val_data[\"target\"])"
   ]
  },
  {
   "cell_type": "markdown",
   "source": [
    "# Preparing the data and creating Catboost model"
   ],
   "metadata": {
    "collapsed": false
   }
  },
  {
   "cell_type": "code",
   "execution_count": 7,
   "metadata": {
    "collapsed": false
   },
   "outputs": [
    {
     "data": {
      "text/plain": "0    A new take on Clive Barker's 1987 horror class...\n1    It's been 29 years since someone lit the Black...\n2    In 1979, a group of young filmmakers set out t...\n3    With the summer sun beating down on her rural ...\n4    After a public controversy left him disgraced ...\nName: movie_description, dtype: object"
     },
     "execution_count": 7,
     "metadata": {},
     "output_type": "execute_result"
    }
   ],
   "source": [
    "X_train = train_data[\"movie_description\"]\n",
    "# X_val = val_data[\"movie_description\"]\n",
    "X_test = test_data['movie_description']\n",
    "X_train.head()"
   ]
  },
  {
   "cell_type": "code",
   "execution_count": 8,
   "metadata": {
    "collapsed": false
   },
   "outputs": [
    {
     "data": {
      "text/plain": "<catboost.core.CatBoostClassifier at 0x7fac0087d280>"
     },
     "execution_count": 8,
     "metadata": {},
     "output_type": "execute_result"
    }
   ],
   "source": [
    "model = CatBoostClassifier(\n",
    "    iterations=200,\n",
    "    depth=2,\n",
    "    random_seed=1\n",
    ")\n",
    "\n",
    "model.fit(\n",
    "    X_train,\n",
    "    y_train,\n",
    "    text_features=[0],\n",
    "    verbose=False\n",
    ")"
   ]
  },
  {
   "cell_type": "markdown",
   "metadata": {
    "collapsed": false
   },
   "source": [
    "### Pool is an internal data structure that is used by CatBoost"
   ]
  },
  {
   "cell_type": "code",
   "execution_count": 9,
   "outputs": [],
   "source": [
    "# cv_dataset_val = Pool(\n",
    "#     data=X_val,\n",
    "#     text_features=[0]\n",
    "# )"
   ],
   "metadata": {
    "collapsed": false
   }
  },
  {
   "cell_type": "code",
   "execution_count": 10,
   "outputs": [],
   "source": [
    "# predictions = model.predict(cv_dataset_val)"
   ],
   "metadata": {
    "collapsed": false
   }
  },
  {
   "cell_type": "code",
   "execution_count": 11,
   "outputs": [],
   "source": [
    "# accuracy_score(y_val, predictions)"
   ],
   "metadata": {
    "collapsed": false
   }
  },
  {
   "cell_type": "code",
   "execution_count": 12,
   "metadata": {
    "collapsed": false
   },
   "outputs": [
    {
     "name": "stderr",
     "output_type": "stream",
     "text": [
      "/home/limp/anaconda3/lib/python3.9/site-packages/sklearn/preprocessing/_label.py:154: DataConversionWarning: A column-vector y was passed when a 1d array was expected. Please change the shape of y to (n_samples, ), for example using ravel().\n",
      "  y = column_or_1d(y, warn=True)\n"
     ]
    }
   ],
   "source": [
    "# Preparing data in Pool format\n",
    "cv_dataset_test = Pool(\n",
    "    data=X_test,\n",
    "    text_features=[0]\n",
    ")\n",
    "predict_scores = model.predict(cv_dataset_test)\n",
    "predictions = le.inverse_transform(predict_scores)"
   ]
  },
  {
   "cell_type": "code",
   "execution_count": 13,
   "metadata": {
    "collapsed": false
   },
   "outputs": [
    {
     "data": {
      "text/plain": "         id target\n0  d996f823   Kids\n1  1cf01f9c   Kids\n2  856ea05c   Kids\n3  c97899ee   Kids\n4  73f0740f   Kids",
      "text/html": "<div>\n<style scoped>\n    .dataframe tbody tr th:only-of-type {\n        vertical-align: middle;\n    }\n\n    .dataframe tbody tr th {\n        vertical-align: top;\n    }\n\n    .dataframe thead th {\n        text-align: right;\n    }\n</style>\n<table border=\"1\" class=\"dataframe\">\n  <thead>\n    <tr style=\"text-align: right;\">\n      <th></th>\n      <th>id</th>\n      <th>target</th>\n    </tr>\n  </thead>\n  <tbody>\n    <tr>\n      <th>0</th>\n      <td>d996f823</td>\n      <td>Kids</td>\n    </tr>\n    <tr>\n      <th>1</th>\n      <td>1cf01f9c</td>\n      <td>Kids</td>\n    </tr>\n    <tr>\n      <th>2</th>\n      <td>856ea05c</td>\n      <td>Kids</td>\n    </tr>\n    <tr>\n      <th>3</th>\n      <td>c97899ee</td>\n      <td>Kids</td>\n    </tr>\n    <tr>\n      <th>4</th>\n      <td>73f0740f</td>\n      <td>Kids</td>\n    </tr>\n  </tbody>\n</table>\n</div>"
     },
     "execution_count": 13,
     "metadata": {},
     "output_type": "execute_result"
    }
   ],
   "source": [
    "sample_submission = pd.read_csv(os.path.join(path, \"sample_submission.csv\"))\n",
    "sample_submission.head()"
   ]
  },
  {
   "cell_type": "code",
   "execution_count": 14,
   "metadata": {
    "collapsed": false
   },
   "outputs": [
    {
     "data": {
      "text/plain": "         id   target\n0  d996f823     Kids\n1  1cf01f9c    Drama\n2  856ea05c  Mystery\n3  c97899ee   Horror\n4  73f0740f   Comedy",
      "text/html": "<div>\n<style scoped>\n    .dataframe tbody tr th:only-of-type {\n        vertical-align: middle;\n    }\n\n    .dataframe tbody tr th {\n        vertical-align: top;\n    }\n\n    .dataframe thead th {\n        text-align: right;\n    }\n</style>\n<table border=\"1\" class=\"dataframe\">\n  <thead>\n    <tr style=\"text-align: right;\">\n      <th></th>\n      <th>id</th>\n      <th>target</th>\n    </tr>\n  </thead>\n  <tbody>\n    <tr>\n      <th>0</th>\n      <td>d996f823</td>\n      <td>Kids</td>\n    </tr>\n    <tr>\n      <th>1</th>\n      <td>1cf01f9c</td>\n      <td>Drama</td>\n    </tr>\n    <tr>\n      <th>2</th>\n      <td>856ea05c</td>\n      <td>Mystery</td>\n    </tr>\n    <tr>\n      <th>3</th>\n      <td>c97899ee</td>\n      <td>Horror</td>\n    </tr>\n    <tr>\n      <th>4</th>\n      <td>73f0740f</td>\n      <td>Comedy</td>\n    </tr>\n  </tbody>\n</table>\n</div>"
     },
     "execution_count": 14,
     "metadata": {},
     "output_type": "execute_result"
    }
   ],
   "source": [
    "sample_submission[\"target\"] = predictions\n",
    "sample_submission.head()"
   ]
  },
  {
   "cell_type": "code",
   "execution_count": 15,
   "metadata": {
    "collapsed": false
   },
   "outputs": [],
   "source": [
    "sample_submission.to_csv(os.path.join(path, \"submission.csv\"), index=False)"
   ]
  },
  {
   "cell_type": "code",
   "execution_count": 16,
   "metadata": {
    "collapsed": false
   },
   "outputs": [],
   "source": [
    "# Accuracy 0.6002"
   ]
  }
 ],
 "metadata": {
  "kernelspec": {
   "display_name": "Python 3.7.9 ('venv': venv)",
   "language": "python",
   "name": "python3"
  },
  "language_info": {
   "codemirror_mode": {
    "name": "ipython",
    "version": 3
   },
   "file_extension": ".py",
   "mimetype": "text/x-python",
   "name": "python",
   "nbconvert_exporter": "python",
   "pygments_lexer": "ipython3",
   "version": "3.7.9"
  },
  "vscode": {
   "interpreter": {
    "hash": "4ce47e61e2a197e18f6178d2b52c72741babf3e522a6ab2c8e52c7be76b98a41"
   }
  }
 },
 "nbformat": 4,
 "nbformat_minor": 0
}
