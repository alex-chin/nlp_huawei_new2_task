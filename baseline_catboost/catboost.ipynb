{
 "cells": [
  {
   "cell_type": "code",
   "execution_count": 1,
   "metadata": {
    "collapsed": true
   },
   "outputs": [],
   "source": [
    "%load_ext autoreload\n",
    "%autoreload 2\n"
   ]
  },
  {
   "cell_type": "markdown",
   "metadata": {
    "collapsed": false
   },
   "source": [
    "# Import Libraries"
   ]
  },
  {
   "cell_type": "code",
   "execution_count": 2,
   "metadata": {
    "collapsed": false
   },
   "outputs": [],
   "source": [
    "import os\n",
    "\n",
    "import pandas as pd\n",
    "from catboost import Pool, CatBoostClassifier\n",
    "from sklearn.metrics import accuracy_score\n",
    "from sklearn.preprocessing import LabelEncoder\n"
   ]
  },
  {
   "cell_type": "markdown",
   "metadata": {
    "collapsed": false
   },
   "source": [
    "# Read Data"
   ]
  },
  {
   "cell_type": "code",
   "execution_count": 3,
   "metadata": {
    "collapsed": false
   },
   "outputs": [
    {
     "name": "stdout",
     "output_type": "stream",
     "text": [
      "Number of rows and columns in the train data set: (5495, 4)\n",
      "Number of rows and columns in the test data set: (788, 3)\n"
     ]
    },
    {
     "data": {
      "text/html": [
       "<div>\n",
       "<style scoped>\n",
       "    .dataframe tbody tr th:only-of-type {\n",
       "        vertical-align: middle;\n",
       "    }\n",
       "\n",
       "    .dataframe tbody tr th {\n",
       "        vertical-align: top;\n",
       "    }\n",
       "\n",
       "    .dataframe thead th {\n",
       "        text-align: right;\n",
       "    }\n",
       "</style>\n",
       "<table border=\"1\" class=\"dataframe\">\n",
       "  <thead>\n",
       "    <tr style=\"text-align: right;\">\n",
       "      <th></th>\n",
       "      <th>id</th>\n",
       "      <th>movie_name</th>\n",
       "      <th>movie_description</th>\n",
       "      <th>target</th>\n",
       "    </tr>\n",
       "  </thead>\n",
       "  <tbody>\n",
       "    <tr>\n",
       "      <th>0</th>\n",
       "      <td>3525e31d</td>\n",
       "      <td>Hellraiser</td>\n",
       "      <td>A new take on Clive Barker's 1987 horror class...</td>\n",
       "      <td>Horror</td>\n",
       "    </tr>\n",
       "    <tr>\n",
       "      <th>1</th>\n",
       "      <td>051f6309</td>\n",
       "      <td>Hocus Pocus 2</td>\n",
       "      <td>It's been 29 years since someone lit the Black...</td>\n",
       "      <td>Kids</td>\n",
       "    </tr>\n",
       "    <tr>\n",
       "      <th>2</th>\n",
       "      <td>12a9bfcf</td>\n",
       "      <td>X</td>\n",
       "      <td>In 1979, a group of young filmmakers set out t...</td>\n",
       "      <td>Horror</td>\n",
       "    </tr>\n",
       "    <tr>\n",
       "      <th>3</th>\n",
       "      <td>e5373c77</td>\n",
       "      <td>Piggy</td>\n",
       "      <td>With the summer sun beating down on her rural ...</td>\n",
       "      <td>Horror</td>\n",
       "    </tr>\n",
       "    <tr>\n",
       "      <th>4</th>\n",
       "      <td>473cdb82</td>\n",
       "      <td>Deadstream</td>\n",
       "      <td>After a public controversy left him disgraced ...</td>\n",
       "      <td>Horror</td>\n",
       "    </tr>\n",
       "  </tbody>\n",
       "</table>\n",
       "</div>"
      ],
      "text/plain": [
       "         id     movie_name                                  movie_description  \\\n",
       "0  3525e31d     Hellraiser  A new take on Clive Barker's 1987 horror class...   \n",
       "1  051f6309  Hocus Pocus 2  It's been 29 years since someone lit the Black...   \n",
       "2  12a9bfcf              X  In 1979, a group of young filmmakers set out t...   \n",
       "3  e5373c77          Piggy  With the summer sun beating down on her rural ...   \n",
       "4  473cdb82     Deadstream  After a public controversy left him disgraced ...   \n",
       "\n",
       "   target  \n",
       "0  Horror  \n",
       "1    Kids  \n",
       "2  Horror  \n",
       "3  Horror  \n",
       "4  Horror  "
      ]
     },
     "execution_count": 3,
     "metadata": {},
     "output_type": "execute_result"
    }
   ],
   "source": [
    "path = \"../\"\n",
    "train_data = pd.read_csv(os.path.join(path, \"train.csv\"))\n",
    "test_data = pd.read_csv(os.path.join(path, \"test.csv\"))\n",
    "print(f\"Number of rows and columns in the train data set: {train_data.shape}\")\n",
    "print(f\"Number of rows and columns in the test data set: {test_data.shape}\")\n",
    "train_data.head()\n"
   ]
  },
  {
   "cell_type": "code",
   "execution_count": 4,
   "metadata": {
    "collapsed": false
   },
   "outputs": [
    {
     "data": {
      "text/html": [
       "<div>\n",
       "<style scoped>\n",
       "    .dataframe tbody tr th:only-of-type {\n",
       "        vertical-align: middle;\n",
       "    }\n",
       "\n",
       "    .dataframe tbody tr th {\n",
       "        vertical-align: top;\n",
       "    }\n",
       "\n",
       "    .dataframe thead tr th {\n",
       "        text-align: left;\n",
       "    }\n",
       "\n",
       "    .dataframe thead tr:last-of-type th {\n",
       "        text-align: right;\n",
       "    }\n",
       "</style>\n",
       "<table border=\"1\" class=\"dataframe\">\n",
       "  <thead>\n",
       "    <tr>\n",
       "      <th></th>\n",
       "      <th colspan=\"4\" halign=\"left\">id</th>\n",
       "      <th colspan=\"4\" halign=\"left\">movie_name</th>\n",
       "      <th colspan=\"4\" halign=\"left\">movie_description</th>\n",
       "    </tr>\n",
       "    <tr>\n",
       "      <th></th>\n",
       "      <th>count</th>\n",
       "      <th>unique</th>\n",
       "      <th>top</th>\n",
       "      <th>freq</th>\n",
       "      <th>count</th>\n",
       "      <th>unique</th>\n",
       "      <th>top</th>\n",
       "      <th>freq</th>\n",
       "      <th>count</th>\n",
       "      <th>unique</th>\n",
       "      <th>top</th>\n",
       "      <th>freq</th>\n",
       "    </tr>\n",
       "    <tr>\n",
       "      <th>target</th>\n",
       "      <th></th>\n",
       "      <th></th>\n",
       "      <th></th>\n",
       "      <th></th>\n",
       "      <th></th>\n",
       "      <th></th>\n",
       "      <th></th>\n",
       "      <th></th>\n",
       "      <th></th>\n",
       "      <th></th>\n",
       "      <th></th>\n",
       "      <th></th>\n",
       "    </tr>\n",
       "  </thead>\n",
       "  <tbody>\n",
       "    <tr>\n",
       "      <th>Action</th>\n",
       "      <td>704</td>\n",
       "      <td>704</td>\n",
       "      <td>68cfcb79</td>\n",
       "      <td>1</td>\n",
       "      <td>704</td>\n",
       "      <td>697</td>\n",
       "      <td>Assault on Precinct 13</td>\n",
       "      <td>2</td>\n",
       "      <td>704</td>\n",
       "      <td>703</td>\n",
       "      <td>Wisecracking mercenary Deadpool meets Russell,...</td>\n",
       "      <td>2</td>\n",
       "    </tr>\n",
       "    <tr>\n",
       "      <th>Comedy</th>\n",
       "      <td>1269</td>\n",
       "      <td>1269</td>\n",
       "      <td>f00aac8c</td>\n",
       "      <td>1</td>\n",
       "      <td>1269</td>\n",
       "      <td>1264</td>\n",
       "      <td>Father of the Bride</td>\n",
       "      <td>2</td>\n",
       "      <td>1269</td>\n",
       "      <td>1269</td>\n",
       "      <td>To show support for his neighborhood friends s...</td>\n",
       "      <td>1</td>\n",
       "    </tr>\n",
       "    <tr>\n",
       "      <th>Drama</th>\n",
       "      <td>1202</td>\n",
       "      <td>1202</td>\n",
       "      <td>6569d7af</td>\n",
       "      <td>1</td>\n",
       "      <td>1202</td>\n",
       "      <td>1196</td>\n",
       "      <td>Little Women</td>\n",
       "      <td>2</td>\n",
       "      <td>1202</td>\n",
       "      <td>1202</td>\n",
       "      <td>Vince used to be in the hottest boy band aroun...</td>\n",
       "      <td>1</td>\n",
       "    </tr>\n",
       "    <tr>\n",
       "      <th>Horror</th>\n",
       "      <td>974</td>\n",
       "      <td>974</td>\n",
       "      <td>3525e31d</td>\n",
       "      <td>1</td>\n",
       "      <td>974</td>\n",
       "      <td>942</td>\n",
       "      <td>Carrie</td>\n",
       "      <td>3</td>\n",
       "      <td>974</td>\n",
       "      <td>974</td>\n",
       "      <td>A new take on Clive Barker's 1987 horror class...</td>\n",
       "      <td>1</td>\n",
       "    </tr>\n",
       "    <tr>\n",
       "      <th>Kids</th>\n",
       "      <td>552</td>\n",
       "      <td>552</td>\n",
       "      <td>051f6309</td>\n",
       "      <td>1</td>\n",
       "      <td>552</td>\n",
       "      <td>539</td>\n",
       "      <td>Pinocchio</td>\n",
       "      <td>3</td>\n",
       "      <td>552</td>\n",
       "      <td>552</td>\n",
       "      <td>It's been 29 years since someone lit the Black...</td>\n",
       "      <td>1</td>\n",
       "    </tr>\n",
       "    <tr>\n",
       "      <th>Mystery</th>\n",
       "      <td>794</td>\n",
       "      <td>794</td>\n",
       "      <td>e5da8af4</td>\n",
       "      <td>1</td>\n",
       "      <td>794</td>\n",
       "      <td>769</td>\n",
       "      <td>Alone</td>\n",
       "      <td>3</td>\n",
       "      <td>794</td>\n",
       "      <td>793</td>\n",
       "      <td>A mysterious figure stalks a pop star when she...</td>\n",
       "      <td>2</td>\n",
       "    </tr>\n",
       "  </tbody>\n",
       "</table>\n",
       "</div>"
      ],
      "text/plain": [
       "           id                       movie_name                                 \\\n",
       "        count unique       top freq      count unique                     top   \n",
       "target                                                                          \n",
       "Action    704    704  68cfcb79    1        704    697  Assault on Precinct 13   \n",
       "Comedy   1269   1269  f00aac8c    1       1269   1264     Father of the Bride   \n",
       "Drama    1202   1202  6569d7af    1       1202   1196            Little Women   \n",
       "Horror    974    974  3525e31d    1        974    942                  Carrie   \n",
       "Kids      552    552  051f6309    1        552    539               Pinocchio   \n",
       "Mystery   794    794  e5da8af4    1        794    769                   Alone   \n",
       "\n",
       "             movie_description         \\\n",
       "        freq             count unique   \n",
       "target                                  \n",
       "Action     2               704    703   \n",
       "Comedy     2              1269   1269   \n",
       "Drama      2              1202   1202   \n",
       "Horror     3               974    974   \n",
       "Kids       3               552    552   \n",
       "Mystery    3               794    793   \n",
       "\n",
       "                                                                 \n",
       "                                                       top freq  \n",
       "target                                                           \n",
       "Action   Wisecracking mercenary Deadpool meets Russell,...    2  \n",
       "Comedy   To show support for his neighborhood friends s...    1  \n",
       "Drama    Vince used to be in the hottest boy band aroun...    1  \n",
       "Horror   A new take on Clive Barker's 1987 horror class...    1  \n",
       "Kids     It's been 29 years since someone lit the Black...    1  \n",
       "Mystery  A mysterious figure stalks a pop star when she...    2  "
      ]
     },
     "execution_count": 4,
     "metadata": {},
     "output_type": "execute_result"
    }
   ],
   "source": [
    "train_data.groupby(\"target\").describe()\n"
   ]
  },
  {
   "cell_type": "markdown",
   "metadata": {},
   "source": [
    "# Encoding Categorial Target"
   ]
  },
  {
   "cell_type": "code",
   "execution_count": 5,
   "metadata": {
    "collapsed": false
   },
   "outputs": [],
   "source": [
    "le = LabelEncoder()  # for label encoding!\n",
    "\n",
    "X_train = train_data[\"movie_description\"]\n",
    "y_train = le.fit_transform(train_data[\"target\"])\n",
    "\n",
    "X_test = test_data[\"movie_description\"]\n"
   ]
  },
  {
   "cell_type": "markdown",
   "metadata": {
    "collapsed": false
   },
   "source": [
    "# Preparing the data and creating Catboost model"
   ]
  },
  {
   "cell_type": "code",
   "execution_count": 6,
   "metadata": {
    "collapsed": false
   },
   "outputs": [
    {
     "name": "stdout",
     "output_type": "stream",
     "text": [
      "Learning rate set to 0.5\n",
      "0:\tlearn: 1.4732582\ttotal: 157ms\tremaining: 15.5s\n",
      "1:\tlearn: 1.3652846\ttotal: 286ms\tremaining: 14s\n",
      "2:\tlearn: 1.3190536\ttotal: 420ms\tremaining: 13.6s\n",
      "3:\tlearn: 1.3058702\ttotal: 549ms\tremaining: 13.2s\n",
      "4:\tlearn: 1.2852828\ttotal: 681ms\tremaining: 12.9s\n",
      "5:\tlearn: 1.2715606\ttotal: 803ms\tremaining: 12.6s\n",
      "6:\tlearn: 1.2644465\ttotal: 928ms\tremaining: 12.3s\n",
      "7:\tlearn: 1.2585924\ttotal: 1.06s\tremaining: 12.2s\n",
      "8:\tlearn: 1.2497019\ttotal: 1.19s\tremaining: 12s\n",
      "9:\tlearn: 1.2453763\ttotal: 1.32s\tremaining: 11.9s\n",
      "10:\tlearn: 1.2412351\ttotal: 1.44s\tremaining: 11.6s\n",
      "11:\tlearn: 1.2395000\ttotal: 1.58s\tremaining: 11.6s\n",
      "12:\tlearn: 1.2360224\ttotal: 1.7s\tremaining: 11.4s\n",
      "13:\tlearn: 1.2328154\ttotal: 1.82s\tremaining: 11.2s\n",
      "14:\tlearn: 1.2276674\ttotal: 1.95s\tremaining: 11.1s\n",
      "15:\tlearn: 1.2213552\ttotal: 2.07s\tremaining: 10.9s\n",
      "16:\tlearn: 1.2158031\ttotal: 2.2s\tremaining: 10.7s\n",
      "17:\tlearn: 1.2118280\ttotal: 2.32s\tremaining: 10.6s\n",
      "18:\tlearn: 1.2019060\ttotal: 2.45s\tremaining: 10.4s\n",
      "19:\tlearn: 1.1964487\ttotal: 2.57s\tremaining: 10.3s\n",
      "20:\tlearn: 1.1910195\ttotal: 2.69s\tremaining: 10.1s\n",
      "21:\tlearn: 1.1886158\ttotal: 2.81s\tremaining: 9.97s\n",
      "22:\tlearn: 1.1828453\ttotal: 2.93s\tremaining: 9.81s\n",
      "23:\tlearn: 1.1776718\ttotal: 3.05s\tremaining: 9.66s\n",
      "24:\tlearn: 1.1747805\ttotal: 3.17s\tremaining: 9.51s\n",
      "25:\tlearn: 1.1671735\ttotal: 3.29s\tremaining: 9.37s\n",
      "26:\tlearn: 1.1621577\ttotal: 3.42s\tremaining: 9.23s\n",
      "27:\tlearn: 1.1582573\ttotal: 3.53s\tremaining: 9.08s\n",
      "28:\tlearn: 1.1527748\ttotal: 3.65s\tremaining: 8.94s\n",
      "29:\tlearn: 1.1467184\ttotal: 3.77s\tremaining: 8.8s\n",
      "30:\tlearn: 1.1430415\ttotal: 3.89s\tremaining: 8.66s\n",
      "31:\tlearn: 1.1381669\ttotal: 4.02s\tremaining: 8.54s\n",
      "32:\tlearn: 1.1350051\ttotal: 4.13s\tremaining: 8.39s\n",
      "33:\tlearn: 1.1310983\ttotal: 4.25s\tremaining: 8.26s\n",
      "34:\tlearn: 1.1272210\ttotal: 4.37s\tremaining: 8.12s\n",
      "35:\tlearn: 1.1230859\ttotal: 4.49s\tremaining: 7.99s\n",
      "36:\tlearn: 1.1196244\ttotal: 4.62s\tremaining: 7.86s\n",
      "37:\tlearn: 1.1170409\ttotal: 4.73s\tremaining: 7.72s\n",
      "38:\tlearn: 1.1148005\ttotal: 4.85s\tremaining: 7.59s\n",
      "39:\tlearn: 1.1107912\ttotal: 4.97s\tremaining: 7.46s\n",
      "40:\tlearn: 1.1085888\ttotal: 5.1s\tremaining: 7.34s\n",
      "41:\tlearn: 1.1057505\ttotal: 5.22s\tremaining: 7.21s\n",
      "42:\tlearn: 1.1025836\ttotal: 5.34s\tremaining: 7.08s\n",
      "43:\tlearn: 1.0966475\ttotal: 5.46s\tremaining: 6.95s\n",
      "44:\tlearn: 1.0953905\ttotal: 5.59s\tremaining: 6.83s\n",
      "45:\tlearn: 1.0930301\ttotal: 5.7s\tremaining: 6.7s\n",
      "46:\tlearn: 1.0906621\ttotal: 5.83s\tremaining: 6.57s\n",
      "47:\tlearn: 1.0882056\ttotal: 5.95s\tremaining: 6.44s\n",
      "48:\tlearn: 1.0859096\ttotal: 6.07s\tremaining: 6.32s\n",
      "49:\tlearn: 1.0831716\ttotal: 6.19s\tremaining: 6.19s\n",
      "50:\tlearn: 1.0802063\ttotal: 6.32s\tremaining: 6.07s\n",
      "51:\tlearn: 1.0788134\ttotal: 6.43s\tremaining: 5.94s\n",
      "52:\tlearn: 1.0762530\ttotal: 6.55s\tremaining: 5.81s\n",
      "53:\tlearn: 1.0738733\ttotal: 6.68s\tremaining: 5.69s\n",
      "54:\tlearn: 1.0707740\ttotal: 6.8s\tremaining: 5.56s\n",
      "55:\tlearn: 1.0691815\ttotal: 6.92s\tremaining: 5.44s\n",
      "56:\tlearn: 1.0666871\ttotal: 7.05s\tremaining: 5.32s\n",
      "57:\tlearn: 1.0633420\ttotal: 7.17s\tremaining: 5.19s\n",
      "58:\tlearn: 1.0609566\ttotal: 7.3s\tremaining: 5.07s\n",
      "59:\tlearn: 1.0587942\ttotal: 7.42s\tremaining: 4.94s\n",
      "60:\tlearn: 1.0567570\ttotal: 7.54s\tremaining: 4.82s\n",
      "61:\tlearn: 1.0540414\ttotal: 7.66s\tremaining: 4.7s\n",
      "62:\tlearn: 1.0523136\ttotal: 7.78s\tremaining: 4.57s\n",
      "63:\tlearn: 1.0494541\ttotal: 7.9s\tremaining: 4.45s\n",
      "64:\tlearn: 1.0465457\ttotal: 8.03s\tremaining: 4.32s\n",
      "65:\tlearn: 1.0438901\ttotal: 8.15s\tremaining: 4.2s\n",
      "66:\tlearn: 1.0414068\ttotal: 8.27s\tremaining: 4.07s\n",
      "67:\tlearn: 1.0386305\ttotal: 8.39s\tremaining: 3.95s\n",
      "68:\tlearn: 1.0360045\ttotal: 8.51s\tremaining: 3.82s\n",
      "69:\tlearn: 1.0333566\ttotal: 8.63s\tremaining: 3.7s\n",
      "70:\tlearn: 1.0321200\ttotal: 8.75s\tremaining: 3.57s\n",
      "71:\tlearn: 1.0289848\ttotal: 8.87s\tremaining: 3.45s\n",
      "72:\tlearn: 1.0263649\ttotal: 8.99s\tremaining: 3.33s\n",
      "73:\tlearn: 1.0243863\ttotal: 9.12s\tremaining: 3.2s\n",
      "74:\tlearn: 1.0216661\ttotal: 9.24s\tremaining: 3.08s\n",
      "75:\tlearn: 1.0206053\ttotal: 9.36s\tremaining: 2.96s\n",
      "76:\tlearn: 1.0171217\ttotal: 9.48s\tremaining: 2.83s\n",
      "77:\tlearn: 1.0147501\ttotal: 9.61s\tremaining: 2.71s\n",
      "78:\tlearn: 1.0115080\ttotal: 9.73s\tremaining: 2.59s\n",
      "79:\tlearn: 1.0101698\ttotal: 9.86s\tremaining: 2.46s\n",
      "80:\tlearn: 1.0083788\ttotal: 9.97s\tremaining: 2.34s\n",
      "81:\tlearn: 1.0067222\ttotal: 10.1s\tremaining: 2.22s\n",
      "82:\tlearn: 1.0040488\ttotal: 10.2s\tremaining: 2.09s\n",
      "83:\tlearn: 1.0011413\ttotal: 10.3s\tremaining: 1.97s\n",
      "84:\tlearn: 0.9996412\ttotal: 10.5s\tremaining: 1.85s\n",
      "85:\tlearn: 0.9979918\ttotal: 10.6s\tremaining: 1.72s\n",
      "86:\tlearn: 0.9960529\ttotal: 10.7s\tremaining: 1.6s\n",
      "87:\tlearn: 0.9942763\ttotal: 10.8s\tremaining: 1.48s\n",
      "88:\tlearn: 0.9928083\ttotal: 11s\tremaining: 1.35s\n",
      "89:\tlearn: 0.9918014\ttotal: 11.1s\tremaining: 1.23s\n",
      "90:\tlearn: 0.9904056\ttotal: 11.2s\tremaining: 1.11s\n",
      "91:\tlearn: 0.9884266\ttotal: 11.3s\tremaining: 984ms\n",
      "92:\tlearn: 0.9871844\ttotal: 11.4s\tremaining: 861ms\n",
      "93:\tlearn: 0.9838366\ttotal: 11.6s\tremaining: 738ms\n",
      "94:\tlearn: 0.9814821\ttotal: 11.7s\tremaining: 615ms\n",
      "95:\tlearn: 0.9798049\ttotal: 11.8s\tremaining: 492ms\n",
      "96:\tlearn: 0.9782650\ttotal: 11.9s\tremaining: 369ms\n",
      "97:\tlearn: 0.9765325\ttotal: 12.1s\tremaining: 246ms\n",
      "98:\tlearn: 0.9749115\ttotal: 12.2s\tremaining: 123ms\n",
      "99:\tlearn: 0.9721684\ttotal: 12.3s\tremaining: 0us\n"
     ]
    },
    {
     "data": {
      "text/plain": [
       "<catboost.core.CatBoostClassifier at 0x7fbc7d7f2b90>"
      ]
     },
     "execution_count": 6,
     "metadata": {},
     "output_type": "execute_result"
    }
   ],
   "source": [
    "model = CatBoostClassifier(\n",
    "    iterations=100,\n",
    "    depth=5,\n",
    "    random_seed=42\n",
    ")\n",
    "\n",
    "model.fit(\n",
    "    X_train,\n",
    "    y_train,\n",
    "    text_features=[0],\n",
    "    verbose=True\n",
    ")\n"
   ]
  },
  {
   "cell_type": "markdown",
   "metadata": {},
   "source": [
    "# Predict"
   ]
  },
  {
   "cell_type": "code",
   "execution_count": 7,
   "metadata": {
    "collapsed": false
   },
   "outputs": [
    {
     "name": "stderr",
     "output_type": "stream",
     "text": [
      "/Users/m.baushenko/Desktop/nlp_huawei_new2_task/venv/lib/python3.7/site-packages/sklearn/preprocessing/_label.py:154: DataConversionWarning: A column-vector y was passed when a 1d array was expected. Please change the shape of y to (n_samples, ), for example using ravel().\n",
      "  y = column_or_1d(y, warn=True)\n"
     ]
    }
   ],
   "source": [
    "# Preparing data in Pool format\n",
    "dataset_test = Pool(\n",
    "    data=X_test,\n",
    "    text_features=[0]\n",
    ")\n",
    "predict_classes = model.predict(dataset_test)\n",
    "predictions = le.inverse_transform(predict_classes)\n"
   ]
  },
  {
   "cell_type": "markdown",
   "metadata": {},
   "source": [
    "# Create submission"
   ]
  },
  {
   "cell_type": "code",
   "execution_count": 8,
   "metadata": {
    "collapsed": false
   },
   "outputs": [
    {
     "data": {
      "text/html": [
       "<div>\n",
       "<style scoped>\n",
       "    .dataframe tbody tr th:only-of-type {\n",
       "        vertical-align: middle;\n",
       "    }\n",
       "\n",
       "    .dataframe tbody tr th {\n",
       "        vertical-align: top;\n",
       "    }\n",
       "\n",
       "    .dataframe thead th {\n",
       "        text-align: right;\n",
       "    }\n",
       "</style>\n",
       "<table border=\"1\" class=\"dataframe\">\n",
       "  <thead>\n",
       "    <tr style=\"text-align: right;\">\n",
       "      <th></th>\n",
       "      <th>id</th>\n",
       "      <th>target</th>\n",
       "    </tr>\n",
       "  </thead>\n",
       "  <tbody>\n",
       "    <tr>\n",
       "      <th>0</th>\n",
       "      <td>d996f823</td>\n",
       "      <td>Kids</td>\n",
       "    </tr>\n",
       "    <tr>\n",
       "      <th>1</th>\n",
       "      <td>1cf01f9c</td>\n",
       "      <td>Kids</td>\n",
       "    </tr>\n",
       "    <tr>\n",
       "      <th>2</th>\n",
       "      <td>856ea05c</td>\n",
       "      <td>Kids</td>\n",
       "    </tr>\n",
       "    <tr>\n",
       "      <th>3</th>\n",
       "      <td>c97899ee</td>\n",
       "      <td>Kids</td>\n",
       "    </tr>\n",
       "    <tr>\n",
       "      <th>4</th>\n",
       "      <td>73f0740f</td>\n",
       "      <td>Kids</td>\n",
       "    </tr>\n",
       "  </tbody>\n",
       "</table>\n",
       "</div>"
      ],
      "text/plain": [
       "         id target\n",
       "0  d996f823   Kids\n",
       "1  1cf01f9c   Kids\n",
       "2  856ea05c   Kids\n",
       "3  c97899ee   Kids\n",
       "4  73f0740f   Kids"
      ]
     },
     "execution_count": 8,
     "metadata": {},
     "output_type": "execute_result"
    }
   ],
   "source": [
    "sample_submission = pd.read_csv(os.path.join(path, \"sample_submission.csv\"))\n",
    "sample_submission.head()\n"
   ]
  },
  {
   "cell_type": "code",
   "execution_count": 9,
   "metadata": {
    "collapsed": false
   },
   "outputs": [
    {
     "data": {
      "text/html": [
       "<div>\n",
       "<style scoped>\n",
       "    .dataframe tbody tr th:only-of-type {\n",
       "        vertical-align: middle;\n",
       "    }\n",
       "\n",
       "    .dataframe tbody tr th {\n",
       "        vertical-align: top;\n",
       "    }\n",
       "\n",
       "    .dataframe thead th {\n",
       "        text-align: right;\n",
       "    }\n",
       "</style>\n",
       "<table border=\"1\" class=\"dataframe\">\n",
       "  <thead>\n",
       "    <tr style=\"text-align: right;\">\n",
       "      <th></th>\n",
       "      <th>id</th>\n",
       "      <th>target</th>\n",
       "    </tr>\n",
       "  </thead>\n",
       "  <tbody>\n",
       "    <tr>\n",
       "      <th>0</th>\n",
       "      <td>d996f823</td>\n",
       "      <td>Drama</td>\n",
       "    </tr>\n",
       "    <tr>\n",
       "      <th>1</th>\n",
       "      <td>1cf01f9c</td>\n",
       "      <td>Drama</td>\n",
       "    </tr>\n",
       "    <tr>\n",
       "      <th>2</th>\n",
       "      <td>856ea05c</td>\n",
       "      <td>Mystery</td>\n",
       "    </tr>\n",
       "    <tr>\n",
       "      <th>3</th>\n",
       "      <td>c97899ee</td>\n",
       "      <td>Horror</td>\n",
       "    </tr>\n",
       "    <tr>\n",
       "      <th>4</th>\n",
       "      <td>73f0740f</td>\n",
       "      <td>Comedy</td>\n",
       "    </tr>\n",
       "  </tbody>\n",
       "</table>\n",
       "</div>"
      ],
      "text/plain": [
       "         id   target\n",
       "0  d996f823    Drama\n",
       "1  1cf01f9c    Drama\n",
       "2  856ea05c  Mystery\n",
       "3  c97899ee   Horror\n",
       "4  73f0740f   Comedy"
      ]
     },
     "execution_count": 9,
     "metadata": {},
     "output_type": "execute_result"
    }
   ],
   "source": [
    "sample_submission[\"target\"] = predictions\n",
    "sample_submission.head()\n"
   ]
  },
  {
   "cell_type": "code",
   "execution_count": 10,
   "metadata": {
    "collapsed": false
   },
   "outputs": [],
   "source": [
    "sample_submission.to_csv(os.path.join(path, \"submission.csv\"), index=False)\n"
   ]
  },
  {
   "cell_type": "code",
   "execution_count": 11,
   "metadata": {
    "collapsed": false
   },
   "outputs": [],
   "source": [
    "# Accuracy 0.59137"
   ]
  },
  {
   "cell_type": "code",
   "execution_count": null,
   "metadata": {},
   "outputs": [],
   "source": []
  }
 ],
 "metadata": {
  "kernelspec": {
   "display_name": "Python 3.7.9 ('venv': venv)",
   "language": "python",
   "name": "python3"
  },
  "language_info": {
   "codemirror_mode": {
    "name": "ipython",
    "version": 3
   },
   "file_extension": ".py",
   "mimetype": "text/x-python",
   "name": "python",
   "nbconvert_exporter": "python",
   "pygments_lexer": "ipython3",
   "version": "3.7.9"
  },
  "vscode": {
   "interpreter": {
    "hash": "4ce47e61e2a197e18f6178d2b52c72741babf3e522a6ab2c8e52c7be76b98a41"
   }
  }
 },
 "nbformat": 4,
 "nbformat_minor": 0
}
