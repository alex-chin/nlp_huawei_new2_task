{
 "cells": [
  {
   "cell_type": "code",
   "execution_count": 1,
   "metadata": {
    "collapsed": true
   },
   "outputs": [],
   "source": [
    "%load_ext autoreload\n",
    "%autoreload 2"
   ]
  },
  {
   "cell_type": "markdown",
   "metadata": {
    "collapsed": false
   },
   "source": [
    "# Import libs"
   ]
  },
  {
   "cell_type": "code",
   "execution_count": 2,
   "metadata": {
    "collapsed": false
   },
   "outputs": [],
   "source": [
    "import os\n",
    "\n",
    "import numpy as np\n",
    "import pandas as pd\n",
    "from catboost import Pool\n",
    "from sklearn.metrics import classification_report\n",
    "from sklearn.preprocessing import LabelEncoder\n"
   ]
  },
  {
   "cell_type": "markdown",
   "metadata": {
    "collapsed": false
   },
   "source": [
    "# Reading data"
   ]
  },
  {
   "cell_type": "code",
   "execution_count": 3,
   "metadata": {
    "collapsed": false
   },
   "outputs": [
    {
     "name": "stdout",
     "output_type": "stream",
     "text": [
      "Number of rows and columns in the train data set: (5495, 4)\n",
      "Number of rows and columns in the test data set: (788, 3)\n"
     ]
    }
   ],
   "source": [
    "path = \"../\"\n",
    "train_data = pd.read_csv(os.path.join(path, \"train.csv\"))\n",
    "test_data_labeled = pd.read_csv(os.path.join(path, \"test-with-targets.csv\"))\n",
    "test_data = pd.read_csv(os.path.join(path, \"test.csv\"))\n",
    "print(f\"Number of rows and columns in the train data set: {train_data.shape}\")\n",
    "print(f\"Number of rows and columns in the test data set: {test_data.shape}\")\n"
   ]
  },
  {
   "cell_type": "code",
   "execution_count": 4,
   "metadata": {
    "collapsed": false
   },
   "outputs": [
    {
     "data": {
      "text/html": [
       "<div>\n",
       "<style scoped>\n",
       "    .dataframe tbody tr th:only-of-type {\n",
       "        vertical-align: middle;\n",
       "    }\n",
       "\n",
       "    .dataframe tbody tr th {\n",
       "        vertical-align: top;\n",
       "    }\n",
       "\n",
       "    .dataframe thead th {\n",
       "        text-align: right;\n",
       "    }\n",
       "</style>\n",
       "<table border=\"1\" class=\"dataframe\">\n",
       "  <thead>\n",
       "    <tr style=\"text-align: right;\">\n",
       "      <th></th>\n",
       "      <th>id</th>\n",
       "      <th>movie_name</th>\n",
       "      <th>movie_description</th>\n",
       "      <th>target</th>\n",
       "    </tr>\n",
       "  </thead>\n",
       "  <tbody>\n",
       "    <tr>\n",
       "      <th>0</th>\n",
       "      <td>3525e31d</td>\n",
       "      <td>Hellraiser</td>\n",
       "      <td>A new take on Clive Barker's 1987 horror class...</td>\n",
       "      <td>Horror</td>\n",
       "    </tr>\n",
       "    <tr>\n",
       "      <th>1</th>\n",
       "      <td>051f6309</td>\n",
       "      <td>Hocus Pocus 2</td>\n",
       "      <td>It's been 29 years since someone lit the Black...</td>\n",
       "      <td>Kids</td>\n",
       "    </tr>\n",
       "    <tr>\n",
       "      <th>2</th>\n",
       "      <td>12a9bfcf</td>\n",
       "      <td>X</td>\n",
       "      <td>In 1979, a group of young filmmakers set out t...</td>\n",
       "      <td>Horror</td>\n",
       "    </tr>\n",
       "    <tr>\n",
       "      <th>3</th>\n",
       "      <td>e5373c77</td>\n",
       "      <td>Piggy</td>\n",
       "      <td>With the summer sun beating down on her rural ...</td>\n",
       "      <td>Horror</td>\n",
       "    </tr>\n",
       "    <tr>\n",
       "      <th>4</th>\n",
       "      <td>473cdb82</td>\n",
       "      <td>Deadstream</td>\n",
       "      <td>After a public controversy left him disgraced ...</td>\n",
       "      <td>Horror</td>\n",
       "    </tr>\n",
       "  </tbody>\n",
       "</table>\n",
       "</div>"
      ],
      "text/plain": [
       "         id     movie_name                                  movie_description  \\\n",
       "0  3525e31d     Hellraiser  A new take on Clive Barker's 1987 horror class...   \n",
       "1  051f6309  Hocus Pocus 2  It's been 29 years since someone lit the Black...   \n",
       "2  12a9bfcf              X  In 1979, a group of young filmmakers set out t...   \n",
       "3  e5373c77          Piggy  With the summer sun beating down on her rural ...   \n",
       "4  473cdb82     Deadstream  After a public controversy left him disgraced ...   \n",
       "\n",
       "   target  \n",
       "0  Horror  \n",
       "1    Kids  \n",
       "2  Horror  \n",
       "3  Horror  \n",
       "4  Horror  "
      ]
     },
     "execution_count": 4,
     "metadata": {},
     "output_type": "execute_result"
    }
   ],
   "source": [
    "train_data.head()"
   ]
  },
  {
   "cell_type": "code",
   "execution_count": 5,
   "metadata": {
    "collapsed": false
   },
   "outputs": [
    {
     "data": {
      "text/html": [
       "<div>\n",
       "<style scoped>\n",
       "    .dataframe tbody tr th:only-of-type {\n",
       "        vertical-align: middle;\n",
       "    }\n",
       "\n",
       "    .dataframe tbody tr th {\n",
       "        vertical-align: top;\n",
       "    }\n",
       "\n",
       "    .dataframe thead tr th {\n",
       "        text-align: left;\n",
       "    }\n",
       "\n",
       "    .dataframe thead tr:last-of-type th {\n",
       "        text-align: right;\n",
       "    }\n",
       "</style>\n",
       "<table border=\"1\" class=\"dataframe\">\n",
       "  <thead>\n",
       "    <tr>\n",
       "      <th></th>\n",
       "      <th colspan=\"4\" halign=\"left\">id</th>\n",
       "      <th colspan=\"4\" halign=\"left\">movie_name</th>\n",
       "      <th colspan=\"4\" halign=\"left\">movie_description</th>\n",
       "    </tr>\n",
       "    <tr>\n",
       "      <th></th>\n",
       "      <th>count</th>\n",
       "      <th>unique</th>\n",
       "      <th>top</th>\n",
       "      <th>freq</th>\n",
       "      <th>count</th>\n",
       "      <th>unique</th>\n",
       "      <th>top</th>\n",
       "      <th>freq</th>\n",
       "      <th>count</th>\n",
       "      <th>unique</th>\n",
       "      <th>top</th>\n",
       "      <th>freq</th>\n",
       "    </tr>\n",
       "    <tr>\n",
       "      <th>target</th>\n",
       "      <th></th>\n",
       "      <th></th>\n",
       "      <th></th>\n",
       "      <th></th>\n",
       "      <th></th>\n",
       "      <th></th>\n",
       "      <th></th>\n",
       "      <th></th>\n",
       "      <th></th>\n",
       "      <th></th>\n",
       "      <th></th>\n",
       "      <th></th>\n",
       "    </tr>\n",
       "  </thead>\n",
       "  <tbody>\n",
       "    <tr>\n",
       "      <th>Action</th>\n",
       "      <td>704</td>\n",
       "      <td>704</td>\n",
       "      <td>68cfcb79</td>\n",
       "      <td>1</td>\n",
       "      <td>704</td>\n",
       "      <td>697</td>\n",
       "      <td>Assault on Precinct 13</td>\n",
       "      <td>2</td>\n",
       "      <td>704</td>\n",
       "      <td>703</td>\n",
       "      <td>Wisecracking mercenary Deadpool meets Russell,...</td>\n",
       "      <td>2</td>\n",
       "    </tr>\n",
       "    <tr>\n",
       "      <th>Comedy</th>\n",
       "      <td>1269</td>\n",
       "      <td>1269</td>\n",
       "      <td>f00aac8c</td>\n",
       "      <td>1</td>\n",
       "      <td>1269</td>\n",
       "      <td>1264</td>\n",
       "      <td>Father of the Bride</td>\n",
       "      <td>2</td>\n",
       "      <td>1269</td>\n",
       "      <td>1269</td>\n",
       "      <td>To show support for his neighborhood friends s...</td>\n",
       "      <td>1</td>\n",
       "    </tr>\n",
       "    <tr>\n",
       "      <th>Drama</th>\n",
       "      <td>1202</td>\n",
       "      <td>1202</td>\n",
       "      <td>6569d7af</td>\n",
       "      <td>1</td>\n",
       "      <td>1202</td>\n",
       "      <td>1196</td>\n",
       "      <td>Little Women</td>\n",
       "      <td>2</td>\n",
       "      <td>1202</td>\n",
       "      <td>1202</td>\n",
       "      <td>Vince used to be in the hottest boy band aroun...</td>\n",
       "      <td>1</td>\n",
       "    </tr>\n",
       "    <tr>\n",
       "      <th>Horror</th>\n",
       "      <td>974</td>\n",
       "      <td>974</td>\n",
       "      <td>3525e31d</td>\n",
       "      <td>1</td>\n",
       "      <td>974</td>\n",
       "      <td>942</td>\n",
       "      <td>Carrie</td>\n",
       "      <td>3</td>\n",
       "      <td>974</td>\n",
       "      <td>974</td>\n",
       "      <td>A new take on Clive Barker's 1987 horror class...</td>\n",
       "      <td>1</td>\n",
       "    </tr>\n",
       "    <tr>\n",
       "      <th>Kids</th>\n",
       "      <td>552</td>\n",
       "      <td>552</td>\n",
       "      <td>051f6309</td>\n",
       "      <td>1</td>\n",
       "      <td>552</td>\n",
       "      <td>539</td>\n",
       "      <td>Pinocchio</td>\n",
       "      <td>3</td>\n",
       "      <td>552</td>\n",
       "      <td>552</td>\n",
       "      <td>It's been 29 years since someone lit the Black...</td>\n",
       "      <td>1</td>\n",
       "    </tr>\n",
       "    <tr>\n",
       "      <th>Mystery</th>\n",
       "      <td>794</td>\n",
       "      <td>794</td>\n",
       "      <td>e5da8af4</td>\n",
       "      <td>1</td>\n",
       "      <td>794</td>\n",
       "      <td>769</td>\n",
       "      <td>Alone</td>\n",
       "      <td>3</td>\n",
       "      <td>794</td>\n",
       "      <td>793</td>\n",
       "      <td>A mysterious figure stalks a pop star when she...</td>\n",
       "      <td>2</td>\n",
       "    </tr>\n",
       "  </tbody>\n",
       "</table>\n",
       "</div>"
      ],
      "text/plain": [
       "           id                       movie_name                                 \\\n",
       "        count unique       top freq      count unique                     top   \n",
       "target                                                                          \n",
       "Action    704    704  68cfcb79    1        704    697  Assault on Precinct 13   \n",
       "Comedy   1269   1269  f00aac8c    1       1269   1264     Father of the Bride   \n",
       "Drama    1202   1202  6569d7af    1       1202   1196            Little Women   \n",
       "Horror    974    974  3525e31d    1        974    942                  Carrie   \n",
       "Kids      552    552  051f6309    1        552    539               Pinocchio   \n",
       "Mystery   794    794  e5da8af4    1        794    769                   Alone   \n",
       "\n",
       "             movie_description         \\\n",
       "        freq             count unique   \n",
       "target                                  \n",
       "Action     2               704    703   \n",
       "Comedy     2              1269   1269   \n",
       "Drama      2              1202   1202   \n",
       "Horror     3               974    974   \n",
       "Kids       3               552    552   \n",
       "Mystery    3               794    793   \n",
       "\n",
       "                                                                 \n",
       "                                                       top freq  \n",
       "target                                                           \n",
       "Action   Wisecracking mercenary Deadpool meets Russell,...    2  \n",
       "Comedy   To show support for his neighborhood friends s...    1  \n",
       "Drama    Vince used to be in the hottest boy band aroun...    1  \n",
       "Horror   A new take on Clive Barker's 1987 horror class...    1  \n",
       "Kids     It's been 29 years since someone lit the Black...    1  \n",
       "Mystery  A mysterious figure stalks a pop star when she...    2  "
      ]
     },
     "execution_count": 5,
     "metadata": {},
     "output_type": "execute_result"
    }
   ],
   "source": [
    "train_data.groupby(\"target\").describe()"
   ]
  },
  {
   "cell_type": "code",
   "execution_count": 6,
   "metadata": {
    "collapsed": false
   },
   "outputs": [],
   "source": [
    "le = LabelEncoder()  # for label encoding!\n",
    "\n",
    "y_train = le.fit_transform(train_data[\"target\"])\n",
    "y_test_labeled = le.transform(test_data_labeled[\"target\"])"
   ]
  },
  {
   "cell_type": "markdown",
   "metadata": {
    "collapsed": false
   },
   "source": [
    "# Cross-validation and returning best model"
   ]
  },
  {
   "cell_type": "code",
   "execution_count": 67,
   "metadata": {
    "collapsed": false
   },
   "outputs": [],
   "source": [
    "def tune_catboost(x_train, y_train_, **kwargs):\n",
    "    cv_data = Pool(\n",
    "        data=x_train,\n",
    "        label=y_train_,\n",
    "        **kwargs\n",
    "    )\n",
    "    params = {\n",
    "        'iterations': 200,\n",
    "        'depth': 2,\n",
    "        'loss_function': 'MultiClass',\n",
    "        'verbose': False,\n",
    "        'random_seed': 42\n",
    "    }\n",
    "    return cv(\n",
    "        cv_data,\n",
    "        params,\n",
    "        fold_count=3,\n",
    "        plot=True,\n",
    "        return_models=True\n",
    "    )\n"
   ]
  },
  {
   "cell_type": "code",
   "execution_count": 68,
   "metadata": {
    "collapsed": false
   },
   "outputs": [
    {
     "data": {
      "text/plain": [
       "0       A new take on Clive Barker's 1987 horror class...\n",
       "1       It's been 29 years since someone lit the Black...\n",
       "2       In 1979, a group of young filmmakers set out t...\n",
       "3       With the summer sun beating down on her rural ...\n",
       "4       After a public controversy left him disgraced ...\n",
       "                              ...                        \n",
       "5507    Northern Ireland, 1960: Father Thomas Riley an...\n",
       "5508    Traveling in Ireland, New York reporter Stephe...\n",
       "5509    Sebastian Cabot narrates the adventures of bum...\n",
       "5510    Unspoken class barriers that exist within a ho...\n",
       "5511    Acting couple Joseph (Jack Benny) and Maria Tu...\n",
       "Name: movie_description, Length: 5496, dtype: object"
      ]
     },
     "execution_count": 68,
     "metadata": {},
     "output_type": "execute_result"
    }
   ],
   "source": [
    "X_train = train_data[\"movie_description\"]\n",
    "X_test = test_data_labeled[\"movie_description\"]\n",
    "X_train"
   ]
  },
  {
   "cell_type": "code",
   "execution_count": 69,
   "metadata": {
    "collapsed": false
   },
   "outputs": [
    {
     "data": {
      "application/vnd.jupyter.widget-view+json": {
       "model_id": "db6b08f203dd40f1a8b5f59076041fc6",
       "version_major": 2,
       "version_minor": 0
      },
      "text/plain": [
       "MetricVisualizer(layout=Layout(align_self='stretch', height='500px'))"
      ]
     },
     "metadata": {},
     "output_type": "display_data"
    },
    {
     "name": "stdout",
     "output_type": "stream",
     "text": [
      "Training on fold [0/3]\n",
      "\n",
      "bestTest = 1.271489642\n",
      "bestIteration = 199\n",
      "\n",
      "Training on fold [1/3]\n",
      "\n",
      "bestTest = 1.267645209\n",
      "bestIteration = 199\n",
      "\n",
      "Training on fold [2/3]\n",
      "\n",
      "bestTest = 1.294392309\n",
      "bestIteration = 199\n",
      "\n"
     ]
    }
   ],
   "source": [
    "scores, models = tune_catboost(\n",
    "    X_train,\n",
    "    y_train,\n",
    "    text_features=[0]  # dataframe contains only 1 text feature\n",
    ")"
   ]
  },
  {
   "cell_type": "code",
   "execution_count": 70,
   "metadata": {
    "collapsed": false
   },
   "outputs": [],
   "source": [
    "model = models[-1]  # select model from last fold"
   ]
  },
  {
   "cell_type": "markdown",
   "metadata": {
    "collapsed": false
   },
   "source": [
    "### Pool is an internal data structure that is used by CatBoost"
   ]
  },
  {
   "cell_type": "code",
   "execution_count": 71,
   "metadata": {
    "collapsed": false
   },
   "outputs": [],
   "source": [
    "cv_dataset_test = Pool(\n",
    "    data=X_test,\n",
    "    label=y_test_labeled,\n",
    "    text_features=[0]\n",
    ")"
   ]
  },
  {
   "cell_type": "code",
   "execution_count": 72,
   "metadata": {
    "collapsed": false
   },
   "outputs": [],
   "source": [
    "res2 = classification_report(\n",
    "    y_test_labeled,\n",
    "    np.argmax(model.predict(cv_dataset_test), axis=1),\n",
    "    target_names=le.classes_\n",
    ")"
   ]
  },
  {
   "cell_type": "code",
   "execution_count": 73,
   "metadata": {
    "collapsed": false
   },
   "outputs": [
    {
     "name": "stdout",
     "output_type": "stream",
     "text": [
      "              precision    recall  f1-score   support\n",
      "\n",
      "      Action       0.58      0.58      0.58       101\n",
      "      Comedy       0.51      0.65      0.57       182\n",
      "       Drama       0.56      0.65      0.60       172\n",
      "      Horror       0.63      0.68      0.66       140\n",
      "        Kids       0.73      0.47      0.57        79\n",
      "     Mystery       0.63      0.30      0.40       114\n",
      "\n",
      "    accuracy                           0.58       788\n",
      "   macro avg       0.61      0.55      0.56       788\n",
      "weighted avg       0.59      0.58      0.57       788\n",
      "\n"
     ]
    }
   ],
   "source": [
    "print(res2)"
   ]
  },
  {
   "cell_type": "code",
   "execution_count": 74,
   "metadata": {
    "collapsed": false
   },
   "outputs": [],
   "source": [
    "# Preparing data in Pool format\n",
    "cv_dataset_test = Pool(\n",
    "    data=X_test,\n",
    "    text_features=[0]\n",
    ")\n",
    "predict_scores = model.predict(cv_dataset_test)\n",
    "predictions = le.inverse_transform(np.argmax(predict_scores, axis=1))"
   ]
  },
  {
   "cell_type": "code",
   "execution_count": 75,
   "metadata": {
    "collapsed": false
   },
   "outputs": [
    {
     "data": {
      "text/html": [
       "<div>\n",
       "<style scoped>\n",
       "    .dataframe tbody tr th:only-of-type {\n",
       "        vertical-align: middle;\n",
       "    }\n",
       "\n",
       "    .dataframe tbody tr th {\n",
       "        vertical-align: top;\n",
       "    }\n",
       "\n",
       "    .dataframe thead th {\n",
       "        text-align: right;\n",
       "    }\n",
       "</style>\n",
       "<table border=\"1\" class=\"dataframe\">\n",
       "  <thead>\n",
       "    <tr style=\"text-align: right;\">\n",
       "      <th></th>\n",
       "      <th>target</th>\n",
       "    </tr>\n",
       "  </thead>\n",
       "  <tbody>\n",
       "    <tr>\n",
       "      <th>0</th>\n",
       "      <td>Kids</td>\n",
       "    </tr>\n",
       "    <tr>\n",
       "      <th>1</th>\n",
       "      <td>Kids</td>\n",
       "    </tr>\n",
       "    <tr>\n",
       "      <th>2</th>\n",
       "      <td>Kids</td>\n",
       "    </tr>\n",
       "    <tr>\n",
       "      <th>3</th>\n",
       "      <td>Kids</td>\n",
       "    </tr>\n",
       "    <tr>\n",
       "      <th>4</th>\n",
       "      <td>Kids</td>\n",
       "    </tr>\n",
       "  </tbody>\n",
       "</table>\n",
       "</div>"
      ],
      "text/plain": [
       "  target\n",
       "0   Kids\n",
       "1   Kids\n",
       "2   Kids\n",
       "3   Kids\n",
       "4   Kids"
      ]
     },
     "execution_count": 75,
     "metadata": {},
     "output_type": "execute_result"
    }
   ],
   "source": [
    "sample_submission = pd.read_csv(os.path.join(path, \"sample_submission.csv\"))\n",
    "sample_submission.head()"
   ]
  },
  {
   "cell_type": "code",
   "execution_count": 76,
   "metadata": {
    "collapsed": false
   },
   "outputs": [
    {
     "data": {
      "text/html": [
       "<div>\n",
       "<style scoped>\n",
       "    .dataframe tbody tr th:only-of-type {\n",
       "        vertical-align: middle;\n",
       "    }\n",
       "\n",
       "    .dataframe tbody tr th {\n",
       "        vertical-align: top;\n",
       "    }\n",
       "\n",
       "    .dataframe thead th {\n",
       "        text-align: right;\n",
       "    }\n",
       "</style>\n",
       "<table border=\"1\" class=\"dataframe\">\n",
       "  <thead>\n",
       "    <tr style=\"text-align: right;\">\n",
       "      <th></th>\n",
       "      <th>target</th>\n",
       "    </tr>\n",
       "  </thead>\n",
       "  <tbody>\n",
       "    <tr>\n",
       "      <th>0</th>\n",
       "      <td>Horror</td>\n",
       "    </tr>\n",
       "    <tr>\n",
       "      <th>1</th>\n",
       "      <td>Drama</td>\n",
       "    </tr>\n",
       "    <tr>\n",
       "      <th>2</th>\n",
       "      <td>Comedy</td>\n",
       "    </tr>\n",
       "    <tr>\n",
       "      <th>3</th>\n",
       "      <td>Horror</td>\n",
       "    </tr>\n",
       "    <tr>\n",
       "      <th>4</th>\n",
       "      <td>Comedy</td>\n",
       "    </tr>\n",
       "  </tbody>\n",
       "</table>\n",
       "</div>"
      ],
      "text/plain": [
       "   target\n",
       "0  Horror\n",
       "1   Drama\n",
       "2  Comedy\n",
       "3  Horror\n",
       "4  Comedy"
      ]
     },
     "execution_count": 76,
     "metadata": {},
     "output_type": "execute_result"
    }
   ],
   "source": [
    "sample_submission[\"target\"] = predictions\n",
    "sample_submission.head()"
   ]
  },
  {
   "cell_type": "code",
   "execution_count": 52,
   "metadata": {
    "collapsed": false
   },
   "outputs": [],
   "source": [
    "sample_submission.to_csv(os.path.join(path, \"submission.csv\"), index=False)"
   ]
  },
  {
   "cell_type": "code",
   "execution_count": null,
   "metadata": {
    "collapsed": false
   },
   "outputs": [],
   "source": [
    "# Accuracy 0.5761"
   ]
  }
 ],
 "metadata": {
  "kernelspec": {
   "display_name": "Python 3.7.9 ('venv': venv)",
   "language": "python",
   "name": "python3"
  },
  "language_info": {
   "codemirror_mode": {
    "name": "ipython",
    "version": 3
   },
   "file_extension": ".py",
   "mimetype": "text/x-python",
   "name": "python",
   "nbconvert_exporter": "python",
   "pygments_lexer": "ipython3",
   "version": "3.7.9"
  },
  "vscode": {
   "interpreter": {
    "hash": "4ce47e61e2a197e18f6178d2b52c72741babf3e522a6ab2c8e52c7be76b98a41"
   }
  }
 },
 "nbformat": 4,
 "nbformat_minor": 0
}
