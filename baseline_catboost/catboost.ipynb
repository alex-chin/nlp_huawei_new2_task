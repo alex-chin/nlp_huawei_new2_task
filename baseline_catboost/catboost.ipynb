{
 "cells": [
  {
   "cell_type": "code",
   "execution_count": 1,
   "metadata": {
    "collapsed": true
   },
   "outputs": [],
   "source": [
    "%load_ext autoreload\n",
    "%autoreload 2\n"
   ]
  },
  {
   "cell_type": "markdown",
   "metadata": {
    "collapsed": false
   },
   "source": [
    "# Import Libraries"
   ]
  },
  {
   "cell_type": "code",
   "execution_count": 2,
   "metadata": {
    "collapsed": false
   },
   "outputs": [],
   "source": [
    "import os\n",
    "\n",
    "import pandas as pd\n",
    "from catboost import Pool, CatBoostClassifier\n",
    "from sklearn.metrics import accuracy_score\n"
   ]
  },
  {
   "cell_type": "markdown",
   "metadata": {
    "collapsed": false
   },
   "source": [
    "# Read Data"
   ]
  },
  {
   "cell_type": "code",
   "execution_count": 3,
   "metadata": {
    "collapsed": false
   },
   "outputs": [
    {
     "name": "stdout",
     "output_type": "stream",
     "text": [
      "Number of rows and columns in the train data set: (8050, 4)\n",
      "Number of rows and columns in the test data set: (2684, 3)\n"
     ]
    },
    {
     "data": {
      "text/html": [
       "<div>\n",
       "<style scoped>\n",
       "    .dataframe tbody tr th:only-of-type {\n",
       "        vertical-align: middle;\n",
       "    }\n",
       "\n",
       "    .dataframe tbody tr th {\n",
       "        vertical-align: top;\n",
       "    }\n",
       "\n",
       "    .dataframe thead th {\n",
       "        text-align: right;\n",
       "    }\n",
       "</style>\n",
       "<table border=\"1\" class=\"dataframe\">\n",
       "  <thead>\n",
       "    <tr style=\"text-align: right;\">\n",
       "      <th></th>\n",
       "      <th>movie_name</th>\n",
       "      <th>target</th>\n",
       "      <th>movie_description</th>\n",
       "      <th>id</th>\n",
       "    </tr>\n",
       "  </thead>\n",
       "  <tbody>\n",
       "    <tr>\n",
       "      <th>0</th>\n",
       "      <td>Furies</td>\n",
       "      <td>0</td>\n",
       "      <td>Three furious vigilantes unite to take down a ...</td>\n",
       "      <td>133529636342330622371894152500993949030</td>\n",
       "    </tr>\n",
       "    <tr>\n",
       "      <th>1</th>\n",
       "      <td>RRR</td>\n",
       "      <td>0</td>\n",
       "      <td>The story of freedom fighters Komaram Bheem an...</td>\n",
       "      <td>133529660110779376651195430564179049830</td>\n",
       "    </tr>\n",
       "    <tr>\n",
       "      <th>2</th>\n",
       "      <td>John Wick</td>\n",
       "      <td>0</td>\n",
       "      <td>Legendary assassin John Wick (Keanu Reeves) re...</td>\n",
       "      <td>133529680710101630359923204885606137190</td>\n",
       "    </tr>\n",
       "    <tr>\n",
       "      <th>3</th>\n",
       "      <td>John Wick: Chapter 3 -- Parabellum</td>\n",
       "      <td>0</td>\n",
       "      <td>After gunning down a member of the High Table ...</td>\n",
       "      <td>133529687048354631501070212369122164070</td>\n",
       "    </tr>\n",
       "    <tr>\n",
       "      <th>4</th>\n",
       "      <td>Top Gun: Maverick</td>\n",
       "      <td>0</td>\n",
       "      <td>After more than thirty years of service as one...</td>\n",
       "      <td>133529699724860633783364227336154217830</td>\n",
       "    </tr>\n",
       "  </tbody>\n",
       "</table>\n",
       "</div>"
      ],
      "text/plain": [
       "                           movie_name  target  \\\n",
       "0                              Furies       0   \n",
       "1                                 RRR       0   \n",
       "2                           John Wick       0   \n",
       "3  John Wick: Chapter 3 -- Parabellum       0   \n",
       "4                   Top Gun: Maverick       0   \n",
       "\n",
       "                                   movie_description  \\\n",
       "0  Three furious vigilantes unite to take down a ...   \n",
       "1  The story of freedom fighters Komaram Bheem an...   \n",
       "2  Legendary assassin John Wick (Keanu Reeves) re...   \n",
       "3  After gunning down a member of the High Table ...   \n",
       "4  After more than thirty years of service as one...   \n",
       "\n",
       "                                        id  \n",
       "0  133529636342330622371894152500993949030  \n",
       "1  133529660110779376651195430564179049830  \n",
       "2  133529680710101630359923204885606137190  \n",
       "3  133529687048354631501070212369122164070  \n",
       "4  133529699724860633783364227336154217830  "
      ]
     },
     "execution_count": 3,
     "metadata": {},
     "output_type": "execute_result"
    }
   ],
   "source": [
    "path = \"../\"\n",
    "train_data = pd.read_csv(os.path.join(path, \"train.csv\"))\n",
    "test_data = pd.read_csv(os.path.join(path, \"test.csv\"))\n",
    "print(f\"Number of rows and columns in the train data set: {train_data.shape}\")\n",
    "print(f\"Number of rows and columns in the test data set: {test_data.shape}\")\n",
    "train_data.head()\n"
   ]
  },
  {
   "cell_type": "code",
   "execution_count": 4,
   "metadata": {
    "collapsed": false
   },
   "outputs": [
    {
     "data": {
      "text/html": [
       "<div>\n",
       "<style scoped>\n",
       "    .dataframe tbody tr th:only-of-type {\n",
       "        vertical-align: middle;\n",
       "    }\n",
       "\n",
       "    .dataframe tbody tr th {\n",
       "        vertical-align: top;\n",
       "    }\n",
       "\n",
       "    .dataframe thead tr th {\n",
       "        text-align: left;\n",
       "    }\n",
       "\n",
       "    .dataframe thead tr:last-of-type th {\n",
       "        text-align: right;\n",
       "    }\n",
       "</style>\n",
       "<table border=\"1\" class=\"dataframe\">\n",
       "  <thead>\n",
       "    <tr>\n",
       "      <th></th>\n",
       "      <th colspan=\"4\" halign=\"left\">movie_name</th>\n",
       "      <th colspan=\"4\" halign=\"left\">movie_description</th>\n",
       "      <th colspan=\"4\" halign=\"left\">id</th>\n",
       "    </tr>\n",
       "    <tr>\n",
       "      <th></th>\n",
       "      <th>count</th>\n",
       "      <th>unique</th>\n",
       "      <th>top</th>\n",
       "      <th>freq</th>\n",
       "      <th>count</th>\n",
       "      <th>unique</th>\n",
       "      <th>top</th>\n",
       "      <th>freq</th>\n",
       "      <th>count</th>\n",
       "      <th>unique</th>\n",
       "      <th>top</th>\n",
       "      <th>freq</th>\n",
       "    </tr>\n",
       "    <tr>\n",
       "      <th>target</th>\n",
       "      <th></th>\n",
       "      <th></th>\n",
       "      <th></th>\n",
       "      <th></th>\n",
       "      <th></th>\n",
       "      <th></th>\n",
       "      <th></th>\n",
       "      <th></th>\n",
       "      <th></th>\n",
       "      <th></th>\n",
       "      <th></th>\n",
       "      <th></th>\n",
       "    </tr>\n",
       "  </thead>\n",
       "  <tbody>\n",
       "    <tr>\n",
       "      <th>0</th>\n",
       "      <td>920</td>\n",
       "      <td>908</td>\n",
       "      <td>The Mummy</td>\n",
       "      <td>2</td>\n",
       "      <td>920</td>\n",
       "      <td>920</td>\n",
       "      <td>Three furious vigilantes unite to take down a ...</td>\n",
       "      <td>1</td>\n",
       "      <td>920</td>\n",
       "      <td>920</td>\n",
       "      <td>133529636342330622371894152500993949030</td>\n",
       "      <td>1</td>\n",
       "    </tr>\n",
       "    <tr>\n",
       "      <th>1</th>\n",
       "      <td>1096</td>\n",
       "      <td>1075</td>\n",
       "      <td>The Three Musketeers</td>\n",
       "      <td>4</td>\n",
       "      <td>1096</td>\n",
       "      <td>1096</td>\n",
       "      <td>An interactive comedy adventure about two indo...</td>\n",
       "      <td>1</td>\n",
       "      <td>1096</td>\n",
       "      <td>1096</td>\n",
       "      <td>133537091712423214646061704986720566630</td>\n",
       "      <td>1</td>\n",
       "    </tr>\n",
       "    <tr>\n",
       "      <th>2</th>\n",
       "      <td>1140</td>\n",
       "      <td>1133</td>\n",
       "      <td>Rembrandt</td>\n",
       "      <td>2</td>\n",
       "      <td>1140</td>\n",
       "      <td>1140</td>\n",
       "      <td>Zlatan Ibrahimovic, the son of Balkan immigran...</td>\n",
       "      <td>1</td>\n",
       "      <td>1140</td>\n",
       "      <td>1140</td>\n",
       "      <td>133546465196330277259842397171484818790</td>\n",
       "      <td>1</td>\n",
       "    </tr>\n",
       "    <tr>\n",
       "      <th>3</th>\n",
       "      <td>1589</td>\n",
       "      <td>1578</td>\n",
       "      <td>Ocean's Eleven</td>\n",
       "      <td>2</td>\n",
       "      <td>1589</td>\n",
       "      <td>1589</td>\n",
       "      <td>Aware that her time is running short, irascibl...</td>\n",
       "      <td>1</td>\n",
       "      <td>1589</td>\n",
       "      <td>1589</td>\n",
       "      <td>133555542366909536525000489501874814310</td>\n",
       "      <td>1</td>\n",
       "    </tr>\n",
       "    <tr>\n",
       "      <th>4</th>\n",
       "      <td>1699</td>\n",
       "      <td>1645</td>\n",
       "      <td>Halloween</td>\n",
       "      <td>3</td>\n",
       "      <td>1699</td>\n",
       "      <td>1699</td>\n",
       "      <td>Returning to an eerily empty hotel after a day...</td>\n",
       "      <td>1</td>\n",
       "      <td>1699</td>\n",
       "      <td>1699</td>\n",
       "      <td>133568186389365187970637043180908936550</td>\n",
       "      <td>1</td>\n",
       "    </tr>\n",
       "    <tr>\n",
       "      <th>5</th>\n",
       "      <td>1606</td>\n",
       "      <td>1590</td>\n",
       "      <td>Always Be My Maybe</td>\n",
       "      <td>2</td>\n",
       "      <td>1606</td>\n",
       "      <td>1606</td>\n",
       "      <td>In order to save her relationship from falling...</td>\n",
       "      <td>1</td>\n",
       "      <td>1606</td>\n",
       "      <td>1606</td>\n",
       "      <td>133581667853498615190321960619498110310</td>\n",
       "      <td>1</td>\n",
       "    </tr>\n",
       "  </tbody>\n",
       "</table>\n",
       "</div>"
      ],
      "text/plain": [
       "       movie_name                                   movie_description         \\\n",
       "            count unique                   top freq             count unique   \n",
       "target                                                                         \n",
       "0             920    908             The Mummy    2               920    920   \n",
       "1            1096   1075  The Three Musketeers    4              1096   1096   \n",
       "2            1140   1133             Rembrandt    2              1140   1140   \n",
       "3            1589   1578        Ocean's Eleven    2              1589   1589   \n",
       "4            1699   1645             Halloween    3              1699   1699   \n",
       "5            1606   1590    Always Be My Maybe    2              1606   1606   \n",
       "\n",
       "                                                                  id         \\\n",
       "                                                      top freq count unique   \n",
       "target                                                                        \n",
       "0       Three furious vigilantes unite to take down a ...    1   920    920   \n",
       "1       An interactive comedy adventure about two indo...    1  1096   1096   \n",
       "2       Zlatan Ibrahimovic, the son of Balkan immigran...    1  1140   1140   \n",
       "3       Aware that her time is running short, irascibl...    1  1589   1589   \n",
       "4       Returning to an eerily empty hotel after a day...    1  1699   1699   \n",
       "5       In order to save her relationship from falling...    1  1606   1606   \n",
       "\n",
       "                                                      \n",
       "                                            top freq  \n",
       "target                                                \n",
       "0       133529636342330622371894152500993949030    1  \n",
       "1       133537091712423214646061704986720566630    1  \n",
       "2       133546465196330277259842397171484818790    1  \n",
       "3       133555542366909536525000489501874814310    1  \n",
       "4       133568186389365187970637043180908936550    1  \n",
       "5       133581667853498615190321960619498110310    1  "
      ]
     },
     "execution_count": 4,
     "metadata": {},
     "output_type": "execute_result"
    }
   ],
   "source": [
    "train_data.groupby(\"target\").describe()\n"
   ]
  },
  {
   "cell_type": "markdown",
   "metadata": {
    "collapsed": false
   },
   "source": [
    "# Preparing the data and creating Catboost model"
   ]
  },
  {
   "cell_type": "code",
   "execution_count": 5,
   "metadata": {
    "collapsed": false
   },
   "outputs": [
    {
     "name": "stdout",
     "output_type": "stream",
     "text": [
      "Learning rate set to 0.5\n",
      "0:\tlearn: 0.6379966\ttotal: 192ms\tremaining: 19s\n",
      "1:\tlearn: 0.4115786\ttotal: 353ms\tremaining: 17.3s\n",
      "2:\tlearn: 0.3088364\ttotal: 506ms\tremaining: 16.4s\n",
      "3:\tlearn: 0.2512520\ttotal: 657ms\tremaining: 15.8s\n",
      "4:\tlearn: 0.2143676\ttotal: 805ms\tremaining: 15.3s\n",
      "5:\tlearn: 0.1921620\ttotal: 949ms\tremaining: 14.9s\n",
      "6:\tlearn: 0.1753263\ttotal: 1.1s\tremaining: 14.6s\n",
      "7:\tlearn: 0.1564486\ttotal: 1.27s\tremaining: 14.7s\n",
      "8:\tlearn: 0.1494784\ttotal: 1.43s\tremaining: 14.4s\n",
      "9:\tlearn: 0.1489393\ttotal: 1.59s\tremaining: 14.3s\n",
      "10:\tlearn: 0.1453907\ttotal: 1.74s\tremaining: 14s\n",
      "11:\tlearn: 0.1422216\ttotal: 1.89s\tremaining: 13.9s\n",
      "12:\tlearn: 0.1372412\ttotal: 2.04s\tremaining: 13.7s\n",
      "13:\tlearn: 0.1366207\ttotal: 2.19s\tremaining: 13.4s\n",
      "14:\tlearn: 0.1321891\ttotal: 2.34s\tremaining: 13.2s\n",
      "15:\tlearn: 0.1309876\ttotal: 2.48s\tremaining: 13s\n",
      "16:\tlearn: 0.1240254\ttotal: 2.63s\tremaining: 12.8s\n",
      "17:\tlearn: 0.1222762\ttotal: 2.77s\tremaining: 12.6s\n",
      "18:\tlearn: 0.1219894\ttotal: 2.92s\tremaining: 12.5s\n",
      "19:\tlearn: 0.1091740\ttotal: 3.08s\tremaining: 12.3s\n",
      "20:\tlearn: 0.1086741\ttotal: 3.22s\tremaining: 12.1s\n",
      "21:\tlearn: 0.1079970\ttotal: 3.36s\tremaining: 11.9s\n",
      "22:\tlearn: 0.1023721\ttotal: 3.51s\tremaining: 11.7s\n",
      "23:\tlearn: 0.1002399\ttotal: 3.66s\tremaining: 11.6s\n",
      "24:\tlearn: 0.0987527\ttotal: 3.8s\tremaining: 11.4s\n",
      "25:\tlearn: 0.0974956\ttotal: 3.95s\tremaining: 11.3s\n",
      "26:\tlearn: 0.0969315\ttotal: 4.1s\tremaining: 11.1s\n",
      "27:\tlearn: 0.0952456\ttotal: 4.25s\tremaining: 10.9s\n",
      "28:\tlearn: 0.0929437\ttotal: 4.39s\tremaining: 10.8s\n",
      "29:\tlearn: 0.0920429\ttotal: 4.54s\tremaining: 10.6s\n",
      "30:\tlearn: 0.0909860\ttotal: 4.69s\tremaining: 10.4s\n",
      "31:\tlearn: 0.0896562\ttotal: 4.83s\tremaining: 10.3s\n",
      "32:\tlearn: 0.0889136\ttotal: 4.97s\tremaining: 10.1s\n",
      "33:\tlearn: 0.0876830\ttotal: 5.12s\tremaining: 9.94s\n",
      "34:\tlearn: 0.0870001\ttotal: 5.26s\tremaining: 9.77s\n",
      "35:\tlearn: 0.0859566\ttotal: 5.4s\tremaining: 9.61s\n",
      "36:\tlearn: 0.0857036\ttotal: 5.55s\tremaining: 9.46s\n",
      "37:\tlearn: 0.0849340\ttotal: 5.7s\tremaining: 9.3s\n",
      "38:\tlearn: 0.0846782\ttotal: 5.84s\tremaining: 9.14s\n",
      "39:\tlearn: 0.0830569\ttotal: 5.99s\tremaining: 8.98s\n",
      "40:\tlearn: 0.0813996\ttotal: 6.13s\tremaining: 8.82s\n",
      "41:\tlearn: 0.0794755\ttotal: 6.27s\tremaining: 8.66s\n",
      "42:\tlearn: 0.0785516\ttotal: 6.42s\tremaining: 8.51s\n",
      "43:\tlearn: 0.0782149\ttotal: 6.57s\tremaining: 8.36s\n",
      "44:\tlearn: 0.0777220\ttotal: 6.71s\tremaining: 8.21s\n",
      "45:\tlearn: 0.0771682\ttotal: 6.86s\tremaining: 8.05s\n",
      "46:\tlearn: 0.0756611\ttotal: 7.01s\tremaining: 7.9s\n",
      "47:\tlearn: 0.0738102\ttotal: 7.15s\tremaining: 7.75s\n",
      "48:\tlearn: 0.0735333\ttotal: 7.3s\tremaining: 7.6s\n",
      "49:\tlearn: 0.0734027\ttotal: 7.44s\tremaining: 7.44s\n",
      "50:\tlearn: 0.0730748\ttotal: 7.59s\tremaining: 7.29s\n",
      "51:\tlearn: 0.0725641\ttotal: 7.76s\tremaining: 7.16s\n",
      "52:\tlearn: 0.0722197\ttotal: 7.93s\tremaining: 7.03s\n",
      "53:\tlearn: 0.0717944\ttotal: 8.12s\tremaining: 6.92s\n",
      "54:\tlearn: 0.0705777\ttotal: 8.28s\tremaining: 6.77s\n",
      "55:\tlearn: 0.0701971\ttotal: 8.55s\tremaining: 6.72s\n",
      "56:\tlearn: 0.0699409\ttotal: 8.81s\tremaining: 6.65s\n",
      "57:\tlearn: 0.0697268\ttotal: 9.03s\tremaining: 6.54s\n",
      "58:\tlearn: 0.0695366\ttotal: 9.2s\tremaining: 6.39s\n",
      "59:\tlearn: 0.0683877\ttotal: 9.35s\tremaining: 6.23s\n",
      "60:\tlearn: 0.0671908\ttotal: 9.49s\tremaining: 6.07s\n",
      "61:\tlearn: 0.0660057\ttotal: 9.68s\tremaining: 5.93s\n",
      "62:\tlearn: 0.0656497\ttotal: 9.88s\tremaining: 5.8s\n",
      "63:\tlearn: 0.0653969\ttotal: 10.1s\tremaining: 5.66s\n",
      "64:\tlearn: 0.0651198\ttotal: 10.2s\tremaining: 5.5s\n",
      "65:\tlearn: 0.0649283\ttotal: 10.4s\tremaining: 5.35s\n",
      "66:\tlearn: 0.0631387\ttotal: 10.6s\tremaining: 5.22s\n",
      "67:\tlearn: 0.0624258\ttotal: 10.8s\tremaining: 5.07s\n",
      "68:\tlearn: 0.0609521\ttotal: 10.9s\tremaining: 4.91s\n",
      "69:\tlearn: 0.0603755\ttotal: 11.1s\tremaining: 4.75s\n",
      "70:\tlearn: 0.0600089\ttotal: 11.2s\tremaining: 4.59s\n",
      "71:\tlearn: 0.0589866\ttotal: 11.4s\tremaining: 4.43s\n",
      "72:\tlearn: 0.0582697\ttotal: 11.5s\tremaining: 4.27s\n",
      "73:\tlearn: 0.0581024\ttotal: 11.7s\tremaining: 4.11s\n",
      "74:\tlearn: 0.0572777\ttotal: 11.8s\tremaining: 3.95s\n",
      "75:\tlearn: 0.0567135\ttotal: 12s\tremaining: 3.79s\n",
      "76:\tlearn: 0.0554762\ttotal: 12.1s\tremaining: 3.63s\n",
      "77:\tlearn: 0.0550937\ttotal: 12.3s\tremaining: 3.47s\n",
      "78:\tlearn: 0.0545975\ttotal: 12.4s\tremaining: 3.31s\n",
      "79:\tlearn: 0.0533874\ttotal: 12.6s\tremaining: 3.15s\n",
      "80:\tlearn: 0.0524797\ttotal: 12.7s\tremaining: 2.99s\n",
      "81:\tlearn: 0.0522507\ttotal: 12.9s\tremaining: 2.83s\n",
      "82:\tlearn: 0.0517181\ttotal: 13s\tremaining: 2.67s\n",
      "83:\tlearn: 0.0515530\ttotal: 13.2s\tremaining: 2.51s\n",
      "84:\tlearn: 0.0505957\ttotal: 13.3s\tremaining: 2.35s\n",
      "85:\tlearn: 0.0495313\ttotal: 13.5s\tremaining: 2.19s\n",
      "86:\tlearn: 0.0492364\ttotal: 13.6s\tremaining: 2.04s\n",
      "87:\tlearn: 0.0485598\ttotal: 13.8s\tremaining: 1.88s\n",
      "88:\tlearn: 0.0483148\ttotal: 13.9s\tremaining: 1.72s\n",
      "89:\tlearn: 0.0479227\ttotal: 14.1s\tremaining: 1.56s\n",
      "90:\tlearn: 0.0478022\ttotal: 14.3s\tremaining: 1.41s\n",
      "91:\tlearn: 0.0476014\ttotal: 14.4s\tremaining: 1.25s\n",
      "92:\tlearn: 0.0474438\ttotal: 14.6s\tremaining: 1.1s\n",
      "93:\tlearn: 0.0472635\ttotal: 14.7s\tremaining: 941ms\n",
      "94:\tlearn: 0.0465853\ttotal: 14.9s\tremaining: 784ms\n",
      "95:\tlearn: 0.0459250\ttotal: 15s\tremaining: 627ms\n",
      "96:\tlearn: 0.0449986\ttotal: 15.2s\tremaining: 470ms\n",
      "97:\tlearn: 0.0448522\ttotal: 15.3s\tremaining: 313ms\n",
      "98:\tlearn: 0.0446574\ttotal: 15.5s\tremaining: 157ms\n",
      "99:\tlearn: 0.0442167\ttotal: 15.7s\tremaining: 0us\n"
     ]
    },
    {
     "data": {
      "text/plain": [
       "<catboost.core.CatBoostClassifier at 0x13860b6d0>"
      ]
     },
     "execution_count": 5,
     "metadata": {},
     "output_type": "execute_result"
    }
   ],
   "source": [
    "X_train = train_data[\"movie_description\"]\n",
    "y_train = train_data[\"target\"]\n",
    "\n",
    "X_test = test_data[\"movie_description\"]\n",
    "\n",
    "\n",
    "model = CatBoostClassifier(\n",
    "    iterations=100,\n",
    "    depth=5,\n",
    "    random_seed=42\n",
    ")\n",
    "\n",
    "model.fit(\n",
    "    X_train,\n",
    "    y_train,\n",
    "    text_features=[0],\n",
    "    verbose=True\n",
    ")\n"
   ]
  },
  {
   "cell_type": "markdown",
   "metadata": {},
   "source": [
    "# Predict"
   ]
  },
  {
   "cell_type": "code",
   "execution_count": 6,
   "metadata": {
    "collapsed": false
   },
   "outputs": [],
   "source": [
    "# Preparing data in Pool format\n",
    "dataset_test = Pool(\n",
    "    data=X_test,\n",
    "    text_features=[0]\n",
    ")\n",
    "predict_classes = model.predict(dataset_test)\n",
    "predictions = predict_classes\n"
   ]
  },
  {
   "cell_type": "markdown",
   "metadata": {},
   "source": [
    "# Create submission"
   ]
  },
  {
   "cell_type": "code",
   "execution_count": 7,
   "metadata": {
    "collapsed": false
   },
   "outputs": [
    {
     "data": {
      "text/html": [
       "<div>\n",
       "<style scoped>\n",
       "    .dataframe tbody tr th:only-of-type {\n",
       "        vertical-align: middle;\n",
       "    }\n",
       "\n",
       "    .dataframe tbody tr th {\n",
       "        vertical-align: top;\n",
       "    }\n",
       "\n",
       "    .dataframe thead th {\n",
       "        text-align: right;\n",
       "    }\n",
       "</style>\n",
       "<table border=\"1\" class=\"dataframe\">\n",
       "  <thead>\n",
       "    <tr style=\"text-align: right;\">\n",
       "      <th></th>\n",
       "      <th>id</th>\n",
       "      <th>target</th>\n",
       "    </tr>\n",
       "  </thead>\n",
       "  <tbody>\n",
       "    <tr>\n",
       "      <th>0</th>\n",
       "      <td>133529667241314002934985813983134580070</td>\n",
       "      <td>5</td>\n",
       "    </tr>\n",
       "    <tr>\n",
       "      <th>1</th>\n",
       "      <td>133529693386607632642217219852638190950</td>\n",
       "      <td>5</td>\n",
       "    </tr>\n",
       "    <tr>\n",
       "      <th>2</th>\n",
       "      <td>133529737754378640630246272237250379110</td>\n",
       "      <td>5</td>\n",
       "    </tr>\n",
       "    <tr>\n",
       "      <th>3</th>\n",
       "      <td>133529756769137644053687294687798459750</td>\n",
       "      <td>1</td>\n",
       "    </tr>\n",
       "    <tr>\n",
       "      <th>4</th>\n",
       "      <td>133529828866765532034234504812793265510</td>\n",
       "      <td>5</td>\n",
       "    </tr>\n",
       "  </tbody>\n",
       "</table>\n",
       "</div>"
      ],
      "text/plain": [
       "                                        id  target\n",
       "0  133529667241314002934985813983134580070       5\n",
       "1  133529693386607632642217219852638190950       5\n",
       "2  133529737754378640630246272237250379110       5\n",
       "3  133529756769137644053687294687798459750       1\n",
       "4  133529828866765532034234504812793265510       5"
      ]
     },
     "execution_count": 7,
     "metadata": {},
     "output_type": "execute_result"
    }
   ],
   "source": [
    "sample_submission = pd.read_csv(os.path.join(path, \"sample_submission.csv\"))\n",
    "sample_submission[\"target\"] = predictions\n",
    "sample_submission.head()\n"
   ]
  },
  {
   "cell_type": "code",
   "execution_count": 8,
   "metadata": {
    "collapsed": false
   },
   "outputs": [],
   "source": [
    "sample_submission.to_csv(\"submission.csv\", index=False)\n"
   ]
  },
  {
   "cell_type": "code",
   "execution_count": null,
   "metadata": {},
   "outputs": [],
   "source": []
  }
 ],
 "metadata": {
  "kernelspec": {
   "display_name": "Python 3.7.9 ('venv': venv)",
   "language": "python",
   "name": "python3"
  },
  "language_info": {
   "codemirror_mode": {
    "name": "ipython",
    "version": 3
   },
   "file_extension": ".py",
   "mimetype": "text/x-python",
   "name": "python",
   "nbconvert_exporter": "python",
   "pygments_lexer": "ipython3",
   "version": "3.10.0"
  },
  "vscode": {
   "interpreter": {
    "hash": "4ce47e61e2a197e18f6178d2b52c72741babf3e522a6ab2c8e52c7be76b98a41"
   }
  }
 },
 "nbformat": 4,
 "nbformat_minor": 0
}
