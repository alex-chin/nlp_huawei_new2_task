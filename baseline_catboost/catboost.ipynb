{
 "cells": [
  {
   "cell_type": "code",
   "execution_count": 3,
   "metadata": {
    "collapsed": true
   },
   "outputs": [],
   "source": [
    "% load_ext autoreload\n",
    "% autoreload 2"
   ]
  },
  {
   "cell_type": "markdown",
   "source": [
    "# Import libs"
   ],
   "metadata": {
    "collapsed": false
   }
  },
  {
   "cell_type": "code",
   "execution_count": 11,
   "outputs": [],
   "source": [
    "import pandas as pd\n",
    "import numpy as np\n",
    "from catboost import cv, Pool\n",
    "from sklearn.metrics import classification_report\n",
    "from sklearn.preprocessing import LabelEncoder"
   ],
   "metadata": {
    "collapsed": false
   }
  },
  {
   "cell_type": "markdown",
   "source": [
    "# Reading data"
   ],
   "metadata": {
    "collapsed": false
   }
  },
  {
   "cell_type": "code",
   "execution_count": 5,
   "outputs": [
    {
     "name": "stdout",
     "output_type": "stream",
     "text": [
      "Number of rows and columns in the train data set: (5512, 3)\n",
      "Number of rows and columns in the test data set: (788, 3)\n"
     ]
    }
   ],
   "source": [
    "train_data = pd.read_csv('../train.csv')\n",
    "test_data = pd.read_csv('../test-with-targets.csv')\n",
    "print(f'Number of rows and columns in the train data set: {train_data.shape}')\n",
    "print(f'Number of rows and columns in the test data set: {test_data.shape}')"
   ],
   "metadata": {
    "collapsed": false
   }
  },
  {
   "cell_type": "code",
   "execution_count": 12,
   "outputs": [
    {
     "data": {
      "text/plain": "      movie_name                                  movie_description  target\n0     Hellraiser  A new take on Clive Barker's 1987 horror class...  Horror\n1  Hocus Pocus 2  It's been 29 years since someone lit the Black...    Kids\n2              X  In 1979, a group of young filmmakers set out t...  Horror\n3          Piggy  With the summer sun beating down on her rural ...  Horror\n4     Deadstream  After a public controversy left him disgraced ...  Horror",
      "text/html": "<div>\n<style scoped>\n    .dataframe tbody tr th:only-of-type {\n        vertical-align: middle;\n    }\n\n    .dataframe tbody tr th {\n        vertical-align: top;\n    }\n\n    .dataframe thead th {\n        text-align: right;\n    }\n</style>\n<table border=\"1\" class=\"dataframe\">\n  <thead>\n    <tr style=\"text-align: right;\">\n      <th></th>\n      <th>movie_name</th>\n      <th>movie_description</th>\n      <th>target</th>\n    </tr>\n  </thead>\n  <tbody>\n    <tr>\n      <th>0</th>\n      <td>Hellraiser</td>\n      <td>A new take on Clive Barker's 1987 horror class...</td>\n      <td>Horror</td>\n    </tr>\n    <tr>\n      <th>1</th>\n      <td>Hocus Pocus 2</td>\n      <td>It's been 29 years since someone lit the Black...</td>\n      <td>Kids</td>\n    </tr>\n    <tr>\n      <th>2</th>\n      <td>X</td>\n      <td>In 1979, a group of young filmmakers set out t...</td>\n      <td>Horror</td>\n    </tr>\n    <tr>\n      <th>3</th>\n      <td>Piggy</td>\n      <td>With the summer sun beating down on her rural ...</td>\n      <td>Horror</td>\n    </tr>\n    <tr>\n      <th>4</th>\n      <td>Deadstream</td>\n      <td>After a public controversy left him disgraced ...</td>\n      <td>Horror</td>\n    </tr>\n  </tbody>\n</table>\n</div>"
     },
     "execution_count": 12,
     "metadata": {},
     "output_type": "execute_result"
    }
   ],
   "source": [
    "train_data.head()"
   ],
   "metadata": {
    "collapsed": false
   }
  },
  {
   "cell_type": "code",
   "execution_count": 13,
   "outputs": [
    {
     "data": {
      "text/plain": "        movie_name                                     movie_description  \\\n             count unique                     top freq             count   \ntarget                                                                     \nAction         704    697  Assault on Precinct 13    2               704   \nComedy        1269   1264     Father of the Bride    2              1269   \nDrama         1202   1196            Little Women    2              1202   \nHorror         974    942                  Carrie    3               974   \nKids           552    539               Pinocchio    3               552   \nMystery        795    770                   Alone    3               795   \n\n                                                                        \n        unique                                                top freq  \ntarget                                                                  \nAction     703  Wisecracking mercenary Deadpool meets Russell,...    2  \nComedy    1269  To show support for his neighborhood friends s...    1  \nDrama     1202  Vince used to be in the hottest boy band aroun...    1  \nHorror     974  A new take on Clive Barker's 1987 horror class...    1  \nKids       552  It's been 29 years since someone lit the Black...    1  \nMystery    794  A mysterious figure stalks a pop star when she...    2  ",
      "text/html": "<div>\n<style scoped>\n    .dataframe tbody tr th:only-of-type {\n        vertical-align: middle;\n    }\n\n    .dataframe tbody tr th {\n        vertical-align: top;\n    }\n\n    .dataframe thead tr th {\n        text-align: left;\n    }\n\n    .dataframe thead tr:last-of-type th {\n        text-align: right;\n    }\n</style>\n<table border=\"1\" class=\"dataframe\">\n  <thead>\n    <tr>\n      <th></th>\n      <th colspan=\"4\" halign=\"left\">movie_name</th>\n      <th colspan=\"4\" halign=\"left\">movie_description</th>\n    </tr>\n    <tr>\n      <th></th>\n      <th>count</th>\n      <th>unique</th>\n      <th>top</th>\n      <th>freq</th>\n      <th>count</th>\n      <th>unique</th>\n      <th>top</th>\n      <th>freq</th>\n    </tr>\n    <tr>\n      <th>target</th>\n      <th></th>\n      <th></th>\n      <th></th>\n      <th></th>\n      <th></th>\n      <th></th>\n      <th></th>\n      <th></th>\n    </tr>\n  </thead>\n  <tbody>\n    <tr>\n      <th>Action</th>\n      <td>704</td>\n      <td>697</td>\n      <td>Assault on Precinct 13</td>\n      <td>2</td>\n      <td>704</td>\n      <td>703</td>\n      <td>Wisecracking mercenary Deadpool meets Russell,...</td>\n      <td>2</td>\n    </tr>\n    <tr>\n      <th>Comedy</th>\n      <td>1269</td>\n      <td>1264</td>\n      <td>Father of the Bride</td>\n      <td>2</td>\n      <td>1269</td>\n      <td>1269</td>\n      <td>To show support for his neighborhood friends s...</td>\n      <td>1</td>\n    </tr>\n    <tr>\n      <th>Drama</th>\n      <td>1202</td>\n      <td>1196</td>\n      <td>Little Women</td>\n      <td>2</td>\n      <td>1202</td>\n      <td>1202</td>\n      <td>Vince used to be in the hottest boy band aroun...</td>\n      <td>1</td>\n    </tr>\n    <tr>\n      <th>Horror</th>\n      <td>974</td>\n      <td>942</td>\n      <td>Carrie</td>\n      <td>3</td>\n      <td>974</td>\n      <td>974</td>\n      <td>A new take on Clive Barker's 1987 horror class...</td>\n      <td>1</td>\n    </tr>\n    <tr>\n      <th>Kids</th>\n      <td>552</td>\n      <td>539</td>\n      <td>Pinocchio</td>\n      <td>3</td>\n      <td>552</td>\n      <td>552</td>\n      <td>It's been 29 years since someone lit the Black...</td>\n      <td>1</td>\n    </tr>\n    <tr>\n      <th>Mystery</th>\n      <td>795</td>\n      <td>770</td>\n      <td>Alone</td>\n      <td>3</td>\n      <td>795</td>\n      <td>794</td>\n      <td>A mysterious figure stalks a pop star when she...</td>\n      <td>2</td>\n    </tr>\n  </tbody>\n</table>\n</div>"
     },
     "execution_count": 13,
     "metadata": {},
     "output_type": "execute_result"
    }
   ],
   "source": [
    "train_data.groupby('target').describe()"
   ],
   "metadata": {
    "collapsed": false
   }
  },
  {
   "cell_type": "code",
   "execution_count": 15,
   "outputs": [
    {
     "data": {
      "text/plain": "Empty DataFrame\nColumns: [movie_name, movie_description, target]\nIndex: []",
      "text/html": "<div>\n<style scoped>\n    .dataframe tbody tr th:only-of-type {\n        vertical-align: middle;\n    }\n\n    .dataframe tbody tr th {\n        vertical-align: top;\n    }\n\n    .dataframe thead th {\n        text-align: right;\n    }\n</style>\n<table border=\"1\" class=\"dataframe\">\n  <thead>\n    <tr style=\"text-align: right;\">\n      <th></th>\n      <th>movie_name</th>\n      <th>movie_description</th>\n      <th>target</th>\n    </tr>\n  </thead>\n  <tbody>\n  </tbody>\n</table>\n</div>"
     },
     "execution_count": 15,
     "metadata": {},
     "output_type": "execute_result"
    }
   ],
   "source": [
    "train_data[train_data[\"movie_description\"].isna()]"
   ],
   "metadata": {
    "collapsed": false
   }
  },
  {
   "cell_type": "markdown",
   "source": [
    "# Getting rid of NaN data"
   ],
   "metadata": {
    "collapsed": false
   }
  },
  {
   "cell_type": "code",
   "execution_count": 9,
   "outputs": [
    {
     "data": {
      "text/plain": "Empty DataFrame\nColumns: [movie_name, movie_description, target]\nIndex: []",
      "text/html": "<div>\n<style scoped>\n    .dataframe tbody tr th:only-of-type {\n        vertical-align: middle;\n    }\n\n    .dataframe tbody tr th {\n        vertical-align: top;\n    }\n\n    .dataframe thead th {\n        text-align: right;\n    }\n</style>\n<table border=\"1\" class=\"dataframe\">\n  <thead>\n    <tr style=\"text-align: right;\">\n      <th></th>\n      <th>movie_name</th>\n      <th>movie_description</th>\n      <th>target</th>\n    </tr>\n  </thead>\n  <tbody>\n  </tbody>\n</table>\n</div>"
     },
     "execution_count": 9,
     "metadata": {},
     "output_type": "execute_result"
    }
   ],
   "source": [
    "train_data = train_data[train_data[\"movie_description\"].notna()]\n",
    "train_data[train_data[\"movie_description\"].isna()]"
   ],
   "metadata": {
    "collapsed": false
   }
  },
  {
   "cell_type": "code",
   "execution_count": 16,
   "outputs": [],
   "source": [
    "le = LabelEncoder()  # for label encoding!\n",
    "\n",
    "y_train = le.fit_transform(train_data['target'])\n",
    "y_test = le.transform(test_data['target'])"
   ],
   "metadata": {
    "collapsed": false
   }
  },
  {
   "cell_type": "markdown",
   "source": [
    "# Cross-validation and returning best model"
   ],
   "metadata": {
    "collapsed": false
   }
  },
  {
   "cell_type": "code",
   "execution_count": 17,
   "outputs": [],
   "source": [
    "def tune_catboost(x_train, y_train_, **kwargs):\n",
    "    cv_data = Pool(\n",
    "        data=x_train,\n",
    "        label=y_train_,\n",
    "        **kwargs\n",
    "    )\n",
    "    params = {\n",
    "        'iterations': 200,\n",
    "        'depth': 2,\n",
    "        'loss_function': 'MultiClass',\n",
    "        'verbose': False,\n",
    "        'random_seed': 42\n",
    "    }\n",
    "    return cv(\n",
    "        cv_data,\n",
    "        params,\n",
    "        fold_count=3,\n",
    "        plot=True,\n",
    "        return_models=True\n",
    "    )"
   ],
   "metadata": {
    "collapsed": false
   }
  },
  {
   "cell_type": "code",
   "execution_count": 19,
   "outputs": [
    {
     "data": {
      "text/plain": "0       A new take on Clive Barker's 1987 horror class...\n1       It's been 29 years since someone lit the Black...\n2       In 1979, a group of young filmmakers set out t...\n3       With the summer sun beating down on her rural ...\n4       After a public controversy left him disgraced ...\n                              ...                        \n5507    Northern Ireland, 1960: Father Thomas Riley an...\n5508    Traveling in Ireland, New York reporter Stephe...\n5509    Sebastian Cabot narrates the adventures of bum...\n5510    Unspoken class barriers that exist within a ho...\n5511    Acting couple Joseph (Jack Benny) and Maria Tu...\nName: movie_description, Length: 5496, dtype: object"
     },
     "execution_count": 19,
     "metadata": {},
     "output_type": "execute_result"
    }
   ],
   "source": [
    "X_train = train_data['movie_description']\n",
    "X_test = test_data['movie_description']\n",
    "X_train"
   ],
   "metadata": {
    "collapsed": false
   }
  },
  {
   "cell_type": "code",
   "execution_count": 21,
   "outputs": [
    {
     "data": {
      "text/plain": "MetricVisualizer(layout=Layout(align_self='stretch', height='500px'))",
      "application/vnd.jupyter.widget-view+json": {
       "version_major": 2,
       "version_minor": 0,
       "model_id": "1e9471bd79ad437cbeb132d3854a47a2"
      }
     },
     "metadata": {},
     "output_type": "display_data"
    },
    {
     "name": "stdout",
     "output_type": "stream",
     "text": [
      "Training on fold [0/3]\n",
      "\n",
      "bestTest = 1.204157639\n",
      "bestIteration = 399\n",
      "\n",
      "Training on fold [1/3]\n",
      "\n",
      "bestTest = 1.198274359\n",
      "bestIteration = 399\n",
      "\n",
      "Training on fold [2/3]\n",
      "\n",
      "bestTest = 1.233432925\n",
      "bestIteration = 398\n",
      "\n"
     ]
    }
   ],
   "source": [
    "scores, models = tune_catboost(\n",
    "    X_train,\n",
    "    y_train,\n",
    "    text_features=[0]  # dataframe contains only 1 text feature\n",
    ")"
   ],
   "metadata": {
    "collapsed": false
   }
  },
  {
   "cell_type": "code",
   "execution_count": 22,
   "outputs": [],
   "source": [
    "model = models[-1] # select model from last fold"
   ],
   "metadata": {
    "collapsed": false
   }
  },
  {
   "cell_type": "markdown",
   "source": [
    "### Pool is an internal data structure that is used by CatBoost"
   ],
   "metadata": {
    "collapsed": false
   }
  },
  {
   "cell_type": "code",
   "execution_count": 24,
   "outputs": [],
   "source": [
    "cv_dataset_test = Pool(\n",
    "    data=X_test,\n",
    "    label=y_test,\n",
    "    text_features=[0]\n",
    ")"
   ],
   "metadata": {
    "collapsed": false
   }
  },
  {
   "cell_type": "code",
   "execution_count": 25,
   "outputs": [],
   "source": [
    "res2 = classification_report(\n",
    "    y_test,\n",
    "    np.argmax(model.predict(cv_dataset_test), axis=1),\n",
    "    target_names=le.classes_\n",
    ")"
   ],
   "metadata": {
    "collapsed": false
   }
  },
  {
   "cell_type": "code",
   "execution_count": 26,
   "outputs": [
    {
     "name": "stdout",
     "output_type": "stream",
     "text": [
      "              precision    recall  f1-score   support\n",
      "\n",
      "      Action       0.59      0.60      0.60       101\n",
      "      Comedy       0.51      0.66      0.58       182\n",
      "       Drama       0.58      0.65      0.61       172\n",
      "      Horror       0.64      0.67      0.66       140\n",
      "        Kids       0.73      0.47      0.57        79\n",
      "     Mystery       0.66      0.33      0.44       114\n",
      "\n",
      "    accuracy                           0.59       788\n",
      "   macro avg       0.62      0.56      0.58       788\n",
      "weighted avg       0.60      0.59      0.58       788\n",
      "\n"
     ]
    }
   ],
   "source": [
    "print(res2)"
   ],
   "metadata": {
    "collapsed": false
   }
  }
 ],
 "metadata": {
  "kernelspec": {
   "display_name": "Python 3",
   "language": "python",
   "name": "python3"
  },
  "language_info": {
   "codemirror_mode": {
    "name": "ipython",
    "version": 2
   },
   "file_extension": ".py",
   "mimetype": "text/x-python",
   "name": "python",
   "nbconvert_exporter": "python",
   "pygments_lexer": "ipython2",
   "version": "2.7.6"
  }
 },
 "nbformat": 4,
 "nbformat_minor": 0
}
